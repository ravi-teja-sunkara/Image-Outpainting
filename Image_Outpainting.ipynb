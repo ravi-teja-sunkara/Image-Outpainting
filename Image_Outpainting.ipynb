{
  "nbformat": 4,
  "nbformat_minor": 0,
  "metadata": {
    "colab": {
      "name": "Image Outpainting.ipynb",
      "provenance": [],
      "collapsed_sections": [],
      "machine_shape": "hm"
    },
    "kernelspec": {
      "name": "python3",
      "display_name": "Python 3"
    },
    "accelerator": "GPU"
  },
  "cells": [
    {
      "cell_type": "code",
      "metadata": {
        "id": "r6xW7OW66GAw",
        "colab_type": "code",
        "outputId": "bda44b27-6692-4b85-89ce-90337f0be39d",
        "colab": {
          "base_uri": "https://localhost:8080/",
          "height": 121
        }
      },
      "source": [
        "from google.colab import drive\n",
        "drive.mount('/content/drive')"
      ],
      "execution_count": 1,
      "outputs": [
        {
          "output_type": "stream",
          "text": [
            "Go to this URL in a browser: https://accounts.google.com/o/oauth2/auth?client_id=947318989803-6bn6qk8qdgf4n4g3pfee6491hc0brc4i.apps.googleusercontent.com&redirect_uri=urn%3aietf%3awg%3aoauth%3a2.0%3aoob&response_type=code&scope=email%20https%3a%2f%2fwww.googleapis.com%2fauth%2fdocs.test%20https%3a%2f%2fwww.googleapis.com%2fauth%2fdrive%20https%3a%2f%2fwww.googleapis.com%2fauth%2fdrive.photos.readonly%20https%3a%2f%2fwww.googleapis.com%2fauth%2fpeopleapi.readonly\n",
            "\n",
            "Enter your authorization code:\n",
            "··········\n",
            "Mounted at /content/drive\n"
          ],
          "name": "stdout"
        }
      ]
    },
    {
      "cell_type": "code",
      "metadata": {
        "id": "_LYWQ_EU4VQ9",
        "colab_type": "code",
        "outputId": "f87737a7-982a-407c-a084-6f2b8a3ddbcf",
        "colab": {
          "base_uri": "https://localhost:8080/",
          "height": 319
        }
      },
      "source": [
        "!pip install git+https://www.github.com/keras-team/keras-contrib.git"
      ],
      "execution_count": 4,
      "outputs": [
        {
          "output_type": "stream",
          "text": [
            "Collecting git+https://www.github.com/keras-team/keras-contrib.git\n",
            "  Cloning https://www.github.com/keras-team/keras-contrib.git to /tmp/pip-req-build-pfruf30e\n",
            "  Running command git clone -q https://www.github.com/keras-team/keras-contrib.git /tmp/pip-req-build-pfruf30e\n",
            "Requirement already satisfied: keras in /usr/local/lib/python3.6/dist-packages (from keras-contrib==2.0.8) (2.2.5)\n",
            "Requirement already satisfied: h5py in /usr/local/lib/python3.6/dist-packages (from keras->keras-contrib==2.0.8) (2.8.0)\n",
            "Requirement already satisfied: six>=1.9.0 in /usr/local/lib/python3.6/dist-packages (from keras->keras-contrib==2.0.8) (1.12.0)\n",
            "Requirement already satisfied: keras-preprocessing>=1.1.0 in /usr/local/lib/python3.6/dist-packages (from keras->keras-contrib==2.0.8) (1.1.0)\n",
            "Requirement already satisfied: scipy>=0.14 in /usr/local/lib/python3.6/dist-packages (from keras->keras-contrib==2.0.8) (1.3.2)\n",
            "Requirement already satisfied: keras-applications>=1.0.8 in /usr/local/lib/python3.6/dist-packages (from keras->keras-contrib==2.0.8) (1.0.8)\n",
            "Requirement already satisfied: pyyaml in /usr/local/lib/python3.6/dist-packages (from keras->keras-contrib==2.0.8) (3.13)\n",
            "Requirement already satisfied: numpy>=1.9.1 in /usr/local/lib/python3.6/dist-packages (from keras->keras-contrib==2.0.8) (1.17.4)\n",
            "Building wheels for collected packages: keras-contrib\n",
            "  Building wheel for keras-contrib (setup.py) ... \u001b[?25l\u001b[?25hdone\n",
            "  Created wheel for keras-contrib: filename=keras_contrib-2.0.8-cp36-none-any.whl size=101065 sha256=122fd5d7591c8120d165b66774c7b964a14c72a5e5f2462be0a15d5948c234f9\n",
            "  Stored in directory: /tmp/pip-ephem-wheel-cache-ttq6kqsj/wheels/11/27/c8/4ed56de7b55f4f61244e2dc6ef3cdbaff2692527a2ce6502ba\n",
            "Successfully built keras-contrib\n",
            "Installing collected packages: keras-contrib\n",
            "Successfully installed keras-contrib-2.0.8\n"
          ],
          "name": "stdout"
        }
      ]
    },
    {
      "cell_type": "code",
      "metadata": {
        "id": "BOBeqMOr6Z-o",
        "colab_type": "code",
        "colab": {}
      },
      "source": [
        "import cv2\n",
        "import numpy as np\n",
        "import random\n",
        "import glob\n",
        "import os\n",
        "import imghdr\n",
        "import itertools\n",
        "import math\n",
        "import json\n",
        "from PIL import Image\n",
        "\n",
        "import matplotlib.pyplot as plt\n",
        "from keras.preprocessing.image import (ImageDataGenerator, array_to_img, img_to_array, load_img)\n",
        "from keras.utils import generic_utils\n",
        "\n",
        "import PIL\n",
        "import keras\n",
        "import keras.backend as K\n",
        "\n",
        "from keras.models import Sequential, Model, load_model, model_from_json\n",
        "from keras.layers import Dense, Flatten, Dropout, Activation, LeakyReLU, Reshape, Concatenate, Input\n",
        "from keras.layers import Conv2D, UpSampling2D, Conv2DTranspose, MaxPool2D\n",
        "from keras.layers.normalization import BatchNormalization\n",
        "from keras import optimizers, losses\n",
        "from copy import deepcopy\n",
        "\n",
        "try:\n",
        "    from keras_contrib.layers.normalization import InstanceNormalization\n",
        "except Exception:\n",
        "    from keras_contrib.layers.normalization.instancenormalization import InstanceNormalization\n",
        "\n",
        "from IPython.display import display, Image, Markdown, SVG\n",
        "from keras.utils.vis_utils import model_to_dot"
      ],
      "execution_count": 0,
      "outputs": []
    },
    {
      "cell_type": "markdown",
      "metadata": {
        "id": "S0t-DlUNrYeT",
        "colab_type": "text"
      },
      "source": [
        "# Creating the Model"
      ]
    },
    {
      "cell_type": "code",
      "metadata": {
        "id": "-jbXSU6WHUOa",
        "colab_type": "code",
        "colab": {}
      },
      "source": [
        "# Saving Models and global parameters\n",
        "TIME_INTERVAL = 1\n",
        "SHOW_SUMMARY = True\n",
        "\n",
        "IMAGE_SZ = 128\n",
        "INPUT_SHAPE = (IMAGE_SZ, IMAGE_SZ, 3)\n",
        "EPOCHS = 5\n",
        "BATCH_SIZE = 1\n",
        "\n",
        "MASK_PERCENTAGE = 0.25 # for a 128x128 image it will be 32 pixels on both sides i.e., left and right so the unmasked image will be 128x64 --> center portion if I understood correctly\n",
        "\n",
        "CHECKPOINT = '/content/drive/My Drive/Colab Notebooks/CSE676: Deep Learning/Project 2/model/'\n",
        "SAVED_IMAGES = '/content/drive/My Drive/Colab Notebooks/CSE676: Deep Learning/Project 2/saved images'"
      ],
      "execution_count": 0,
      "outputs": []
    },
    {
      "cell_type": "markdown",
      "metadata": {
        "id": "TEgdHXtwk8lU",
        "colab_type": "text"
      },
      "source": [
        "## Discriminator (Local + Global)"
      ]
    },
    {
      "cell_type": "code",
      "metadata": {
        "id": "BGT-x6FbuNBy",
        "colab_type": "code",
        "colab": {}
      },
      "source": [
        "def discriminator_block(layer_input, filters, kernel_size = 5, strides = 2, padding = 'same', activation='leakyrelu', dropout_rate=0.25, norm=True):\n",
        "    conv = Conv2D(filters=filters, kernel_size=kernel_size, strides=strides, padding=padding)(layer_input)\n",
        "    if activation == 'leakyrelu':\n",
        "        conv = LeakyReLU(alpha=0.2)(conv)\n",
        "    if dropout_rate:\n",
        "        conv = Dropout(rate=dropout_rate)(conv)\n",
        "    if norm:\n",
        "        conv = InstanceNormalization()(conv)\n",
        "    return conv\n",
        "\n",
        "def local_build_discriminator(local_disc_input):\n",
        "    # disc_input = Input(shape = (IMAGE_SZ, IMAGE_SZ//2, 3)) # only center part\n",
        "    model = discriminator_block(local_disc_input, 32, 5, norm=False)\n",
        "    model = discriminator_block(model, 64, 5, 2)\n",
        "    model = discriminator_block(model, 64, 5, 2)\n",
        "    model = discriminator_block(model, 64, 5, 2)\n",
        "\n",
        "    model = Flatten()(model)\n",
        "    local_FC = Dense(512, activation='relu')(model)\n",
        "    # output = Dense(1, activation='sigmoid')(FC)\n",
        "\n",
        "    return local_FC\n",
        "\n",
        "def global_build_discriminator(global_disc_input):\n",
        "    # disc_input = Input(shape = (IMAGE_SZ, IMAGE_SZ, 3))\n",
        "    model = discriminator_block(global_disc_input, 32, 5, norm=False)\n",
        "    model = discriminator_block(model, 64, 5, 2)\n",
        "    model = discriminator_block(model, 64, 5, 2)\n",
        "    model = discriminator_block(model, 64, 5, 2)\n",
        "    model = discriminator_block(model, 64, 5, 2)\n",
        "\n",
        "    model = Flatten()(model)\n",
        "    global_FC = Dense(512, activation='relu')(model)\n",
        "\n",
        "    return global_FC"
      ],
      "execution_count": 0,
      "outputs": []
    },
    {
      "cell_type": "code",
      "metadata": {
        "id": "SWfhvg7RxjR7",
        "colab_type": "code",
        "colab": {}
      },
      "source": [
        "def build_discriminator():\n",
        "    discriminator_input = Input(shape=(IMAGE_SZ, IMAGE_SZ, 3))\n",
        "\n",
        "    local_discriminator_left = local_build_discriminator(keras.layers.Lambda(lambda x: x[:, :, :IMAGE_SZ//2, :])(discriminator_input))\n",
        "    local_discriminator_right = local_build_discriminator(keras.layers.Lambda(lambda x: x[:, :, -IMAGE_SZ//2:, :])(discriminator_input))\n",
        "\n",
        "    global_discriminator = global_build_discriminator(discriminator_input)\n",
        "\n",
        "    concatenator = Concatenate()([global_discriminator, local_discriminator_left, local_discriminator_right])\n",
        "    discriminator_output = Dense(1, activation='sigmoid')(concatenator)\n",
        "\n",
        "    return Model(discriminator_input, discriminator_output)"
      ],
      "execution_count": 0,
      "outputs": []
    },
    {
      "cell_type": "code",
      "metadata": {
        "id": "tNaWEeBs8qjj",
        "colab_type": "code",
        "outputId": "a6c450b0-1514-403f-e7ad-729a4517ae7c",
        "colab": {
          "base_uri": "https://localhost:8080/",
          "height": 1000
        }
      },
      "source": [
        "# local discriminator initialization\n",
        "discriminator = build_discriminator()\n",
        "discriminator.trainable = False\n",
        "discriminator.compile(loss = losses.MSE, optimizer = optimizers.Adam(lr=0.0001, beta_1=0.5))\n",
        "discriminator.summary()\n",
        "\n",
        "# # Saving the Summary and Architecture\n",
        "# with open('./drive/My Drive/Colab Notebooks/aml_proj3/inception_resnetv2/model/discriminator_summary.txt', 'w') as f:\n",
        "#     with redirect_stdout(f):\n",
        "#         discriminator.summary()\n",
        "# plot_model(discriminator, to_file='./drive/My Drive/Colab Notebooks/aml_proj3/inception_resnetv2/model/discriminator_model.png')\n",
        "SVG(model_to_dot(discriminator, show_layer_names=True, show_shapes=True, dpi=60).create(prog='dot', format='svg'))"
      ],
      "execution_count": 9,
      "outputs": [
        {
          "output_type": "stream",
          "text": [
            "WARNING:tensorflow:From /usr/local/lib/python3.6/dist-packages/keras/backend/tensorflow_backend.py:66: The name tf.get_default_graph is deprecated. Please use tf.compat.v1.get_default_graph instead.\n",
            "\n",
            "WARNING:tensorflow:From /usr/local/lib/python3.6/dist-packages/keras/backend/tensorflow_backend.py:541: The name tf.placeholder is deprecated. Please use tf.compat.v1.placeholder instead.\n",
            "\n",
            "WARNING:tensorflow:From /usr/local/lib/python3.6/dist-packages/keras/backend/tensorflow_backend.py:4432: The name tf.random_uniform is deprecated. Please use tf.random.uniform instead.\n",
            "\n",
            "WARNING:tensorflow:From /usr/local/lib/python3.6/dist-packages/keras/backend/tensorflow_backend.py:148: The name tf.placeholder_with_default is deprecated. Please use tf.compat.v1.placeholder_with_default instead.\n",
            "\n",
            "WARNING:tensorflow:From /usr/local/lib/python3.6/dist-packages/keras/backend/tensorflow_backend.py:3733: calling dropout (from tensorflow.python.ops.nn_ops) with keep_prob is deprecated and will be removed in a future version.\n",
            "Instructions for updating:\n",
            "Please use `rate` instead of `keep_prob`. Rate should be set to `rate = 1 - keep_prob`.\n",
            "WARNING:tensorflow:From /usr/local/lib/python3.6/dist-packages/keras/optimizers.py:793: The name tf.train.Optimizer is deprecated. Please use tf.compat.v1.train.Optimizer instead.\n",
            "\n",
            "Model: \"model_1\"\n",
            "__________________________________________________________________________________________________\n",
            "Layer (type)                    Output Shape         Param #     Connected to                     \n",
            "==================================================================================================\n",
            "input_1 (InputLayer)            (None, 128, 128, 3)  0                                            \n",
            "__________________________________________________________________________________________________\n",
            "conv2d_9 (Conv2D)               (None, 64, 64, 32)   2432        input_1[0][0]                    \n",
            "__________________________________________________________________________________________________\n",
            "leaky_re_lu_9 (LeakyReLU)       (None, 64, 64, 32)   0           conv2d_9[0][0]                   \n",
            "__________________________________________________________________________________________________\n",
            "dropout_9 (Dropout)             (None, 64, 64, 32)   0           leaky_re_lu_9[0][0]              \n",
            "__________________________________________________________________________________________________\n",
            "conv2d_10 (Conv2D)              (None, 32, 32, 64)   51264       dropout_9[0][0]                  \n",
            "__________________________________________________________________________________________________\n",
            "lambda_1 (Lambda)               (None, 128, 64, 3)   0           input_1[0][0]                    \n",
            "__________________________________________________________________________________________________\n",
            "lambda_2 (Lambda)               (None, 128, 64, 3)   0           input_1[0][0]                    \n",
            "__________________________________________________________________________________________________\n",
            "leaky_re_lu_10 (LeakyReLU)      (None, 32, 32, 64)   0           conv2d_10[0][0]                  \n",
            "__________________________________________________________________________________________________\n",
            "conv2d_1 (Conv2D)               (None, 64, 32, 32)   2432        lambda_1[0][0]                   \n",
            "__________________________________________________________________________________________________\n",
            "conv2d_5 (Conv2D)               (None, 64, 32, 32)   2432        lambda_2[0][0]                   \n",
            "__________________________________________________________________________________________________\n",
            "dropout_10 (Dropout)            (None, 32, 32, 64)   0           leaky_re_lu_10[0][0]             \n",
            "__________________________________________________________________________________________________\n",
            "leaky_re_lu_1 (LeakyReLU)       (None, 64, 32, 32)   0           conv2d_1[0][0]                   \n",
            "__________________________________________________________________________________________________\n",
            "leaky_re_lu_5 (LeakyReLU)       (None, 64, 32, 32)   0           conv2d_5[0][0]                   \n",
            "__________________________________________________________________________________________________\n",
            "instance_normalization_7 (Insta (None, 32, 32, 64)   2           dropout_10[0][0]                 \n",
            "__________________________________________________________________________________________________\n",
            "dropout_1 (Dropout)             (None, 64, 32, 32)   0           leaky_re_lu_1[0][0]              \n",
            "__________________________________________________________________________________________________\n",
            "dropout_5 (Dropout)             (None, 64, 32, 32)   0           leaky_re_lu_5[0][0]              \n",
            "__________________________________________________________________________________________________\n",
            "conv2d_11 (Conv2D)              (None, 16, 16, 64)   102464      instance_normalization_7[0][0]   \n",
            "__________________________________________________________________________________________________\n",
            "conv2d_2 (Conv2D)               (None, 32, 16, 64)   51264       dropout_1[0][0]                  \n",
            "__________________________________________________________________________________________________\n",
            "conv2d_6 (Conv2D)               (None, 32, 16, 64)   51264       dropout_5[0][0]                  \n",
            "__________________________________________________________________________________________________\n",
            "leaky_re_lu_11 (LeakyReLU)      (None, 16, 16, 64)   0           conv2d_11[0][0]                  \n",
            "__________________________________________________________________________________________________\n",
            "leaky_re_lu_2 (LeakyReLU)       (None, 32, 16, 64)   0           conv2d_2[0][0]                   \n",
            "__________________________________________________________________________________________________\n",
            "leaky_re_lu_6 (LeakyReLU)       (None, 32, 16, 64)   0           conv2d_6[0][0]                   \n",
            "__________________________________________________________________________________________________\n",
            "dropout_11 (Dropout)            (None, 16, 16, 64)   0           leaky_re_lu_11[0][0]             \n",
            "__________________________________________________________________________________________________\n",
            "dropout_2 (Dropout)             (None, 32, 16, 64)   0           leaky_re_lu_2[0][0]              \n",
            "__________________________________________________________________________________________________\n",
            "dropout_6 (Dropout)             (None, 32, 16, 64)   0           leaky_re_lu_6[0][0]              \n",
            "__________________________________________________________________________________________________\n",
            "instance_normalization_8 (Insta (None, 16, 16, 64)   2           dropout_11[0][0]                 \n",
            "__________________________________________________________________________________________________\n",
            "instance_normalization_1 (Insta (None, 32, 16, 64)   2           dropout_2[0][0]                  \n",
            "__________________________________________________________________________________________________\n",
            "instance_normalization_4 (Insta (None, 32, 16, 64)   2           dropout_6[0][0]                  \n",
            "__________________________________________________________________________________________________\n",
            "conv2d_12 (Conv2D)              (None, 8, 8, 64)     102464      instance_normalization_8[0][0]   \n",
            "__________________________________________________________________________________________________\n",
            "conv2d_3 (Conv2D)               (None, 16, 8, 64)    102464      instance_normalization_1[0][0]   \n",
            "__________________________________________________________________________________________________\n",
            "conv2d_7 (Conv2D)               (None, 16, 8, 64)    102464      instance_normalization_4[0][0]   \n",
            "__________________________________________________________________________________________________\n",
            "leaky_re_lu_12 (LeakyReLU)      (None, 8, 8, 64)     0           conv2d_12[0][0]                  \n",
            "__________________________________________________________________________________________________\n",
            "leaky_re_lu_3 (LeakyReLU)       (None, 16, 8, 64)    0           conv2d_3[0][0]                   \n",
            "__________________________________________________________________________________________________\n",
            "leaky_re_lu_7 (LeakyReLU)       (None, 16, 8, 64)    0           conv2d_7[0][0]                   \n",
            "__________________________________________________________________________________________________\n",
            "dropout_12 (Dropout)            (None, 8, 8, 64)     0           leaky_re_lu_12[0][0]             \n",
            "__________________________________________________________________________________________________\n",
            "dropout_3 (Dropout)             (None, 16, 8, 64)    0           leaky_re_lu_3[0][0]              \n",
            "__________________________________________________________________________________________________\n",
            "dropout_7 (Dropout)             (None, 16, 8, 64)    0           leaky_re_lu_7[0][0]              \n",
            "__________________________________________________________________________________________________\n",
            "instance_normalization_9 (Insta (None, 8, 8, 64)     2           dropout_12[0][0]                 \n",
            "__________________________________________________________________________________________________\n",
            "instance_normalization_2 (Insta (None, 16, 8, 64)    2           dropout_3[0][0]                  \n",
            "__________________________________________________________________________________________________\n",
            "instance_normalization_5 (Insta (None, 16, 8, 64)    2           dropout_7[0][0]                  \n",
            "__________________________________________________________________________________________________\n",
            "conv2d_13 (Conv2D)              (None, 4, 4, 64)     102464      instance_normalization_9[0][0]   \n",
            "__________________________________________________________________________________________________\n",
            "conv2d_4 (Conv2D)               (None, 8, 4, 64)     102464      instance_normalization_2[0][0]   \n",
            "__________________________________________________________________________________________________\n",
            "conv2d_8 (Conv2D)               (None, 8, 4, 64)     102464      instance_normalization_5[0][0]   \n",
            "__________________________________________________________________________________________________\n",
            "leaky_re_lu_13 (LeakyReLU)      (None, 4, 4, 64)     0           conv2d_13[0][0]                  \n",
            "__________________________________________________________________________________________________\n",
            "leaky_re_lu_4 (LeakyReLU)       (None, 8, 4, 64)     0           conv2d_4[0][0]                   \n",
            "__________________________________________________________________________________________________\n",
            "leaky_re_lu_8 (LeakyReLU)       (None, 8, 4, 64)     0           conv2d_8[0][0]                   \n",
            "__________________________________________________________________________________________________\n",
            "dropout_13 (Dropout)            (None, 4, 4, 64)     0           leaky_re_lu_13[0][0]             \n",
            "__________________________________________________________________________________________________\n",
            "dropout_4 (Dropout)             (None, 8, 4, 64)     0           leaky_re_lu_4[0][0]              \n",
            "__________________________________________________________________________________________________\n",
            "dropout_8 (Dropout)             (None, 8, 4, 64)     0           leaky_re_lu_8[0][0]              \n",
            "__________________________________________________________________________________________________\n",
            "instance_normalization_10 (Inst (None, 4, 4, 64)     2           dropout_13[0][0]                 \n",
            "__________________________________________________________________________________________________\n",
            "instance_normalization_3 (Insta (None, 8, 4, 64)     2           dropout_4[0][0]                  \n",
            "__________________________________________________________________________________________________\n",
            "instance_normalization_6 (Insta (None, 8, 4, 64)     2           dropout_8[0][0]                  \n",
            "__________________________________________________________________________________________________\n",
            "flatten_3 (Flatten)             (None, 1024)         0           instance_normalization_10[0][0]  \n",
            "__________________________________________________________________________________________________\n",
            "flatten_1 (Flatten)             (None, 2048)         0           instance_normalization_3[0][0]   \n",
            "__________________________________________________________________________________________________\n",
            "flatten_2 (Flatten)             (None, 2048)         0           instance_normalization_6[0][0]   \n",
            "__________________________________________________________________________________________________\n",
            "dense_3 (Dense)                 (None, 512)          524800      flatten_3[0][0]                  \n",
            "__________________________________________________________________________________________________\n",
            "dense_1 (Dense)                 (None, 512)          1049088     flatten_1[0][0]                  \n",
            "__________________________________________________________________________________________________\n",
            "dense_2 (Dense)                 (None, 512)          1049088     flatten_2[0][0]                  \n",
            "__________________________________________________________________________________________________\n",
            "concatenate_1 (Concatenate)     (None, 1536)         0           dense_3[0][0]                    \n",
            "                                                                 dense_1[0][0]                    \n",
            "                                                                 dense_2[0][0]                    \n",
            "__________________________________________________________________________________________________\n",
            "dense_4 (Dense)                 (None, 1)            1537        concatenate_1[0][0]              \n",
            "==================================================================================================\n",
            "Total params: 3,502,869\n",
            "Trainable params: 0\n",
            "Non-trainable params: 3,502,869\n",
            "__________________________________________________________________________________________________\n"
          ],
          "name": "stdout"
        },
        {
          "output_type": "execute_result",
          "data": {
            "text/plain": [
              "<IPython.core.display.SVG object>"
            ],
            "image/svg+xml": "<svg height=\"1637pt\" viewBox=\"0.00 0.00 1433.00 1964.00\" width=\"1194pt\" xmlns=\"http://www.w3.org/2000/svg\" xmlns:xlink=\"http://www.w3.org/1999/xlink\">\n<g class=\"graph\" id=\"graph0\" transform=\"scale(.8333 .8333) rotate(0) translate(4 1960)\">\n<title>G</title>\n<polygon fill=\"#ffffff\" points=\"-4,4 -4,-1960 1429,-1960 1429,4 -4,4\" stroke=\"transparent\"/>\n<!-- 140512712189656 -->\n<g class=\"node\" id=\"node1\">\n<title>140512712189656</title>\n<polygon fill=\"none\" points=\"522.5,-1909.5 522.5,-1955.5 845.5,-1955.5 845.5,-1909.5 522.5,-1909.5\" stroke=\"#000000\"/>\n<text fill=\"#000000\" font-family=\"Times,serif\" font-size=\"14.00\" text-anchor=\"middle\" x=\"589\" y=\"-1928.8\">input_1: InputLayer</text>\n<polyline fill=\"none\" points=\"655.5,-1909.5 655.5,-1955.5 \" stroke=\"#000000\"/>\n<text fill=\"#000000\" font-family=\"Times,serif\" font-size=\"14.00\" text-anchor=\"middle\" x=\"684.5\" y=\"-1940.3\">input:</text>\n<polyline fill=\"none\" points=\"655.5,-1932.5 713.5,-1932.5 \" stroke=\"#000000\"/>\n<text fill=\"#000000\" font-family=\"Times,serif\" font-size=\"14.00\" text-anchor=\"middle\" x=\"684.5\" y=\"-1917.3\">output:</text>\n<polyline fill=\"none\" points=\"713.5,-1909.5 713.5,-1955.5 \" stroke=\"#000000\"/>\n<text fill=\"#000000\" font-family=\"Times,serif\" font-size=\"14.00\" text-anchor=\"middle\" x=\"779.5\" y=\"-1940.3\">(None, 128, 128, 3)</text>\n<polyline fill=\"none\" points=\"713.5,-1932.5 845.5,-1932.5 \" stroke=\"#000000\"/>\n<text fill=\"#000000\" font-family=\"Times,serif\" font-size=\"14.00\" text-anchor=\"middle\" x=\"779.5\" y=\"-1917.3\">(None, 128, 128, 3)</text>\n</g>\n<!-- 140512687572976 -->\n<g class=\"node\" id=\"node2\">\n<title>140512687572976</title>\n<polygon fill=\"none\" points=\"249.5,-1826.5 249.5,-1872.5 572.5,-1872.5 572.5,-1826.5 249.5,-1826.5\" stroke=\"#000000\"/>\n<text fill=\"#000000\" font-family=\"Times,serif\" font-size=\"14.00\" text-anchor=\"middle\" x=\"316\" y=\"-1845.8\">conv2d_9: Conv2D</text>\n<polyline fill=\"none\" points=\"382.5,-1826.5 382.5,-1872.5 \" stroke=\"#000000\"/>\n<text fill=\"#000000\" font-family=\"Times,serif\" font-size=\"14.00\" text-anchor=\"middle\" x=\"411.5\" y=\"-1857.3\">input:</text>\n<polyline fill=\"none\" points=\"382.5,-1849.5 440.5,-1849.5 \" stroke=\"#000000\"/>\n<text fill=\"#000000\" font-family=\"Times,serif\" font-size=\"14.00\" text-anchor=\"middle\" x=\"411.5\" y=\"-1834.3\">output:</text>\n<polyline fill=\"none\" points=\"440.5,-1826.5 440.5,-1872.5 \" stroke=\"#000000\"/>\n<text fill=\"#000000\" font-family=\"Times,serif\" font-size=\"14.00\" text-anchor=\"middle\" x=\"506.5\" y=\"-1857.3\">(None, 128, 128, 3)</text>\n<polyline fill=\"none\" points=\"440.5,-1849.5 572.5,-1849.5 \" stroke=\"#000000\"/>\n<text fill=\"#000000\" font-family=\"Times,serif\" font-size=\"14.00\" text-anchor=\"middle\" x=\"506.5\" y=\"-1834.3\">(None, 64, 64, 32)</text>\n</g>\n<!-- 140512712189656&#45;&gt;140512687572976 -->\n<g class=\"edge\" id=\"edge1\">\n<title>140512712189656-&gt;140512687572976</title>\n<path d=\"M608.3168,-1909.4901C573.6997,-1898.9655 532.523,-1886.4466 496.763,-1875.5745\" fill=\"none\" stroke=\"#000000\"/>\n<polygon fill=\"#000000\" points=\"497.4161,-1872.1149 486.8304,-1872.5547 495.3799,-1878.8122 497.4161,-1872.1149\" stroke=\"#000000\"/>\n</g>\n<!-- 140512712190328 -->\n<g class=\"node\" id=\"node6\">\n<title>140512712190328</title>\n<polygon fill=\"none\" points=\"525,-1743.5 525,-1789.5 843,-1789.5 843,-1743.5 525,-1743.5\" stroke=\"#000000\"/>\n<text fill=\"#000000\" font-family=\"Times,serif\" font-size=\"14.00\" text-anchor=\"middle\" x=\"589\" y=\"-1762.8\">lambda_1: Lambda</text>\n<polyline fill=\"none\" points=\"653,-1743.5 653,-1789.5 \" stroke=\"#000000\"/>\n<text fill=\"#000000\" font-family=\"Times,serif\" font-size=\"14.00\" text-anchor=\"middle\" x=\"682\" y=\"-1774.3\">input:</text>\n<polyline fill=\"none\" points=\"653,-1766.5 711,-1766.5 \" stroke=\"#000000\"/>\n<text fill=\"#000000\" font-family=\"Times,serif\" font-size=\"14.00\" text-anchor=\"middle\" x=\"682\" y=\"-1751.3\">output:</text>\n<polyline fill=\"none\" points=\"711,-1743.5 711,-1789.5 \" stroke=\"#000000\"/>\n<text fill=\"#000000\" font-family=\"Times,serif\" font-size=\"14.00\" text-anchor=\"middle\" x=\"777\" y=\"-1774.3\">(None, 128, 128, 3)</text>\n<polyline fill=\"none\" points=\"711,-1766.5 843,-1766.5 \" stroke=\"#000000\"/>\n<text fill=\"#000000\" font-family=\"Times,serif\" font-size=\"14.00\" text-anchor=\"middle\" x=\"777\" y=\"-1751.3\">(None, 128, 64, 3)</text>\n</g>\n<!-- 140512712189656&#45;&gt;140512712190328 -->\n<g class=\"edge\" id=\"edge5\">\n<title>140512712189656-&gt;140512712190328</title>\n<path d=\"M684,-1909.4184C684,-1881.0047 684,-1832.531 684,-1800.0156\" fill=\"none\" stroke=\"#000000\"/>\n<polygon fill=\"#000000\" points=\"687.5001,-1799.6525 684,-1789.6525 680.5001,-1799.6526 687.5001,-1799.6525\" stroke=\"#000000\"/>\n</g>\n<!-- 140512693256992 -->\n<g class=\"node\" id=\"node7\">\n<title>140512693256992</title>\n<polygon fill=\"none\" points=\"712,-1826.5 712,-1872.5 1030,-1872.5 1030,-1826.5 712,-1826.5\" stroke=\"#000000\"/>\n<text fill=\"#000000\" font-family=\"Times,serif\" font-size=\"14.00\" text-anchor=\"middle\" x=\"776\" y=\"-1845.8\">lambda_2: Lambda</text>\n<polyline fill=\"none\" points=\"840,-1826.5 840,-1872.5 \" stroke=\"#000000\"/>\n<text fill=\"#000000\" font-family=\"Times,serif\" font-size=\"14.00\" text-anchor=\"middle\" x=\"869\" y=\"-1857.3\">input:</text>\n<polyline fill=\"none\" points=\"840,-1849.5 898,-1849.5 \" stroke=\"#000000\"/>\n<text fill=\"#000000\" font-family=\"Times,serif\" font-size=\"14.00\" text-anchor=\"middle\" x=\"869\" y=\"-1834.3\">output:</text>\n<polyline fill=\"none\" points=\"898,-1826.5 898,-1872.5 \" stroke=\"#000000\"/>\n<text fill=\"#000000\" font-family=\"Times,serif\" font-size=\"14.00\" text-anchor=\"middle\" x=\"964\" y=\"-1857.3\">(None, 128, 128, 3)</text>\n<polyline fill=\"none\" points=\"898,-1849.5 1030,-1849.5 \" stroke=\"#000000\"/>\n<text fill=\"#000000\" font-family=\"Times,serif\" font-size=\"14.00\" text-anchor=\"middle\" x=\"964\" y=\"-1834.3\">(None, 128, 64, 3)</text>\n</g>\n<!-- 140512712189656&#45;&gt;140512693256992 -->\n<g class=\"edge\" id=\"edge6\">\n<title>140512712189656-&gt;140512693256992</title>\n<path d=\"M736.0899,-1909.3799C758.8918,-1899.2592 785.8113,-1887.311 809.5825,-1876.7602\" fill=\"none\" stroke=\"#000000\"/>\n<polygon fill=\"#000000\" points=\"811.1452,-1879.8959 818.8654,-1872.6399 808.3054,-1873.4978 811.1452,-1879.8959\" stroke=\"#000000\"/>\n</g>\n<!-- 140512687628640 -->\n<g class=\"node\" id=\"node3\">\n<title>140512687628640</title>\n<polygon fill=\"none\" points=\"145.5,-1743.5 145.5,-1789.5 506.5,-1789.5 506.5,-1743.5 145.5,-1743.5\" stroke=\"#000000\"/>\n<text fill=\"#000000\" font-family=\"Times,serif\" font-size=\"14.00\" text-anchor=\"middle\" x=\"234.5\" y=\"-1762.8\">leaky_re_lu_9: LeakyReLU</text>\n<polyline fill=\"none\" points=\"323.5,-1743.5 323.5,-1789.5 \" stroke=\"#000000\"/>\n<text fill=\"#000000\" font-family=\"Times,serif\" font-size=\"14.00\" text-anchor=\"middle\" x=\"352.5\" y=\"-1774.3\">input:</text>\n<polyline fill=\"none\" points=\"323.5,-1766.5 381.5,-1766.5 \" stroke=\"#000000\"/>\n<text fill=\"#000000\" font-family=\"Times,serif\" font-size=\"14.00\" text-anchor=\"middle\" x=\"352.5\" y=\"-1751.3\">output:</text>\n<polyline fill=\"none\" points=\"381.5,-1743.5 381.5,-1789.5 \" stroke=\"#000000\"/>\n<text fill=\"#000000\" font-family=\"Times,serif\" font-size=\"14.00\" text-anchor=\"middle\" x=\"444\" y=\"-1774.3\">(None, 64, 64, 32)</text>\n<polyline fill=\"none\" points=\"381.5,-1766.5 506.5,-1766.5 \" stroke=\"#000000\"/>\n<text fill=\"#000000\" font-family=\"Times,serif\" font-size=\"14.00\" text-anchor=\"middle\" x=\"444\" y=\"-1751.3\">(None, 64, 64, 32)</text>\n</g>\n<!-- 140512687572976&#45;&gt;140512687628640 -->\n<g class=\"edge\" id=\"edge2\">\n<title>140512687572976-&gt;140512687628640</title>\n<path d=\"M387.3228,-1826.3799C378.0063,-1817.2827 367.1777,-1806.7088 357.2354,-1797.0005\" fill=\"none\" stroke=\"#000000\"/>\n<polygon fill=\"#000000\" points=\"359.4451,-1794.2663 349.8451,-1789.784 354.5546,-1799.2746 359.4451,-1794.2663\" stroke=\"#000000\"/>\n</g>\n<!-- 140512687629648 -->\n<g class=\"node\" id=\"node4\">\n<title>140512687629648</title>\n<polygon fill=\"none\" points=\"166.5,-1660.5 166.5,-1706.5 483.5,-1706.5 483.5,-1660.5 166.5,-1660.5\" stroke=\"#000000\"/>\n<text fill=\"#000000\" font-family=\"Times,serif\" font-size=\"14.00\" text-anchor=\"middle\" x=\"233.5\" y=\"-1679.8\">dropout_9: Dropout</text>\n<polyline fill=\"none\" points=\"300.5,-1660.5 300.5,-1706.5 \" stroke=\"#000000\"/>\n<text fill=\"#000000\" font-family=\"Times,serif\" font-size=\"14.00\" text-anchor=\"middle\" x=\"329.5\" y=\"-1691.3\">input:</text>\n<polyline fill=\"none\" points=\"300.5,-1683.5 358.5,-1683.5 \" stroke=\"#000000\"/>\n<text fill=\"#000000\" font-family=\"Times,serif\" font-size=\"14.00\" text-anchor=\"middle\" x=\"329.5\" y=\"-1668.3\">output:</text>\n<polyline fill=\"none\" points=\"358.5,-1660.5 358.5,-1706.5 \" stroke=\"#000000\"/>\n<text fill=\"#000000\" font-family=\"Times,serif\" font-size=\"14.00\" text-anchor=\"middle\" x=\"421\" y=\"-1691.3\">(None, 64, 64, 32)</text>\n<polyline fill=\"none\" points=\"358.5,-1683.5 483.5,-1683.5 \" stroke=\"#000000\"/>\n<text fill=\"#000000\" font-family=\"Times,serif\" font-size=\"14.00\" text-anchor=\"middle\" x=\"421\" y=\"-1668.3\">(None, 64, 64, 32)</text>\n</g>\n<!-- 140512687628640&#45;&gt;140512687629648 -->\n<g class=\"edge\" id=\"edge3\">\n<title>140512687628640-&gt;140512687629648</title>\n<path d=\"M325.7214,-1743.3799C325.6226,-1735.1745 325.5093,-1725.7679 325.4022,-1716.8786\" fill=\"none\" stroke=\"#000000\"/>\n<polygon fill=\"#000000\" points=\"328.9008,-1716.7411 325.2805,-1706.784 321.9014,-1716.8255 328.9008,-1716.7411\" stroke=\"#000000\"/>\n</g>\n<!-- 140512687654840 -->\n<g class=\"node\" id=\"node5\">\n<title>140512687654840</title>\n<polygon fill=\"none\" points=\"162.5,-1577.5 162.5,-1623.5 485.5,-1623.5 485.5,-1577.5 162.5,-1577.5\" stroke=\"#000000\"/>\n<text fill=\"#000000\" font-family=\"Times,serif\" font-size=\"14.00\" text-anchor=\"middle\" x=\"232.5\" y=\"-1596.8\">conv2d_10: Conv2D</text>\n<polyline fill=\"none\" points=\"302.5,-1577.5 302.5,-1623.5 \" stroke=\"#000000\"/>\n<text fill=\"#000000\" font-family=\"Times,serif\" font-size=\"14.00\" text-anchor=\"middle\" x=\"331.5\" y=\"-1608.3\">input:</text>\n<polyline fill=\"none\" points=\"302.5,-1600.5 360.5,-1600.5 \" stroke=\"#000000\"/>\n<text fill=\"#000000\" font-family=\"Times,serif\" font-size=\"14.00\" text-anchor=\"middle\" x=\"331.5\" y=\"-1585.3\">output:</text>\n<polyline fill=\"none\" points=\"360.5,-1577.5 360.5,-1623.5 \" stroke=\"#000000\"/>\n<text fill=\"#000000\" font-family=\"Times,serif\" font-size=\"14.00\" text-anchor=\"middle\" x=\"423\" y=\"-1608.3\">(None, 64, 64, 32)</text>\n<polyline fill=\"none\" points=\"360.5,-1600.5 485.5,-1600.5 \" stroke=\"#000000\"/>\n<text fill=\"#000000\" font-family=\"Times,serif\" font-size=\"14.00\" text-anchor=\"middle\" x=\"423\" y=\"-1585.3\">(None, 32, 32, 64)</text>\n</g>\n<!-- 140512687629648&#45;&gt;140512687654840 -->\n<g class=\"edge\" id=\"edge4\">\n<title>140512687629648-&gt;140512687654840</title>\n<path d=\"M324.7214,-1660.3799C324.6226,-1652.1745 324.5093,-1642.7679 324.4022,-1633.8786\" fill=\"none\" stroke=\"#000000\"/>\n<polygon fill=\"#000000\" points=\"327.9008,-1633.7411 324.2805,-1623.784 320.9014,-1633.8255 327.9008,-1633.7411\" stroke=\"#000000\"/>\n</g>\n<!-- 140512687193840 -->\n<g class=\"node\" id=\"node8\">\n<title>140512687193840</title>\n<polygon fill=\"none\" points=\"119,-1494.5 119,-1540.5 487,-1540.5 487,-1494.5 119,-1494.5\" stroke=\"#000000\"/>\n<text fill=\"#000000\" font-family=\"Times,serif\" font-size=\"14.00\" text-anchor=\"middle\" x=\"211.5\" y=\"-1513.8\">leaky_re_lu_10: LeakyReLU</text>\n<polyline fill=\"none\" points=\"304,-1494.5 304,-1540.5 \" stroke=\"#000000\"/>\n<text fill=\"#000000\" font-family=\"Times,serif\" font-size=\"14.00\" text-anchor=\"middle\" x=\"333\" y=\"-1525.3\">input:</text>\n<polyline fill=\"none\" points=\"304,-1517.5 362,-1517.5 \" stroke=\"#000000\"/>\n<text fill=\"#000000\" font-family=\"Times,serif\" font-size=\"14.00\" text-anchor=\"middle\" x=\"333\" y=\"-1502.3\">output:</text>\n<polyline fill=\"none\" points=\"362,-1494.5 362,-1540.5 \" stroke=\"#000000\"/>\n<text fill=\"#000000\" font-family=\"Times,serif\" font-size=\"14.00\" text-anchor=\"middle\" x=\"424.5\" y=\"-1525.3\">(None, 32, 32, 64)</text>\n<polyline fill=\"none\" points=\"362,-1517.5 487,-1517.5 \" stroke=\"#000000\"/>\n<text fill=\"#000000\" font-family=\"Times,serif\" font-size=\"14.00\" text-anchor=\"middle\" x=\"424.5\" y=\"-1502.3\">(None, 32, 32, 64)</text>\n</g>\n<!-- 140512687654840&#45;&gt;140512687193840 -->\n<g class=\"edge\" id=\"edge7\">\n<title>140512687654840-&gt;140512687193840</title>\n<path d=\"M318.1503,-1577.3799C316.0517,-1569.0854 313.6425,-1559.5633 311.3719,-1550.5889\" fill=\"none\" stroke=\"#000000\"/>\n<polygon fill=\"#000000\" points=\"314.7371,-1549.62 308.8911,-1540.784 307.951,-1551.337 314.7371,-1549.62\" stroke=\"#000000\"/>\n</g>\n<!-- 140512949664568 -->\n<g class=\"node\" id=\"node9\">\n<title>140512949664568</title>\n<polygon fill=\"none\" points=\"526,-1660.5 526,-1706.5 842,-1706.5 842,-1660.5 526,-1660.5\" stroke=\"#000000\"/>\n<text fill=\"#000000\" font-family=\"Times,serif\" font-size=\"14.00\" text-anchor=\"middle\" x=\"592.5\" y=\"-1679.8\">conv2d_1: Conv2D</text>\n<polyline fill=\"none\" points=\"659,-1660.5 659,-1706.5 \" stroke=\"#000000\"/>\n<text fill=\"#000000\" font-family=\"Times,serif\" font-size=\"14.00\" text-anchor=\"middle\" x=\"688\" y=\"-1691.3\">input:</text>\n<polyline fill=\"none\" points=\"659,-1683.5 717,-1683.5 \" stroke=\"#000000\"/>\n<text fill=\"#000000\" font-family=\"Times,serif\" font-size=\"14.00\" text-anchor=\"middle\" x=\"688\" y=\"-1668.3\">output:</text>\n<polyline fill=\"none\" points=\"717,-1660.5 717,-1706.5 \" stroke=\"#000000\"/>\n<text fill=\"#000000\" font-family=\"Times,serif\" font-size=\"14.00\" text-anchor=\"middle\" x=\"779.5\" y=\"-1691.3\">(None, 128, 64, 3)</text>\n<polyline fill=\"none\" points=\"717,-1683.5 842,-1683.5 \" stroke=\"#000000\"/>\n<text fill=\"#000000\" font-family=\"Times,serif\" font-size=\"14.00\" text-anchor=\"middle\" x=\"779.5\" y=\"-1668.3\">(None, 64, 32, 32)</text>\n</g>\n<!-- 140512712190328&#45;&gt;140512949664568 -->\n<g class=\"edge\" id=\"edge8\">\n<title>140512712190328-&gt;140512949664568</title>\n<path d=\"M684,-1743.3799C684,-1735.1745 684,-1725.7679 684,-1716.8786\" fill=\"none\" stroke=\"#000000\"/>\n<polygon fill=\"#000000\" points=\"687.5001,-1716.784 684,-1706.784 680.5001,-1716.784 687.5001,-1716.784\" stroke=\"#000000\"/>\n</g>\n<!-- 140512693257720 -->\n<g class=\"node\" id=\"node10\">\n<title>140512693257720</title>\n<polygon fill=\"none\" points=\"882,-1660.5 882,-1706.5 1198,-1706.5 1198,-1660.5 882,-1660.5\" stroke=\"#000000\"/>\n<text fill=\"#000000\" font-family=\"Times,serif\" font-size=\"14.00\" text-anchor=\"middle\" x=\"948.5\" y=\"-1679.8\">conv2d_5: Conv2D</text>\n<polyline fill=\"none\" points=\"1015,-1660.5 1015,-1706.5 \" stroke=\"#000000\"/>\n<text fill=\"#000000\" font-family=\"Times,serif\" font-size=\"14.00\" text-anchor=\"middle\" x=\"1044\" y=\"-1691.3\">input:</text>\n<polyline fill=\"none\" points=\"1015,-1683.5 1073,-1683.5 \" stroke=\"#000000\"/>\n<text fill=\"#000000\" font-family=\"Times,serif\" font-size=\"14.00\" text-anchor=\"middle\" x=\"1044\" y=\"-1668.3\">output:</text>\n<polyline fill=\"none\" points=\"1073,-1660.5 1073,-1706.5 \" stroke=\"#000000\"/>\n<text fill=\"#000000\" font-family=\"Times,serif\" font-size=\"14.00\" text-anchor=\"middle\" x=\"1135.5\" y=\"-1691.3\">(None, 128, 64, 3)</text>\n<polyline fill=\"none\" points=\"1073,-1683.5 1198,-1683.5 \" stroke=\"#000000\"/>\n<text fill=\"#000000\" font-family=\"Times,serif\" font-size=\"14.00\" text-anchor=\"middle\" x=\"1135.5\" y=\"-1668.3\">(None, 64, 32, 32)</text>\n</g>\n<!-- 140512693256992&#45;&gt;140512693257720 -->\n<g class=\"edge\" id=\"edge9\">\n<title>140512693256992-&gt;140512693257720</title>\n<path d=\"M894.4987,-1826.4184C924.4321,-1797.0164 976.2334,-1746.1346 1009.2724,-1713.6822\" fill=\"none\" stroke=\"#000000\"/>\n<polygon fill=\"#000000\" points=\"1011.7475,-1716.157 1016.429,-1706.6525 1006.8423,-1711.1631 1011.7475,-1716.157\" stroke=\"#000000\"/>\n</g>\n<!-- 140512687192944 -->\n<g class=\"node\" id=\"node11\">\n<title>140512687192944</title>\n<polygon fill=\"none\" points=\"102,-1411.5 102,-1457.5 426,-1457.5 426,-1411.5 102,-1411.5\" stroke=\"#000000\"/>\n<text fill=\"#000000\" font-family=\"Times,serif\" font-size=\"14.00\" text-anchor=\"middle\" x=\"172.5\" y=\"-1430.8\">dropout_10: Dropout</text>\n<polyline fill=\"none\" points=\"243,-1411.5 243,-1457.5 \" stroke=\"#000000\"/>\n<text fill=\"#000000\" font-family=\"Times,serif\" font-size=\"14.00\" text-anchor=\"middle\" x=\"272\" y=\"-1442.3\">input:</text>\n<polyline fill=\"none\" points=\"243,-1434.5 301,-1434.5 \" stroke=\"#000000\"/>\n<text fill=\"#000000\" font-family=\"Times,serif\" font-size=\"14.00\" text-anchor=\"middle\" x=\"272\" y=\"-1419.3\">output:</text>\n<polyline fill=\"none\" points=\"301,-1411.5 301,-1457.5 \" stroke=\"#000000\"/>\n<text fill=\"#000000\" font-family=\"Times,serif\" font-size=\"14.00\" text-anchor=\"middle\" x=\"363.5\" y=\"-1442.3\">(None, 32, 32, 64)</text>\n<polyline fill=\"none\" points=\"301,-1434.5 426,-1434.5 \" stroke=\"#000000\"/>\n<text fill=\"#000000\" font-family=\"Times,serif\" font-size=\"14.00\" text-anchor=\"middle\" x=\"363.5\" y=\"-1419.3\">(None, 32, 32, 64)</text>\n</g>\n<!-- 140512687193840&#45;&gt;140512687192944 -->\n<g class=\"edge\" id=\"edge10\">\n<title>140512687193840-&gt;140512687192944</title>\n<path d=\"M292.1363,-1494.3799C288.1551,-1485.907 283.572,-1476.1531 279.2761,-1467.0107\" fill=\"none\" stroke=\"#000000\"/>\n<polygon fill=\"#000000\" points=\"282.3612,-1465.3462 274.9407,-1457.784 276.0257,-1468.3231 282.3612,-1465.3462\" stroke=\"#000000\"/>\n</g>\n<!-- 140512949662272 -->\n<g class=\"node\" id=\"node12\">\n<title>140512949662272</title>\n<polygon fill=\"none\" points=\"503.5,-1577.5 503.5,-1623.5 864.5,-1623.5 864.5,-1577.5 503.5,-1577.5\" stroke=\"#000000\"/>\n<text fill=\"#000000\" font-family=\"Times,serif\" font-size=\"14.00\" text-anchor=\"middle\" x=\"592.5\" y=\"-1596.8\">leaky_re_lu_1: LeakyReLU</text>\n<polyline fill=\"none\" points=\"681.5,-1577.5 681.5,-1623.5 \" stroke=\"#000000\"/>\n<text fill=\"#000000\" font-family=\"Times,serif\" font-size=\"14.00\" text-anchor=\"middle\" x=\"710.5\" y=\"-1608.3\">input:</text>\n<polyline fill=\"none\" points=\"681.5,-1600.5 739.5,-1600.5 \" stroke=\"#000000\"/>\n<text fill=\"#000000\" font-family=\"Times,serif\" font-size=\"14.00\" text-anchor=\"middle\" x=\"710.5\" y=\"-1585.3\">output:</text>\n<polyline fill=\"none\" points=\"739.5,-1577.5 739.5,-1623.5 \" stroke=\"#000000\"/>\n<text fill=\"#000000\" font-family=\"Times,serif\" font-size=\"14.00\" text-anchor=\"middle\" x=\"802\" y=\"-1608.3\">(None, 64, 32, 32)</text>\n<polyline fill=\"none\" points=\"739.5,-1600.5 864.5,-1600.5 \" stroke=\"#000000\"/>\n<text fill=\"#000000\" font-family=\"Times,serif\" font-size=\"14.00\" text-anchor=\"middle\" x=\"802\" y=\"-1585.3\">(None, 64, 32, 32)</text>\n</g>\n<!-- 140512949664568&#45;&gt;140512949662272 -->\n<g class=\"edge\" id=\"edge11\">\n<title>140512949664568-&gt;140512949662272</title>\n<path d=\"M684,-1660.3799C684,-1652.1745 684,-1642.7679 684,-1633.8786\" fill=\"none\" stroke=\"#000000\"/>\n<polygon fill=\"#000000\" points=\"687.5001,-1633.784 684,-1623.784 680.5001,-1633.784 687.5001,-1633.784\" stroke=\"#000000\"/>\n</g>\n<!-- 140512692791840 -->\n<g class=\"node\" id=\"node13\">\n<title>140512692791840</title>\n<polygon fill=\"none\" points=\"912.5,-1577.5 912.5,-1623.5 1273.5,-1623.5 1273.5,-1577.5 912.5,-1577.5\" stroke=\"#000000\"/>\n<text fill=\"#000000\" font-family=\"Times,serif\" font-size=\"14.00\" text-anchor=\"middle\" x=\"1001.5\" y=\"-1596.8\">leaky_re_lu_5: LeakyReLU</text>\n<polyline fill=\"none\" points=\"1090.5,-1577.5 1090.5,-1623.5 \" stroke=\"#000000\"/>\n<text fill=\"#000000\" font-family=\"Times,serif\" font-size=\"14.00\" text-anchor=\"middle\" x=\"1119.5\" y=\"-1608.3\">input:</text>\n<polyline fill=\"none\" points=\"1090.5,-1600.5 1148.5,-1600.5 \" stroke=\"#000000\"/>\n<text fill=\"#000000\" font-family=\"Times,serif\" font-size=\"14.00\" text-anchor=\"middle\" x=\"1119.5\" y=\"-1585.3\">output:</text>\n<polyline fill=\"none\" points=\"1148.5,-1577.5 1148.5,-1623.5 \" stroke=\"#000000\"/>\n<text fill=\"#000000\" font-family=\"Times,serif\" font-size=\"14.00\" text-anchor=\"middle\" x=\"1211\" y=\"-1608.3\">(None, 64, 32, 32)</text>\n<polyline fill=\"none\" points=\"1148.5,-1600.5 1273.5,-1600.5 \" stroke=\"#000000\"/>\n<text fill=\"#000000\" font-family=\"Times,serif\" font-size=\"14.00\" text-anchor=\"middle\" x=\"1211\" y=\"-1585.3\">(None, 64, 32, 32)</text>\n</g>\n<!-- 140512693257720&#45;&gt;140512692791840 -->\n<g class=\"edge\" id=\"edge12\">\n<title>140512693257720-&gt;140512692791840</title>\n<path d=\"M1054.7635,-1660.3799C1060.2878,-1651.7286 1066.6648,-1641.7419 1072.6083,-1632.4341\" fill=\"none\" stroke=\"#000000\"/>\n<polygon fill=\"#000000\" points=\"1075.6999,-1634.0959 1078.1319,-1623.784 1069.8001,-1630.3286 1075.6999,-1634.0959\" stroke=\"#000000\"/>\n</g>\n<!-- 140512687241256 -->\n<g class=\"node\" id=\"node14\">\n<title>140512687241256</title>\n<polygon fill=\"none\" points=\"2,-1328.5 2,-1374.5 484,-1374.5 484,-1328.5 2,-1328.5\" stroke=\"#000000\"/>\n<text fill=\"#000000\" font-family=\"Times,serif\" font-size=\"14.00\" text-anchor=\"middle\" x=\"151.5\" y=\"-1347.8\">instance_normalization_7: InstanceNormalization</text>\n<polyline fill=\"none\" points=\"301,-1328.5 301,-1374.5 \" stroke=\"#000000\"/>\n<text fill=\"#000000\" font-family=\"Times,serif\" font-size=\"14.00\" text-anchor=\"middle\" x=\"330\" y=\"-1359.3\">input:</text>\n<polyline fill=\"none\" points=\"301,-1351.5 359,-1351.5 \" stroke=\"#000000\"/>\n<text fill=\"#000000\" font-family=\"Times,serif\" font-size=\"14.00\" text-anchor=\"middle\" x=\"330\" y=\"-1336.3\">output:</text>\n<polyline fill=\"none\" points=\"359,-1328.5 359,-1374.5 \" stroke=\"#000000\"/>\n<text fill=\"#000000\" font-family=\"Times,serif\" font-size=\"14.00\" text-anchor=\"middle\" x=\"421.5\" y=\"-1359.3\">(None, 32, 32, 64)</text>\n<polyline fill=\"none\" points=\"359,-1351.5 484,-1351.5 \" stroke=\"#000000\"/>\n<text fill=\"#000000\" font-family=\"Times,serif\" font-size=\"14.00\" text-anchor=\"middle\" x=\"421.5\" y=\"-1336.3\">(None, 32, 32, 64)</text>\n</g>\n<!-- 140512687192944&#45;&gt;140512687241256 -->\n<g class=\"edge\" id=\"edge13\">\n<title>140512687192944-&gt;140512687241256</title>\n<path d=\"M258.1503,-1411.3799C256.0517,-1403.0854 253.6425,-1393.5633 251.3719,-1384.5889\" fill=\"none\" stroke=\"#000000\"/>\n<polygon fill=\"#000000\" points=\"254.7371,-1383.62 248.8911,-1374.784 247.951,-1385.337 254.7371,-1383.62\" stroke=\"#000000\"/>\n</g>\n<!-- 140512949664792 -->\n<g class=\"node\" id=\"node15\">\n<title>140512949664792</title>\n<polygon fill=\"none\" points=\"525.5,-1494.5 525.5,-1540.5 842.5,-1540.5 842.5,-1494.5 525.5,-1494.5\" stroke=\"#000000\"/>\n<text fill=\"#000000\" font-family=\"Times,serif\" font-size=\"14.00\" text-anchor=\"middle\" x=\"592.5\" y=\"-1513.8\">dropout_1: Dropout</text>\n<polyline fill=\"none\" points=\"659.5,-1494.5 659.5,-1540.5 \" stroke=\"#000000\"/>\n<text fill=\"#000000\" font-family=\"Times,serif\" font-size=\"14.00\" text-anchor=\"middle\" x=\"688.5\" y=\"-1525.3\">input:</text>\n<polyline fill=\"none\" points=\"659.5,-1517.5 717.5,-1517.5 \" stroke=\"#000000\"/>\n<text fill=\"#000000\" font-family=\"Times,serif\" font-size=\"14.00\" text-anchor=\"middle\" x=\"688.5\" y=\"-1502.3\">output:</text>\n<polyline fill=\"none\" points=\"717.5,-1494.5 717.5,-1540.5 \" stroke=\"#000000\"/>\n<text fill=\"#000000\" font-family=\"Times,serif\" font-size=\"14.00\" text-anchor=\"middle\" x=\"780\" y=\"-1525.3\">(None, 64, 32, 32)</text>\n<polyline fill=\"none\" points=\"717.5,-1517.5 842.5,-1517.5 \" stroke=\"#000000\"/>\n<text fill=\"#000000\" font-family=\"Times,serif\" font-size=\"14.00\" text-anchor=\"middle\" x=\"780\" y=\"-1502.3\">(None, 64, 32, 32)</text>\n</g>\n<!-- 140512949662272&#45;&gt;140512949664792 -->\n<g class=\"edge\" id=\"edge14\">\n<title>140512949662272-&gt;140512949664792</title>\n<path d=\"M684,-1577.3799C684,-1569.1745 684,-1559.7679 684,-1550.8786\" fill=\"none\" stroke=\"#000000\"/>\n<polygon fill=\"#000000\" points=\"687.5001,-1550.784 684,-1540.784 680.5001,-1550.784 687.5001,-1550.784\" stroke=\"#000000\"/>\n</g>\n<!-- 140512692791952 -->\n<g class=\"node\" id=\"node16\">\n<title>140512692791952</title>\n<polygon fill=\"none\" points=\"938.5,-1494.5 938.5,-1540.5 1255.5,-1540.5 1255.5,-1494.5 938.5,-1494.5\" stroke=\"#000000\"/>\n<text fill=\"#000000\" font-family=\"Times,serif\" font-size=\"14.00\" text-anchor=\"middle\" x=\"1005.5\" y=\"-1513.8\">dropout_5: Dropout</text>\n<polyline fill=\"none\" points=\"1072.5,-1494.5 1072.5,-1540.5 \" stroke=\"#000000\"/>\n<text fill=\"#000000\" font-family=\"Times,serif\" font-size=\"14.00\" text-anchor=\"middle\" x=\"1101.5\" y=\"-1525.3\">input:</text>\n<polyline fill=\"none\" points=\"1072.5,-1517.5 1130.5,-1517.5 \" stroke=\"#000000\"/>\n<text fill=\"#000000\" font-family=\"Times,serif\" font-size=\"14.00\" text-anchor=\"middle\" x=\"1101.5\" y=\"-1502.3\">output:</text>\n<polyline fill=\"none\" points=\"1130.5,-1494.5 1130.5,-1540.5 \" stroke=\"#000000\"/>\n<text fill=\"#000000\" font-family=\"Times,serif\" font-size=\"14.00\" text-anchor=\"middle\" x=\"1193\" y=\"-1525.3\">(None, 64, 32, 32)</text>\n<polyline fill=\"none\" points=\"1130.5,-1517.5 1255.5,-1517.5 \" stroke=\"#000000\"/>\n<text fill=\"#000000\" font-family=\"Times,serif\" font-size=\"14.00\" text-anchor=\"middle\" x=\"1193\" y=\"-1502.3\">(None, 64, 32, 32)</text>\n</g>\n<!-- 140512692791840&#45;&gt;140512692791952 -->\n<g class=\"edge\" id=\"edge15\">\n<title>140512692791840-&gt;140512692791952</title>\n<path d=\"M1094.1142,-1577.3799C1094.5097,-1569.1745 1094.963,-1559.7679 1095.3914,-1550.8786\" fill=\"none\" stroke=\"#000000\"/>\n<polygon fill=\"#000000\" points=\"1098.8924,-1550.9409 1095.8779,-1540.784 1091.9005,-1550.6039 1098.8924,-1550.9409\" stroke=\"#000000\"/>\n</g>\n<!-- 140512687241536 -->\n<g class=\"node\" id=\"node17\">\n<title>140512687241536</title>\n<polygon fill=\"none\" points=\"80.5,-1245.5 80.5,-1291.5 403.5,-1291.5 403.5,-1245.5 80.5,-1245.5\" stroke=\"#000000\"/>\n<text fill=\"#000000\" font-family=\"Times,serif\" font-size=\"14.00\" text-anchor=\"middle\" x=\"150.5\" y=\"-1264.8\">conv2d_11: Conv2D</text>\n<polyline fill=\"none\" points=\"220.5,-1245.5 220.5,-1291.5 \" stroke=\"#000000\"/>\n<text fill=\"#000000\" font-family=\"Times,serif\" font-size=\"14.00\" text-anchor=\"middle\" x=\"249.5\" y=\"-1276.3\">input:</text>\n<polyline fill=\"none\" points=\"220.5,-1268.5 278.5,-1268.5 \" stroke=\"#000000\"/>\n<text fill=\"#000000\" font-family=\"Times,serif\" font-size=\"14.00\" text-anchor=\"middle\" x=\"249.5\" y=\"-1253.3\">output:</text>\n<polyline fill=\"none\" points=\"278.5,-1245.5 278.5,-1291.5 \" stroke=\"#000000\"/>\n<text fill=\"#000000\" font-family=\"Times,serif\" font-size=\"14.00\" text-anchor=\"middle\" x=\"341\" y=\"-1276.3\">(None, 32, 32, 64)</text>\n<polyline fill=\"none\" points=\"278.5,-1268.5 403.5,-1268.5 \" stroke=\"#000000\"/>\n<text fill=\"#000000\" font-family=\"Times,serif\" font-size=\"14.00\" text-anchor=\"middle\" x=\"341\" y=\"-1253.3\">(None, 16, 16, 64)</text>\n</g>\n<!-- 140512687241256&#45;&gt;140512687241536 -->\n<g class=\"edge\" id=\"edge16\">\n<title>140512687241256-&gt;140512687241536</title>\n<path d=\"M242.7214,-1328.3799C242.6226,-1320.1745 242.5093,-1310.7679 242.4022,-1301.8786\" fill=\"none\" stroke=\"#000000\"/>\n<polygon fill=\"#000000\" points=\"245.9008,-1301.7411 242.2805,-1291.784 238.9014,-1301.8255 245.9008,-1301.7411\" stroke=\"#000000\"/>\n</g>\n<!-- 140512712191616 -->\n<g class=\"node\" id=\"node18\">\n<title>140512712191616</title>\n<polygon fill=\"none\" points=\"526,-1411.5 526,-1457.5 842,-1457.5 842,-1411.5 526,-1411.5\" stroke=\"#000000\"/>\n<text fill=\"#000000\" font-family=\"Times,serif\" font-size=\"14.00\" text-anchor=\"middle\" x=\"592.5\" y=\"-1430.8\">conv2d_2: Conv2D</text>\n<polyline fill=\"none\" points=\"659,-1411.5 659,-1457.5 \" stroke=\"#000000\"/>\n<text fill=\"#000000\" font-family=\"Times,serif\" font-size=\"14.00\" text-anchor=\"middle\" x=\"688\" y=\"-1442.3\">input:</text>\n<polyline fill=\"none\" points=\"659,-1434.5 717,-1434.5 \" stroke=\"#000000\"/>\n<text fill=\"#000000\" font-family=\"Times,serif\" font-size=\"14.00\" text-anchor=\"middle\" x=\"688\" y=\"-1419.3\">output:</text>\n<polyline fill=\"none\" points=\"717,-1411.5 717,-1457.5 \" stroke=\"#000000\"/>\n<text fill=\"#000000\" font-family=\"Times,serif\" font-size=\"14.00\" text-anchor=\"middle\" x=\"779.5\" y=\"-1442.3\">(None, 64, 32, 32)</text>\n<polyline fill=\"none\" points=\"717,-1434.5 842,-1434.5 \" stroke=\"#000000\"/>\n<text fill=\"#000000\" font-family=\"Times,serif\" font-size=\"14.00\" text-anchor=\"middle\" x=\"779.5\" y=\"-1419.3\">(None, 32, 16, 64)</text>\n</g>\n<!-- 140512949664792&#45;&gt;140512712191616 -->\n<g class=\"edge\" id=\"edge17\">\n<title>140512949664792-&gt;140512712191616</title>\n<path d=\"M684,-1494.3799C684,-1486.1745 684,-1476.7679 684,-1467.8786\" fill=\"none\" stroke=\"#000000\"/>\n<polygon fill=\"#000000\" points=\"687.5001,-1467.784 684,-1457.784 680.5001,-1467.784 687.5001,-1467.784\" stroke=\"#000000\"/>\n</g>\n<!-- 140512692828816 -->\n<g class=\"node\" id=\"node19\">\n<title>140512692828816</title>\n<polygon fill=\"none\" points=\"947,-1411.5 947,-1457.5 1263,-1457.5 1263,-1411.5 947,-1411.5\" stroke=\"#000000\"/>\n<text fill=\"#000000\" font-family=\"Times,serif\" font-size=\"14.00\" text-anchor=\"middle\" x=\"1013.5\" y=\"-1430.8\">conv2d_6: Conv2D</text>\n<polyline fill=\"none\" points=\"1080,-1411.5 1080,-1457.5 \" stroke=\"#000000\"/>\n<text fill=\"#000000\" font-family=\"Times,serif\" font-size=\"14.00\" text-anchor=\"middle\" x=\"1109\" y=\"-1442.3\">input:</text>\n<polyline fill=\"none\" points=\"1080,-1434.5 1138,-1434.5 \" stroke=\"#000000\"/>\n<text fill=\"#000000\" font-family=\"Times,serif\" font-size=\"14.00\" text-anchor=\"middle\" x=\"1109\" y=\"-1419.3\">output:</text>\n<polyline fill=\"none\" points=\"1138,-1411.5 1138,-1457.5 \" stroke=\"#000000\"/>\n<text fill=\"#000000\" font-family=\"Times,serif\" font-size=\"14.00\" text-anchor=\"middle\" x=\"1200.5\" y=\"-1442.3\">(None, 64, 32, 32)</text>\n<polyline fill=\"none\" points=\"1138,-1434.5 1263,-1434.5 \" stroke=\"#000000\"/>\n<text fill=\"#000000\" font-family=\"Times,serif\" font-size=\"14.00\" text-anchor=\"middle\" x=\"1200.5\" y=\"-1419.3\">(None, 32, 16, 64)</text>\n</g>\n<!-- 140512692791952&#45;&gt;140512692828816 -->\n<g class=\"edge\" id=\"edge18\">\n<title>140512692791952-&gt;140512692828816</title>\n<path d=\"M1099.2284,-1494.3799C1100.0193,-1486.1745 1100.926,-1476.7679 1101.7828,-1467.8786\" fill=\"none\" stroke=\"#000000\"/>\n<polygon fill=\"#000000\" points=\"1105.2801,-1468.0737 1102.7558,-1457.784 1098.3124,-1467.4021 1105.2801,-1468.0737\" stroke=\"#000000\"/>\n</g>\n<!-- 140512687369408 -->\n<g class=\"node\" id=\"node20\">\n<title>140512687369408</title>\n<polygon fill=\"none\" points=\"57,-1162.5 57,-1208.5 425,-1208.5 425,-1162.5 57,-1162.5\" stroke=\"#000000\"/>\n<text fill=\"#000000\" font-family=\"Times,serif\" font-size=\"14.00\" text-anchor=\"middle\" x=\"149.5\" y=\"-1181.8\">leaky_re_lu_11: LeakyReLU</text>\n<polyline fill=\"none\" points=\"242,-1162.5 242,-1208.5 \" stroke=\"#000000\"/>\n<text fill=\"#000000\" font-family=\"Times,serif\" font-size=\"14.00\" text-anchor=\"middle\" x=\"271\" y=\"-1193.3\">input:</text>\n<polyline fill=\"none\" points=\"242,-1185.5 300,-1185.5 \" stroke=\"#000000\"/>\n<text fill=\"#000000\" font-family=\"Times,serif\" font-size=\"14.00\" text-anchor=\"middle\" x=\"271\" y=\"-1170.3\">output:</text>\n<polyline fill=\"none\" points=\"300,-1162.5 300,-1208.5 \" stroke=\"#000000\"/>\n<text fill=\"#000000\" font-family=\"Times,serif\" font-size=\"14.00\" text-anchor=\"middle\" x=\"362.5\" y=\"-1193.3\">(None, 16, 16, 64)</text>\n<polyline fill=\"none\" points=\"300,-1185.5 425,-1185.5 \" stroke=\"#000000\"/>\n<text fill=\"#000000\" font-family=\"Times,serif\" font-size=\"14.00\" text-anchor=\"middle\" x=\"362.5\" y=\"-1170.3\">(None, 16, 16, 64)</text>\n</g>\n<!-- 140512687241536&#45;&gt;140512687369408 -->\n<g class=\"edge\" id=\"edge19\">\n<title>140512687241536-&gt;140512687369408</title>\n<path d=\"M241.7214,-1245.3799C241.6226,-1237.1745 241.5093,-1227.7679 241.4022,-1218.8786\" fill=\"none\" stroke=\"#000000\"/>\n<polygon fill=\"#000000\" points=\"244.9008,-1218.7411 241.2805,-1208.784 237.9014,-1218.8255 244.9008,-1218.7411\" stroke=\"#000000\"/>\n</g>\n<!-- 140512693748904 -->\n<g class=\"node\" id=\"node21\">\n<title>140512693748904</title>\n<polygon fill=\"none\" points=\"503.5,-1328.5 503.5,-1374.5 864.5,-1374.5 864.5,-1328.5 503.5,-1328.5\" stroke=\"#000000\"/>\n<text fill=\"#000000\" font-family=\"Times,serif\" font-size=\"14.00\" text-anchor=\"middle\" x=\"592.5\" y=\"-1347.8\">leaky_re_lu_2: LeakyReLU</text>\n<polyline fill=\"none\" points=\"681.5,-1328.5 681.5,-1374.5 \" stroke=\"#000000\"/>\n<text fill=\"#000000\" font-family=\"Times,serif\" font-size=\"14.00\" text-anchor=\"middle\" x=\"710.5\" y=\"-1359.3\">input:</text>\n<polyline fill=\"none\" points=\"681.5,-1351.5 739.5,-1351.5 \" stroke=\"#000000\"/>\n<text fill=\"#000000\" font-family=\"Times,serif\" font-size=\"14.00\" text-anchor=\"middle\" x=\"710.5\" y=\"-1336.3\">output:</text>\n<polyline fill=\"none\" points=\"739.5,-1328.5 739.5,-1374.5 \" stroke=\"#000000\"/>\n<text fill=\"#000000\" font-family=\"Times,serif\" font-size=\"14.00\" text-anchor=\"middle\" x=\"802\" y=\"-1359.3\">(None, 32, 16, 64)</text>\n<polyline fill=\"none\" points=\"739.5,-1351.5 864.5,-1351.5 \" stroke=\"#000000\"/>\n<text fill=\"#000000\" font-family=\"Times,serif\" font-size=\"14.00\" text-anchor=\"middle\" x=\"802\" y=\"-1336.3\">(None, 32, 16, 64)</text>\n</g>\n<!-- 140512712191616&#45;&gt;140512693748904 -->\n<g class=\"edge\" id=\"edge20\">\n<title>140512712191616-&gt;140512693748904</title>\n<path d=\"M684,-1411.3799C684,-1403.1745 684,-1393.7679 684,-1384.8786\" fill=\"none\" stroke=\"#000000\"/>\n<polygon fill=\"#000000\" points=\"687.5001,-1384.784 684,-1374.784 680.5001,-1384.784 687.5001,-1384.784\" stroke=\"#000000\"/>\n</g>\n<!-- 140512692886832 -->\n<g class=\"node\" id=\"node22\">\n<title>140512692886832</title>\n<polygon fill=\"none\" points=\"984.5,-1328.5 984.5,-1374.5 1345.5,-1374.5 1345.5,-1328.5 984.5,-1328.5\" stroke=\"#000000\"/>\n<text fill=\"#000000\" font-family=\"Times,serif\" font-size=\"14.00\" text-anchor=\"middle\" x=\"1073.5\" y=\"-1347.8\">leaky_re_lu_6: LeakyReLU</text>\n<polyline fill=\"none\" points=\"1162.5,-1328.5 1162.5,-1374.5 \" stroke=\"#000000\"/>\n<text fill=\"#000000\" font-family=\"Times,serif\" font-size=\"14.00\" text-anchor=\"middle\" x=\"1191.5\" y=\"-1359.3\">input:</text>\n<polyline fill=\"none\" points=\"1162.5,-1351.5 1220.5,-1351.5 \" stroke=\"#000000\"/>\n<text fill=\"#000000\" font-family=\"Times,serif\" font-size=\"14.00\" text-anchor=\"middle\" x=\"1191.5\" y=\"-1336.3\">output:</text>\n<polyline fill=\"none\" points=\"1220.5,-1328.5 1220.5,-1374.5 \" stroke=\"#000000\"/>\n<text fill=\"#000000\" font-family=\"Times,serif\" font-size=\"14.00\" text-anchor=\"middle\" x=\"1283\" y=\"-1359.3\">(None, 32, 16, 64)</text>\n<polyline fill=\"none\" points=\"1220.5,-1351.5 1345.5,-1351.5 \" stroke=\"#000000\"/>\n<text fill=\"#000000\" font-family=\"Times,serif\" font-size=\"14.00\" text-anchor=\"middle\" x=\"1283\" y=\"-1336.3\">(None, 32, 16, 64)</text>\n</g>\n<!-- 140512692828816&#45;&gt;140512692886832 -->\n<g class=\"edge\" id=\"edge21\">\n<title>140512692828816-&gt;140512692886832</title>\n<path d=\"M1121.7133,-1411.3799C1128.0317,-1402.6394 1135.3355,-1392.5358 1142.123,-1383.1465\" fill=\"none\" stroke=\"#000000\"/>\n<polygon fill=\"#000000\" points=\"1145.1462,-1384.9387 1148.1682,-1374.784 1139.4732,-1380.8378 1145.1462,-1384.9387\" stroke=\"#000000\"/>\n</g>\n<!-- 140512687368400 -->\n<g class=\"node\" id=\"node23\">\n<title>140512687368400</title>\n<polygon fill=\"none\" points=\"79.5,-1079.5 79.5,-1125.5 402.5,-1125.5 402.5,-1079.5 79.5,-1079.5\" stroke=\"#000000\"/>\n<text fill=\"#000000\" font-family=\"Times,serif\" font-size=\"14.00\" text-anchor=\"middle\" x=\"149.5\" y=\"-1098.8\">dropout_11: Dropout</text>\n<polyline fill=\"none\" points=\"219.5,-1079.5 219.5,-1125.5 \" stroke=\"#000000\"/>\n<text fill=\"#000000\" font-family=\"Times,serif\" font-size=\"14.00\" text-anchor=\"middle\" x=\"248.5\" y=\"-1110.3\">input:</text>\n<polyline fill=\"none\" points=\"219.5,-1102.5 277.5,-1102.5 \" stroke=\"#000000\"/>\n<text fill=\"#000000\" font-family=\"Times,serif\" font-size=\"14.00\" text-anchor=\"middle\" x=\"248.5\" y=\"-1087.3\">output:</text>\n<polyline fill=\"none\" points=\"277.5,-1079.5 277.5,-1125.5 \" stroke=\"#000000\"/>\n<text fill=\"#000000\" font-family=\"Times,serif\" font-size=\"14.00\" text-anchor=\"middle\" x=\"340\" y=\"-1110.3\">(None, 16, 16, 64)</text>\n<polyline fill=\"none\" points=\"277.5,-1102.5 402.5,-1102.5 \" stroke=\"#000000\"/>\n<text fill=\"#000000\" font-family=\"Times,serif\" font-size=\"14.00\" text-anchor=\"middle\" x=\"340\" y=\"-1087.3\">(None, 16, 16, 64)</text>\n</g>\n<!-- 140512687369408&#45;&gt;140512687368400 -->\n<g class=\"edge\" id=\"edge22\">\n<title>140512687369408-&gt;140512687368400</title>\n<path d=\"M241,-1162.3799C241,-1154.1745 241,-1144.7679 241,-1135.8786\" fill=\"none\" stroke=\"#000000\"/>\n<polygon fill=\"#000000\" points=\"244.5001,-1135.784 241,-1125.784 237.5001,-1135.784 244.5001,-1135.784\" stroke=\"#000000\"/>\n</g>\n<!-- 140512693749408 -->\n<g class=\"node\" id=\"node24\">\n<title>140512693749408</title>\n<polygon fill=\"none\" points=\"525.5,-1245.5 525.5,-1291.5 842.5,-1291.5 842.5,-1245.5 525.5,-1245.5\" stroke=\"#000000\"/>\n<text fill=\"#000000\" font-family=\"Times,serif\" font-size=\"14.00\" text-anchor=\"middle\" x=\"592.5\" y=\"-1264.8\">dropout_2: Dropout</text>\n<polyline fill=\"none\" points=\"659.5,-1245.5 659.5,-1291.5 \" stroke=\"#000000\"/>\n<text fill=\"#000000\" font-family=\"Times,serif\" font-size=\"14.00\" text-anchor=\"middle\" x=\"688.5\" y=\"-1276.3\">input:</text>\n<polyline fill=\"none\" points=\"659.5,-1268.5 717.5,-1268.5 \" stroke=\"#000000\"/>\n<text fill=\"#000000\" font-family=\"Times,serif\" font-size=\"14.00\" text-anchor=\"middle\" x=\"688.5\" y=\"-1253.3\">output:</text>\n<polyline fill=\"none\" points=\"717.5,-1245.5 717.5,-1291.5 \" stroke=\"#000000\"/>\n<text fill=\"#000000\" font-family=\"Times,serif\" font-size=\"14.00\" text-anchor=\"middle\" x=\"780\" y=\"-1276.3\">(None, 32, 16, 64)</text>\n<polyline fill=\"none\" points=\"717.5,-1268.5 842.5,-1268.5 \" stroke=\"#000000\"/>\n<text fill=\"#000000\" font-family=\"Times,serif\" font-size=\"14.00\" text-anchor=\"middle\" x=\"780\" y=\"-1253.3\">(None, 32, 16, 64)</text>\n</g>\n<!-- 140512693748904&#45;&gt;140512693749408 -->\n<g class=\"edge\" id=\"edge23\">\n<title>140512693748904-&gt;140512693749408</title>\n<path d=\"M684,-1328.3799C684,-1320.1745 684,-1310.7679 684,-1301.8786\" fill=\"none\" stroke=\"#000000\"/>\n<polygon fill=\"#000000\" points=\"687.5001,-1301.784 684,-1291.784 680.5001,-1301.784 687.5001,-1301.784\" stroke=\"#000000\"/>\n</g>\n<!-- 140512692887392 -->\n<g class=\"node\" id=\"node25\">\n<title>140512692887392</title>\n<polygon fill=\"none\" points=\"1021.5,-1245.5 1021.5,-1291.5 1338.5,-1291.5 1338.5,-1245.5 1021.5,-1245.5\" stroke=\"#000000\"/>\n<text fill=\"#000000\" font-family=\"Times,serif\" font-size=\"14.00\" text-anchor=\"middle\" x=\"1088.5\" y=\"-1264.8\">dropout_6: Dropout</text>\n<polyline fill=\"none\" points=\"1155.5,-1245.5 1155.5,-1291.5 \" stroke=\"#000000\"/>\n<text fill=\"#000000\" font-family=\"Times,serif\" font-size=\"14.00\" text-anchor=\"middle\" x=\"1184.5\" y=\"-1276.3\">input:</text>\n<polyline fill=\"none\" points=\"1155.5,-1268.5 1213.5,-1268.5 \" stroke=\"#000000\"/>\n<text fill=\"#000000\" font-family=\"Times,serif\" font-size=\"14.00\" text-anchor=\"middle\" x=\"1184.5\" y=\"-1253.3\">output:</text>\n<polyline fill=\"none\" points=\"1213.5,-1245.5 1213.5,-1291.5 \" stroke=\"#000000\"/>\n<text fill=\"#000000\" font-family=\"Times,serif\" font-size=\"14.00\" text-anchor=\"middle\" x=\"1276\" y=\"-1276.3\">(None, 32, 16, 64)</text>\n<polyline fill=\"none\" points=\"1213.5,-1268.5 1338.5,-1268.5 \" stroke=\"#000000\"/>\n<text fill=\"#000000\" font-family=\"Times,serif\" font-size=\"14.00\" text-anchor=\"middle\" x=\"1276\" y=\"-1253.3\">(None, 32, 16, 64)</text>\n</g>\n<!-- 140512692886832&#45;&gt;140512692887392 -->\n<g class=\"edge\" id=\"edge24\">\n<title>140512692886832-&gt;140512692887392</title>\n<path d=\"M1169.1783,-1328.3799C1170.6612,-1320.1745 1172.3612,-1310.7679 1173.9677,-1301.8786\" fill=\"none\" stroke=\"#000000\"/>\n<polygon fill=\"#000000\" points=\"1177.4578,-1302.2471 1175.792,-1291.784 1170.5693,-1301.0021 1177.4578,-1302.2471\" stroke=\"#000000\"/>\n</g>\n<!-- 140512687398360 -->\n<g class=\"node\" id=\"node26\">\n<title>140512687398360</title>\n<polygon fill=\"none\" points=\"0,-996.5 0,-1042.5 482,-1042.5 482,-996.5 0,-996.5\" stroke=\"#000000\"/>\n<text fill=\"#000000\" font-family=\"Times,serif\" font-size=\"14.00\" text-anchor=\"middle\" x=\"149.5\" y=\"-1015.8\">instance_normalization_8: InstanceNormalization</text>\n<polyline fill=\"none\" points=\"299,-996.5 299,-1042.5 \" stroke=\"#000000\"/>\n<text fill=\"#000000\" font-family=\"Times,serif\" font-size=\"14.00\" text-anchor=\"middle\" x=\"328\" y=\"-1027.3\">input:</text>\n<polyline fill=\"none\" points=\"299,-1019.5 357,-1019.5 \" stroke=\"#000000\"/>\n<text fill=\"#000000\" font-family=\"Times,serif\" font-size=\"14.00\" text-anchor=\"middle\" x=\"328\" y=\"-1004.3\">output:</text>\n<polyline fill=\"none\" points=\"357,-996.5 357,-1042.5 \" stroke=\"#000000\"/>\n<text fill=\"#000000\" font-family=\"Times,serif\" font-size=\"14.00\" text-anchor=\"middle\" x=\"419.5\" y=\"-1027.3\">(None, 16, 16, 64)</text>\n<polyline fill=\"none\" points=\"357,-1019.5 482,-1019.5 \" stroke=\"#000000\"/>\n<text fill=\"#000000\" font-family=\"Times,serif\" font-size=\"14.00\" text-anchor=\"middle\" x=\"419.5\" y=\"-1004.3\">(None, 16, 16, 64)</text>\n</g>\n<!-- 140512687368400&#45;&gt;140512687398360 -->\n<g class=\"edge\" id=\"edge25\">\n<title>140512687368400-&gt;140512687398360</title>\n<path d=\"M241,-1079.3799C241,-1071.1745 241,-1061.7679 241,-1052.8786\" fill=\"none\" stroke=\"#000000\"/>\n<polygon fill=\"#000000\" points=\"244.5001,-1052.784 241,-1042.784 237.5001,-1052.784 244.5001,-1052.784\" stroke=\"#000000\"/>\n</g>\n<!-- 140512693804168 -->\n<g class=\"node\" id=\"node27\">\n<title>140512693804168</title>\n<polygon fill=\"none\" points=\"443,-1162.5 443,-1208.5 925,-1208.5 925,-1162.5 443,-1162.5\" stroke=\"#000000\"/>\n<text fill=\"#000000\" font-family=\"Times,serif\" font-size=\"14.00\" text-anchor=\"middle\" x=\"592.5\" y=\"-1181.8\">instance_normalization_1: InstanceNormalization</text>\n<polyline fill=\"none\" points=\"742,-1162.5 742,-1208.5 \" stroke=\"#000000\"/>\n<text fill=\"#000000\" font-family=\"Times,serif\" font-size=\"14.00\" text-anchor=\"middle\" x=\"771\" y=\"-1193.3\">input:</text>\n<polyline fill=\"none\" points=\"742,-1185.5 800,-1185.5 \" stroke=\"#000000\"/>\n<text fill=\"#000000\" font-family=\"Times,serif\" font-size=\"14.00\" text-anchor=\"middle\" x=\"771\" y=\"-1170.3\">output:</text>\n<polyline fill=\"none\" points=\"800,-1162.5 800,-1208.5 \" stroke=\"#000000\"/>\n<text fill=\"#000000\" font-family=\"Times,serif\" font-size=\"14.00\" text-anchor=\"middle\" x=\"862.5\" y=\"-1193.3\">(None, 32, 16, 64)</text>\n<polyline fill=\"none\" points=\"800,-1185.5 925,-1185.5 \" stroke=\"#000000\"/>\n<text fill=\"#000000\" font-family=\"Times,serif\" font-size=\"14.00\" text-anchor=\"middle\" x=\"862.5\" y=\"-1170.3\">(None, 32, 16, 64)</text>\n</g>\n<!-- 140512693749408&#45;&gt;140512693804168 -->\n<g class=\"edge\" id=\"edge26\">\n<title>140512693749408-&gt;140512693804168</title>\n<path d=\"M684,-1245.3799C684,-1237.1745 684,-1227.7679 684,-1218.8786\" fill=\"none\" stroke=\"#000000\"/>\n<polygon fill=\"#000000\" points=\"687.5001,-1218.784 684,-1208.784 680.5001,-1218.784 687.5001,-1218.784\" stroke=\"#000000\"/>\n</g>\n<!-- 140512692939296 -->\n<g class=\"node\" id=\"node28\">\n<title>140512692939296</title>\n<polygon fill=\"none\" points=\"943,-1162.5 943,-1208.5 1425,-1208.5 1425,-1162.5 943,-1162.5\" stroke=\"#000000\"/>\n<text fill=\"#000000\" font-family=\"Times,serif\" font-size=\"14.00\" text-anchor=\"middle\" x=\"1092.5\" y=\"-1181.8\">instance_normalization_4: InstanceNormalization</text>\n<polyline fill=\"none\" points=\"1242,-1162.5 1242,-1208.5 \" stroke=\"#000000\"/>\n<text fill=\"#000000\" font-family=\"Times,serif\" font-size=\"14.00\" text-anchor=\"middle\" x=\"1271\" y=\"-1193.3\">input:</text>\n<polyline fill=\"none\" points=\"1242,-1185.5 1300,-1185.5 \" stroke=\"#000000\"/>\n<text fill=\"#000000\" font-family=\"Times,serif\" font-size=\"14.00\" text-anchor=\"middle\" x=\"1271\" y=\"-1170.3\">output:</text>\n<polyline fill=\"none\" points=\"1300,-1162.5 1300,-1208.5 \" stroke=\"#000000\"/>\n<text fill=\"#000000\" font-family=\"Times,serif\" font-size=\"14.00\" text-anchor=\"middle\" x=\"1362.5\" y=\"-1193.3\">(None, 32, 16, 64)</text>\n<polyline fill=\"none\" points=\"1300,-1185.5 1425,-1185.5 \" stroke=\"#000000\"/>\n<text fill=\"#000000\" font-family=\"Times,serif\" font-size=\"14.00\" text-anchor=\"middle\" x=\"1362.5\" y=\"-1170.3\">(None, 32, 16, 64)</text>\n</g>\n<!-- 140512692887392&#45;&gt;140512692939296 -->\n<g class=\"edge\" id=\"edge27\">\n<title>140512692887392-&gt;140512692939296</title>\n<path d=\"M1181.1142,-1245.3799C1181.5097,-1237.1745 1181.963,-1227.7679 1182.3914,-1218.8786\" fill=\"none\" stroke=\"#000000\"/>\n<polygon fill=\"#000000\" points=\"1185.8924,-1218.9409 1182.8779,-1208.784 1178.9005,-1218.6039 1185.8924,-1218.9409\" stroke=\"#000000\"/>\n</g>\n<!-- 140512686925136 -->\n<g class=\"node\" id=\"node29\">\n<title>140512686925136</title>\n<polygon fill=\"none\" points=\"79.5,-913.5 79.5,-959.5 402.5,-959.5 402.5,-913.5 79.5,-913.5\" stroke=\"#000000\"/>\n<text fill=\"#000000\" font-family=\"Times,serif\" font-size=\"14.00\" text-anchor=\"middle\" x=\"149.5\" y=\"-932.8\">conv2d_12: Conv2D</text>\n<polyline fill=\"none\" points=\"219.5,-913.5 219.5,-959.5 \" stroke=\"#000000\"/>\n<text fill=\"#000000\" font-family=\"Times,serif\" font-size=\"14.00\" text-anchor=\"middle\" x=\"248.5\" y=\"-944.3\">input:</text>\n<polyline fill=\"none\" points=\"219.5,-936.5 277.5,-936.5 \" stroke=\"#000000\"/>\n<text fill=\"#000000\" font-family=\"Times,serif\" font-size=\"14.00\" text-anchor=\"middle\" x=\"248.5\" y=\"-921.3\">output:</text>\n<polyline fill=\"none\" points=\"277.5,-913.5 277.5,-959.5 \" stroke=\"#000000\"/>\n<text fill=\"#000000\" font-family=\"Times,serif\" font-size=\"14.00\" text-anchor=\"middle\" x=\"340\" y=\"-944.3\">(None, 16, 16, 64)</text>\n<polyline fill=\"none\" points=\"277.5,-936.5 402.5,-936.5 \" stroke=\"#000000\"/>\n<text fill=\"#000000\" font-family=\"Times,serif\" font-size=\"14.00\" text-anchor=\"middle\" x=\"340\" y=\"-921.3\">(None, 8, 8, 64)</text>\n</g>\n<!-- 140512687398360&#45;&gt;140512686925136 -->\n<g class=\"edge\" id=\"edge28\">\n<title>140512687398360-&gt;140512686925136</title>\n<path d=\"M241,-996.3799C241,-988.1745 241,-978.7679 241,-969.8786\" fill=\"none\" stroke=\"#000000\"/>\n<polygon fill=\"#000000\" points=\"244.5001,-969.784 241,-959.784 237.5001,-969.784 244.5001,-969.784\" stroke=\"#000000\"/>\n</g>\n<!-- 140512693303112 -->\n<g class=\"node\" id=\"node30\">\n<title>140512693303112</title>\n<polygon fill=\"none\" points=\"526,-1079.5 526,-1125.5 842,-1125.5 842,-1079.5 526,-1079.5\" stroke=\"#000000\"/>\n<text fill=\"#000000\" font-family=\"Times,serif\" font-size=\"14.00\" text-anchor=\"middle\" x=\"592.5\" y=\"-1098.8\">conv2d_3: Conv2D</text>\n<polyline fill=\"none\" points=\"659,-1079.5 659,-1125.5 \" stroke=\"#000000\"/>\n<text fill=\"#000000\" font-family=\"Times,serif\" font-size=\"14.00\" text-anchor=\"middle\" x=\"688\" y=\"-1110.3\">input:</text>\n<polyline fill=\"none\" points=\"659,-1102.5 717,-1102.5 \" stroke=\"#000000\"/>\n<text fill=\"#000000\" font-family=\"Times,serif\" font-size=\"14.00\" text-anchor=\"middle\" x=\"688\" y=\"-1087.3\">output:</text>\n<polyline fill=\"none\" points=\"717,-1079.5 717,-1125.5 \" stroke=\"#000000\"/>\n<text fill=\"#000000\" font-family=\"Times,serif\" font-size=\"14.00\" text-anchor=\"middle\" x=\"779.5\" y=\"-1110.3\">(None, 32, 16, 64)</text>\n<polyline fill=\"none\" points=\"717,-1102.5 842,-1102.5 \" stroke=\"#000000\"/>\n<text fill=\"#000000\" font-family=\"Times,serif\" font-size=\"14.00\" text-anchor=\"middle\" x=\"779.5\" y=\"-1087.3\">(None, 16, 8, 64)</text>\n</g>\n<!-- 140512693804168&#45;&gt;140512693303112 -->\n<g class=\"edge\" id=\"edge29\">\n<title>140512693804168-&gt;140512693303112</title>\n<path d=\"M684,-1162.3799C684,-1154.1745 684,-1144.7679 684,-1135.8786\" fill=\"none\" stroke=\"#000000\"/>\n<polygon fill=\"#000000\" points=\"687.5001,-1135.784 684,-1125.784 680.5001,-1135.784 687.5001,-1135.784\" stroke=\"#000000\"/>\n</g>\n<!-- 140512692940696 -->\n<g class=\"node\" id=\"node31\">\n<title>140512692940696</title>\n<polygon fill=\"none\" points=\"1025,-1079.5 1025,-1125.5 1341,-1125.5 1341,-1079.5 1025,-1079.5\" stroke=\"#000000\"/>\n<text fill=\"#000000\" font-family=\"Times,serif\" font-size=\"14.00\" text-anchor=\"middle\" x=\"1091.5\" y=\"-1098.8\">conv2d_7: Conv2D</text>\n<polyline fill=\"none\" points=\"1158,-1079.5 1158,-1125.5 \" stroke=\"#000000\"/>\n<text fill=\"#000000\" font-family=\"Times,serif\" font-size=\"14.00\" text-anchor=\"middle\" x=\"1187\" y=\"-1110.3\">input:</text>\n<polyline fill=\"none\" points=\"1158,-1102.5 1216,-1102.5 \" stroke=\"#000000\"/>\n<text fill=\"#000000\" font-family=\"Times,serif\" font-size=\"14.00\" text-anchor=\"middle\" x=\"1187\" y=\"-1087.3\">output:</text>\n<polyline fill=\"none\" points=\"1216,-1079.5 1216,-1125.5 \" stroke=\"#000000\"/>\n<text fill=\"#000000\" font-family=\"Times,serif\" font-size=\"14.00\" text-anchor=\"middle\" x=\"1278.5\" y=\"-1110.3\">(None, 32, 16, 64)</text>\n<polyline fill=\"none\" points=\"1216,-1102.5 1341,-1102.5 \" stroke=\"#000000\"/>\n<text fill=\"#000000\" font-family=\"Times,serif\" font-size=\"14.00\" text-anchor=\"middle\" x=\"1278.5\" y=\"-1087.3\">(None, 16, 8, 64)</text>\n</g>\n<!-- 140512692939296&#45;&gt;140512692940696 -->\n<g class=\"edge\" id=\"edge30\">\n<title>140512692939296-&gt;140512692940696</title>\n<path d=\"M1183.7214,-1162.3799C1183.6226,-1154.1745 1183.5093,-1144.7679 1183.4022,-1135.8786\" fill=\"none\" stroke=\"#000000\"/>\n<polygon fill=\"#000000\" points=\"1186.9008,-1135.7411 1183.2805,-1125.784 1179.9014,-1135.8255 1186.9008,-1135.7411\" stroke=\"#000000\"/>\n</g>\n<!-- 140512687012888 -->\n<g class=\"node\" id=\"node32\">\n<title>140512687012888</title>\n<polygon fill=\"none\" points=\"65.5,-830.5 65.5,-876.5 418.5,-876.5 418.5,-830.5 65.5,-830.5\" stroke=\"#000000\"/>\n<text fill=\"#000000\" font-family=\"Times,serif\" font-size=\"14.00\" text-anchor=\"middle\" x=\"158\" y=\"-849.8\">leaky_re_lu_12: LeakyReLU</text>\n<polyline fill=\"none\" points=\"250.5,-830.5 250.5,-876.5 \" stroke=\"#000000\"/>\n<text fill=\"#000000\" font-family=\"Times,serif\" font-size=\"14.00\" text-anchor=\"middle\" x=\"279.5\" y=\"-861.3\">input:</text>\n<polyline fill=\"none\" points=\"250.5,-853.5 308.5,-853.5 \" stroke=\"#000000\"/>\n<text fill=\"#000000\" font-family=\"Times,serif\" font-size=\"14.00\" text-anchor=\"middle\" x=\"279.5\" y=\"-838.3\">output:</text>\n<polyline fill=\"none\" points=\"308.5,-830.5 308.5,-876.5 \" stroke=\"#000000\"/>\n<text fill=\"#000000\" font-family=\"Times,serif\" font-size=\"14.00\" text-anchor=\"middle\" x=\"363.5\" y=\"-861.3\">(None, 8, 8, 64)</text>\n<polyline fill=\"none\" points=\"308.5,-853.5 418.5,-853.5 \" stroke=\"#000000\"/>\n<text fill=\"#000000\" font-family=\"Times,serif\" font-size=\"14.00\" text-anchor=\"middle\" x=\"363.5\" y=\"-838.3\">(None, 8, 8, 64)</text>\n</g>\n<!-- 140512686925136&#45;&gt;140512687012888 -->\n<g class=\"edge\" id=\"edge31\">\n<title>140512686925136-&gt;140512687012888</title>\n<path d=\"M241.2786,-913.3799C241.3774,-905.1745 241.4907,-895.7679 241.5978,-886.8786\" fill=\"none\" stroke=\"#000000\"/>\n<polygon fill=\"#000000\" points=\"245.0986,-886.8255 241.7195,-876.784 238.0992,-886.7411 245.0986,-886.8255\" stroke=\"#000000\"/>\n</g>\n<!-- 140512693412360 -->\n<g class=\"node\" id=\"node33\">\n<title>140512693412360</title>\n<polygon fill=\"none\" points=\"507.5,-996.5 507.5,-1042.5 860.5,-1042.5 860.5,-996.5 507.5,-996.5\" stroke=\"#000000\"/>\n<text fill=\"#000000\" font-family=\"Times,serif\" font-size=\"14.00\" text-anchor=\"middle\" x=\"596.5\" y=\"-1015.8\">leaky_re_lu_3: LeakyReLU</text>\n<polyline fill=\"none\" points=\"685.5,-996.5 685.5,-1042.5 \" stroke=\"#000000\"/>\n<text fill=\"#000000\" font-family=\"Times,serif\" font-size=\"14.00\" text-anchor=\"middle\" x=\"714.5\" y=\"-1027.3\">input:</text>\n<polyline fill=\"none\" points=\"685.5,-1019.5 743.5,-1019.5 \" stroke=\"#000000\"/>\n<text fill=\"#000000\" font-family=\"Times,serif\" font-size=\"14.00\" text-anchor=\"middle\" x=\"714.5\" y=\"-1004.3\">output:</text>\n<polyline fill=\"none\" points=\"743.5,-996.5 743.5,-1042.5 \" stroke=\"#000000\"/>\n<text fill=\"#000000\" font-family=\"Times,serif\" font-size=\"14.00\" text-anchor=\"middle\" x=\"802\" y=\"-1027.3\">(None, 16, 8, 64)</text>\n<polyline fill=\"none\" points=\"743.5,-1019.5 860.5,-1019.5 \" stroke=\"#000000\"/>\n<text fill=\"#000000\" font-family=\"Times,serif\" font-size=\"14.00\" text-anchor=\"middle\" x=\"802\" y=\"-1004.3\">(None, 16, 8, 64)</text>\n</g>\n<!-- 140512693303112&#45;&gt;140512693412360 -->\n<g class=\"edge\" id=\"edge32\">\n<title>140512693303112-&gt;140512693412360</title>\n<path d=\"M684,-1079.3799C684,-1071.1745 684,-1061.7679 684,-1052.8786\" fill=\"none\" stroke=\"#000000\"/>\n<polygon fill=\"#000000\" points=\"687.5001,-1052.784 684,-1042.784 680.5001,-1052.784 687.5001,-1052.784\" stroke=\"#000000\"/>\n</g>\n<!-- 140512687725928 -->\n<g class=\"node\" id=\"node34\">\n<title>140512687725928</title>\n<polygon fill=\"none\" points=\"1006.5,-996.5 1006.5,-1042.5 1359.5,-1042.5 1359.5,-996.5 1006.5,-996.5\" stroke=\"#000000\"/>\n<text fill=\"#000000\" font-family=\"Times,serif\" font-size=\"14.00\" text-anchor=\"middle\" x=\"1095.5\" y=\"-1015.8\">leaky_re_lu_7: LeakyReLU</text>\n<polyline fill=\"none\" points=\"1184.5,-996.5 1184.5,-1042.5 \" stroke=\"#000000\"/>\n<text fill=\"#000000\" font-family=\"Times,serif\" font-size=\"14.00\" text-anchor=\"middle\" x=\"1213.5\" y=\"-1027.3\">input:</text>\n<polyline fill=\"none\" points=\"1184.5,-1019.5 1242.5,-1019.5 \" stroke=\"#000000\"/>\n<text fill=\"#000000\" font-family=\"Times,serif\" font-size=\"14.00\" text-anchor=\"middle\" x=\"1213.5\" y=\"-1004.3\">output:</text>\n<polyline fill=\"none\" points=\"1242.5,-996.5 1242.5,-1042.5 \" stroke=\"#000000\"/>\n<text fill=\"#000000\" font-family=\"Times,serif\" font-size=\"14.00\" text-anchor=\"middle\" x=\"1301\" y=\"-1027.3\">(None, 16, 8, 64)</text>\n<polyline fill=\"none\" points=\"1242.5,-1019.5 1359.5,-1019.5 \" stroke=\"#000000\"/>\n<text fill=\"#000000\" font-family=\"Times,serif\" font-size=\"14.00\" text-anchor=\"middle\" x=\"1301\" y=\"-1004.3\">(None, 16, 8, 64)</text>\n</g>\n<!-- 140512692940696&#45;&gt;140512687725928 -->\n<g class=\"edge\" id=\"edge33\">\n<title>140512692940696-&gt;140512687725928</title>\n<path d=\"M1183,-1079.3799C1183,-1071.1745 1183,-1061.7679 1183,-1052.8786\" fill=\"none\" stroke=\"#000000\"/>\n<polygon fill=\"#000000\" points=\"1186.5001,-1052.784 1183,-1042.784 1179.5001,-1052.784 1186.5001,-1052.784\" stroke=\"#000000\"/>\n</g>\n<!-- 140512687011880 -->\n<g class=\"node\" id=\"node35\">\n<title>140512687011880</title>\n<polygon fill=\"none\" points=\"89.5,-747.5 89.5,-793.5 398.5,-793.5 398.5,-747.5 89.5,-747.5\" stroke=\"#000000\"/>\n<text fill=\"#000000\" font-family=\"Times,serif\" font-size=\"14.00\" text-anchor=\"middle\" x=\"160\" y=\"-766.8\">dropout_12: Dropout</text>\n<polyline fill=\"none\" points=\"230.5,-747.5 230.5,-793.5 \" stroke=\"#000000\"/>\n<text fill=\"#000000\" font-family=\"Times,serif\" font-size=\"14.00\" text-anchor=\"middle\" x=\"259.5\" y=\"-778.3\">input:</text>\n<polyline fill=\"none\" points=\"230.5,-770.5 288.5,-770.5 \" stroke=\"#000000\"/>\n<text fill=\"#000000\" font-family=\"Times,serif\" font-size=\"14.00\" text-anchor=\"middle\" x=\"259.5\" y=\"-755.3\">output:</text>\n<polyline fill=\"none\" points=\"288.5,-747.5 288.5,-793.5 \" stroke=\"#000000\"/>\n<text fill=\"#000000\" font-family=\"Times,serif\" font-size=\"14.00\" text-anchor=\"middle\" x=\"343.5\" y=\"-778.3\">(None, 8, 8, 64)</text>\n<polyline fill=\"none\" points=\"288.5,-770.5 398.5,-770.5 \" stroke=\"#000000\"/>\n<text fill=\"#000000\" font-family=\"Times,serif\" font-size=\"14.00\" text-anchor=\"middle\" x=\"343.5\" y=\"-755.3\">(None, 8, 8, 64)</text>\n</g>\n<!-- 140512687012888&#45;&gt;140512687011880 -->\n<g class=\"edge\" id=\"edge34\">\n<title>140512687012888-&gt;140512687011880</title>\n<path d=\"M242.5571,-830.3799C242.7548,-822.1745 242.9815,-812.7679 243.1957,-803.8786\" fill=\"none\" stroke=\"#000000\"/>\n<polygon fill=\"#000000\" points=\"246.6969,-803.8655 243.4389,-793.784 239.699,-803.6968 246.6969,-803.8655\" stroke=\"#000000\"/>\n</g>\n<!-- 140512693414376 -->\n<g class=\"node\" id=\"node36\">\n<title>140512693414376</title>\n<polygon fill=\"none\" points=\"529.5,-913.5 529.5,-959.5 838.5,-959.5 838.5,-913.5 529.5,-913.5\" stroke=\"#000000\"/>\n<text fill=\"#000000\" font-family=\"Times,serif\" font-size=\"14.00\" text-anchor=\"middle\" x=\"596.5\" y=\"-932.8\">dropout_3: Dropout</text>\n<polyline fill=\"none\" points=\"663.5,-913.5 663.5,-959.5 \" stroke=\"#000000\"/>\n<text fill=\"#000000\" font-family=\"Times,serif\" font-size=\"14.00\" text-anchor=\"middle\" x=\"692.5\" y=\"-944.3\">input:</text>\n<polyline fill=\"none\" points=\"663.5,-936.5 721.5,-936.5 \" stroke=\"#000000\"/>\n<text fill=\"#000000\" font-family=\"Times,serif\" font-size=\"14.00\" text-anchor=\"middle\" x=\"692.5\" y=\"-921.3\">output:</text>\n<polyline fill=\"none\" points=\"721.5,-913.5 721.5,-959.5 \" stroke=\"#000000\"/>\n<text fill=\"#000000\" font-family=\"Times,serif\" font-size=\"14.00\" text-anchor=\"middle\" x=\"780\" y=\"-944.3\">(None, 16, 8, 64)</text>\n<polyline fill=\"none\" points=\"721.5,-936.5 838.5,-936.5 \" stroke=\"#000000\"/>\n<text fill=\"#000000\" font-family=\"Times,serif\" font-size=\"14.00\" text-anchor=\"middle\" x=\"780\" y=\"-921.3\">(None, 16, 8, 64)</text>\n</g>\n<!-- 140512693412360&#45;&gt;140512693414376 -->\n<g class=\"edge\" id=\"edge35\">\n<title>140512693412360-&gt;140512693414376</title>\n<path d=\"M684,-996.3799C684,-988.1745 684,-978.7679 684,-969.8786\" fill=\"none\" stroke=\"#000000\"/>\n<polygon fill=\"#000000\" points=\"687.5001,-969.784 684,-959.784 680.5001,-969.784 687.5001,-969.784\" stroke=\"#000000\"/>\n</g>\n<!-- 140512687725144 -->\n<g class=\"node\" id=\"node37\">\n<title>140512687725144</title>\n<polygon fill=\"none\" points=\"1024.5,-913.5 1024.5,-959.5 1333.5,-959.5 1333.5,-913.5 1024.5,-913.5\" stroke=\"#000000\"/>\n<text fill=\"#000000\" font-family=\"Times,serif\" font-size=\"14.00\" text-anchor=\"middle\" x=\"1091.5\" y=\"-932.8\">dropout_7: Dropout</text>\n<polyline fill=\"none\" points=\"1158.5,-913.5 1158.5,-959.5 \" stroke=\"#000000\"/>\n<text fill=\"#000000\" font-family=\"Times,serif\" font-size=\"14.00\" text-anchor=\"middle\" x=\"1187.5\" y=\"-944.3\">input:</text>\n<polyline fill=\"none\" points=\"1158.5,-936.5 1216.5,-936.5 \" stroke=\"#000000\"/>\n<text fill=\"#000000\" font-family=\"Times,serif\" font-size=\"14.00\" text-anchor=\"middle\" x=\"1187.5\" y=\"-921.3\">output:</text>\n<polyline fill=\"none\" points=\"1216.5,-913.5 1216.5,-959.5 \" stroke=\"#000000\"/>\n<text fill=\"#000000\" font-family=\"Times,serif\" font-size=\"14.00\" text-anchor=\"middle\" x=\"1275\" y=\"-944.3\">(None, 16, 8, 64)</text>\n<polyline fill=\"none\" points=\"1216.5,-936.5 1333.5,-936.5 \" stroke=\"#000000\"/>\n<text fill=\"#000000\" font-family=\"Times,serif\" font-size=\"14.00\" text-anchor=\"middle\" x=\"1275\" y=\"-921.3\">(None, 16, 8, 64)</text>\n</g>\n<!-- 140512687725928&#45;&gt;140512687725144 -->\n<g class=\"edge\" id=\"edge36\">\n<title>140512687725928-&gt;140512687725144</title>\n<path d=\"M1181.8858,-996.3799C1181.4903,-988.1745 1181.037,-978.7679 1180.6086,-969.8786\" fill=\"none\" stroke=\"#000000\"/>\n<polygon fill=\"#000000\" points=\"1184.0995,-969.6039 1180.1221,-959.784 1177.1076,-969.9409 1184.0995,-969.6039\" stroke=\"#000000\"/>\n</g>\n<!-- 140512687044368 -->\n<g class=\"node\" id=\"node38\">\n<title>140512687044368</title>\n<polygon fill=\"none\" points=\"14.5,-664.5 14.5,-710.5 481.5,-710.5 481.5,-664.5 14.5,-664.5\" stroke=\"#000000\"/>\n<text fill=\"#000000\" font-family=\"Times,serif\" font-size=\"14.00\" text-anchor=\"middle\" x=\"164\" y=\"-683.8\">instance_normalization_9: InstanceNormalization</text>\n<polyline fill=\"none\" points=\"313.5,-664.5 313.5,-710.5 \" stroke=\"#000000\"/>\n<text fill=\"#000000\" font-family=\"Times,serif\" font-size=\"14.00\" text-anchor=\"middle\" x=\"342.5\" y=\"-695.3\">input:</text>\n<polyline fill=\"none\" points=\"313.5,-687.5 371.5,-687.5 \" stroke=\"#000000\"/>\n<text fill=\"#000000\" font-family=\"Times,serif\" font-size=\"14.00\" text-anchor=\"middle\" x=\"342.5\" y=\"-672.3\">output:</text>\n<polyline fill=\"none\" points=\"371.5,-664.5 371.5,-710.5 \" stroke=\"#000000\"/>\n<text fill=\"#000000\" font-family=\"Times,serif\" font-size=\"14.00\" text-anchor=\"middle\" x=\"426.5\" y=\"-695.3\">(None, 8, 8, 64)</text>\n<polyline fill=\"none\" points=\"371.5,-687.5 481.5,-687.5 \" stroke=\"#000000\"/>\n<text fill=\"#000000\" font-family=\"Times,serif\" font-size=\"14.00\" text-anchor=\"middle\" x=\"426.5\" y=\"-672.3\">(None, 8, 8, 64)</text>\n</g>\n<!-- 140512687011880&#45;&gt;140512687044368 -->\n<g class=\"edge\" id=\"edge37\">\n<title>140512687011880-&gt;140512687044368</title>\n<path d=\"M245.1142,-747.3799C245.5097,-739.1745 245.963,-729.7679 246.3914,-720.8786\" fill=\"none\" stroke=\"#000000\"/>\n<polygon fill=\"#000000\" points=\"249.8924,-720.9409 246.8779,-710.784 242.9005,-720.6039 249.8924,-720.9409\" stroke=\"#000000\"/>\n</g>\n<!-- 140512693435136 -->\n<g class=\"node\" id=\"node39\">\n<title>140512693435136</title>\n<polygon fill=\"none\" points=\"447,-830.5 447,-876.5 921,-876.5 921,-830.5 447,-830.5\" stroke=\"#000000\"/>\n<text fill=\"#000000\" font-family=\"Times,serif\" font-size=\"14.00\" text-anchor=\"middle\" x=\"596.5\" y=\"-849.8\">instance_normalization_2: InstanceNormalization</text>\n<polyline fill=\"none\" points=\"746,-830.5 746,-876.5 \" stroke=\"#000000\"/>\n<text fill=\"#000000\" font-family=\"Times,serif\" font-size=\"14.00\" text-anchor=\"middle\" x=\"775\" y=\"-861.3\">input:</text>\n<polyline fill=\"none\" points=\"746,-853.5 804,-853.5 \" stroke=\"#000000\"/>\n<text fill=\"#000000\" font-family=\"Times,serif\" font-size=\"14.00\" text-anchor=\"middle\" x=\"775\" y=\"-838.3\">output:</text>\n<polyline fill=\"none\" points=\"804,-830.5 804,-876.5 \" stroke=\"#000000\"/>\n<text fill=\"#000000\" font-family=\"Times,serif\" font-size=\"14.00\" text-anchor=\"middle\" x=\"862.5\" y=\"-861.3\">(None, 16, 8, 64)</text>\n<polyline fill=\"none\" points=\"804,-853.5 921,-853.5 \" stroke=\"#000000\"/>\n<text fill=\"#000000\" font-family=\"Times,serif\" font-size=\"14.00\" text-anchor=\"middle\" x=\"862.5\" y=\"-838.3\">(None, 16, 8, 64)</text>\n</g>\n<!-- 140512693414376&#45;&gt;140512693435136 -->\n<g class=\"edge\" id=\"edge38\">\n<title>140512693414376-&gt;140512693435136</title>\n<path d=\"M684,-913.3799C684,-905.1745 684,-895.7679 684,-886.8786\" fill=\"none\" stroke=\"#000000\"/>\n<polygon fill=\"#000000\" points=\"687.5001,-886.784 684,-876.784 680.5001,-886.784 687.5001,-886.784\" stroke=\"#000000\"/>\n</g>\n<!-- 140512687773960 -->\n<g class=\"node\" id=\"node40\">\n<title>140512687773960</title>\n<polygon fill=\"none\" points=\"941,-830.5 941,-876.5 1415,-876.5 1415,-830.5 941,-830.5\" stroke=\"#000000\"/>\n<text fill=\"#000000\" font-family=\"Times,serif\" font-size=\"14.00\" text-anchor=\"middle\" x=\"1090.5\" y=\"-849.8\">instance_normalization_5: InstanceNormalization</text>\n<polyline fill=\"none\" points=\"1240,-830.5 1240,-876.5 \" stroke=\"#000000\"/>\n<text fill=\"#000000\" font-family=\"Times,serif\" font-size=\"14.00\" text-anchor=\"middle\" x=\"1269\" y=\"-861.3\">input:</text>\n<polyline fill=\"none\" points=\"1240,-853.5 1298,-853.5 \" stroke=\"#000000\"/>\n<text fill=\"#000000\" font-family=\"Times,serif\" font-size=\"14.00\" text-anchor=\"middle\" x=\"1269\" y=\"-838.3\">output:</text>\n<polyline fill=\"none\" points=\"1298,-830.5 1298,-876.5 \" stroke=\"#000000\"/>\n<text fill=\"#000000\" font-family=\"Times,serif\" font-size=\"14.00\" text-anchor=\"middle\" x=\"1356.5\" y=\"-861.3\">(None, 16, 8, 64)</text>\n<polyline fill=\"none\" points=\"1298,-853.5 1415,-853.5 \" stroke=\"#000000\"/>\n<text fill=\"#000000\" font-family=\"Times,serif\" font-size=\"14.00\" text-anchor=\"middle\" x=\"1356.5\" y=\"-838.3\">(None, 16, 8, 64)</text>\n</g>\n<!-- 140512687725144&#45;&gt;140512687773960 -->\n<g class=\"edge\" id=\"edge39\">\n<title>140512687725144-&gt;140512687773960</title>\n<path d=\"M1178.7214,-913.3799C1178.6226,-905.1745 1178.5093,-895.7679 1178.4022,-886.8786\" fill=\"none\" stroke=\"#000000\"/>\n<polygon fill=\"#000000\" points=\"1181.9008,-886.7411 1178.2805,-876.784 1174.9014,-886.8255 1181.9008,-886.7411\" stroke=\"#000000\"/>\n</g>\n<!-- 140512687092792 -->\n<g class=\"node\" id=\"node41\">\n<title>140512687092792</title>\n<polygon fill=\"none\" points=\"101,-581.5 101,-627.5 409,-627.5 409,-581.5 101,-581.5\" stroke=\"#000000\"/>\n<text fill=\"#000000\" font-family=\"Times,serif\" font-size=\"14.00\" text-anchor=\"middle\" x=\"171\" y=\"-600.8\">conv2d_13: Conv2D</text>\n<polyline fill=\"none\" points=\"241,-581.5 241,-627.5 \" stroke=\"#000000\"/>\n<text fill=\"#000000\" font-family=\"Times,serif\" font-size=\"14.00\" text-anchor=\"middle\" x=\"270\" y=\"-612.3\">input:</text>\n<polyline fill=\"none\" points=\"241,-604.5 299,-604.5 \" stroke=\"#000000\"/>\n<text fill=\"#000000\" font-family=\"Times,serif\" font-size=\"14.00\" text-anchor=\"middle\" x=\"270\" y=\"-589.3\">output:</text>\n<polyline fill=\"none\" points=\"299,-581.5 299,-627.5 \" stroke=\"#000000\"/>\n<text fill=\"#000000\" font-family=\"Times,serif\" font-size=\"14.00\" text-anchor=\"middle\" x=\"354\" y=\"-612.3\">(None, 8, 8, 64)</text>\n<polyline fill=\"none\" points=\"299,-604.5 409,-604.5 \" stroke=\"#000000\"/>\n<text fill=\"#000000\" font-family=\"Times,serif\" font-size=\"14.00\" text-anchor=\"middle\" x=\"354\" y=\"-589.3\">(None, 4, 4, 64)</text>\n</g>\n<!-- 140512687044368&#45;&gt;140512687092792 -->\n<g class=\"edge\" id=\"edge40\">\n<title>140512687044368-&gt;140512687092792</title>\n<path d=\"M249.9499,-664.3799C250.6419,-656.1745 251.4352,-646.7679 252.1849,-637.8786\" fill=\"none\" stroke=\"#000000\"/>\n<polygon fill=\"#000000\" points=\"255.6834,-638.0428 253.0363,-627.784 248.7082,-637.4545 255.6834,-638.0428\" stroke=\"#000000\"/>\n</g>\n<!-- 140512693434520 -->\n<g class=\"node\" id=\"node42\">\n<title>140512693434520</title>\n<polygon fill=\"none\" points=\"530,-747.5 530,-793.5 838,-793.5 838,-747.5 530,-747.5\" stroke=\"#000000\"/>\n<text fill=\"#000000\" font-family=\"Times,serif\" font-size=\"14.00\" text-anchor=\"middle\" x=\"596.5\" y=\"-766.8\">conv2d_4: Conv2D</text>\n<polyline fill=\"none\" points=\"663,-747.5 663,-793.5 \" stroke=\"#000000\"/>\n<text fill=\"#000000\" font-family=\"Times,serif\" font-size=\"14.00\" text-anchor=\"middle\" x=\"692\" y=\"-778.3\">input:</text>\n<polyline fill=\"none\" points=\"663,-770.5 721,-770.5 \" stroke=\"#000000\"/>\n<text fill=\"#000000\" font-family=\"Times,serif\" font-size=\"14.00\" text-anchor=\"middle\" x=\"692\" y=\"-755.3\">output:</text>\n<polyline fill=\"none\" points=\"721,-747.5 721,-793.5 \" stroke=\"#000000\"/>\n<text fill=\"#000000\" font-family=\"Times,serif\" font-size=\"14.00\" text-anchor=\"middle\" x=\"779.5\" y=\"-778.3\">(None, 16, 8, 64)</text>\n<polyline fill=\"none\" points=\"721,-770.5 838,-770.5 \" stroke=\"#000000\"/>\n<text fill=\"#000000\" font-family=\"Times,serif\" font-size=\"14.00\" text-anchor=\"middle\" x=\"779.5\" y=\"-755.3\">(None, 8, 4, 64)</text>\n</g>\n<!-- 140512693435136&#45;&gt;140512693434520 -->\n<g class=\"edge\" id=\"edge41\">\n<title>140512693435136-&gt;140512693434520</title>\n<path d=\"M684,-830.3799C684,-822.1745 684,-812.7679 684,-803.8786\" fill=\"none\" stroke=\"#000000\"/>\n<polygon fill=\"#000000\" points=\"687.5001,-803.784 684,-793.784 680.5001,-803.784 687.5001,-803.784\" stroke=\"#000000\"/>\n</g>\n<!-- 140512687814528 -->\n<g class=\"node\" id=\"node43\">\n<title>140512687814528</title>\n<polygon fill=\"none\" points=\"1023,-747.5 1023,-793.5 1331,-793.5 1331,-747.5 1023,-747.5\" stroke=\"#000000\"/>\n<text fill=\"#000000\" font-family=\"Times,serif\" font-size=\"14.00\" text-anchor=\"middle\" x=\"1089.5\" y=\"-766.8\">conv2d_8: Conv2D</text>\n<polyline fill=\"none\" points=\"1156,-747.5 1156,-793.5 \" stroke=\"#000000\"/>\n<text fill=\"#000000\" font-family=\"Times,serif\" font-size=\"14.00\" text-anchor=\"middle\" x=\"1185\" y=\"-778.3\">input:</text>\n<polyline fill=\"none\" points=\"1156,-770.5 1214,-770.5 \" stroke=\"#000000\"/>\n<text fill=\"#000000\" font-family=\"Times,serif\" font-size=\"14.00\" text-anchor=\"middle\" x=\"1185\" y=\"-755.3\">output:</text>\n<polyline fill=\"none\" points=\"1214,-747.5 1214,-793.5 \" stroke=\"#000000\"/>\n<text fill=\"#000000\" font-family=\"Times,serif\" font-size=\"14.00\" text-anchor=\"middle\" x=\"1272.5\" y=\"-778.3\">(None, 16, 8, 64)</text>\n<polyline fill=\"none\" points=\"1214,-770.5 1331,-770.5 \" stroke=\"#000000\"/>\n<text fill=\"#000000\" font-family=\"Times,serif\" font-size=\"14.00\" text-anchor=\"middle\" x=\"1272.5\" y=\"-755.3\">(None, 8, 4, 64)</text>\n</g>\n<!-- 140512687773960&#45;&gt;140512687814528 -->\n<g class=\"edge\" id=\"edge42\">\n<title>140512687773960-&gt;140512687814528</title>\n<path d=\"M1177.7214,-830.3799C1177.6226,-822.1745 1177.5093,-812.7679 1177.4022,-803.8786\" fill=\"none\" stroke=\"#000000\"/>\n<polygon fill=\"#000000\" points=\"1180.9008,-803.7411 1177.2805,-793.784 1173.9014,-803.8255 1180.9008,-803.7411\" stroke=\"#000000\"/>\n</g>\n<!-- 140512686662376 -->\n<g class=\"node\" id=\"node44\">\n<title>140512686662376</title>\n<polygon fill=\"none\" points=\"79.5,-498.5 79.5,-544.5 432.5,-544.5 432.5,-498.5 79.5,-498.5\" stroke=\"#000000\"/>\n<text fill=\"#000000\" font-family=\"Times,serif\" font-size=\"14.00\" text-anchor=\"middle\" x=\"172\" y=\"-517.8\">leaky_re_lu_13: LeakyReLU</text>\n<polyline fill=\"none\" points=\"264.5,-498.5 264.5,-544.5 \" stroke=\"#000000\"/>\n<text fill=\"#000000\" font-family=\"Times,serif\" font-size=\"14.00\" text-anchor=\"middle\" x=\"293.5\" y=\"-529.3\">input:</text>\n<polyline fill=\"none\" points=\"264.5,-521.5 322.5,-521.5 \" stroke=\"#000000\"/>\n<text fill=\"#000000\" font-family=\"Times,serif\" font-size=\"14.00\" text-anchor=\"middle\" x=\"293.5\" y=\"-506.3\">output:</text>\n<polyline fill=\"none\" points=\"322.5,-498.5 322.5,-544.5 \" stroke=\"#000000\"/>\n<text fill=\"#000000\" font-family=\"Times,serif\" font-size=\"14.00\" text-anchor=\"middle\" x=\"377.5\" y=\"-529.3\">(None, 4, 4, 64)</text>\n<polyline fill=\"none\" points=\"322.5,-521.5 432.5,-521.5 \" stroke=\"#000000\"/>\n<text fill=\"#000000\" font-family=\"Times,serif\" font-size=\"14.00\" text-anchor=\"middle\" x=\"377.5\" y=\"-506.3\">(None, 4, 4, 64)</text>\n</g>\n<!-- 140512687092792&#45;&gt;140512686662376 -->\n<g class=\"edge\" id=\"edge43\">\n<title>140512687092792-&gt;140512686662376</title>\n<path d=\"M255.2786,-581.3799C255.3774,-573.1745 255.4907,-563.7679 255.5978,-554.8786\" fill=\"none\" stroke=\"#000000\"/>\n<polygon fill=\"#000000\" points=\"259.0986,-554.8255 255.7195,-544.784 252.0992,-554.7411 259.0986,-554.8255\" stroke=\"#000000\"/>\n</g>\n<!-- 140512693067904 -->\n<g class=\"node\" id=\"node45\">\n<title>140512693067904</title>\n<polygon fill=\"none\" points=\"511,-664.5 511,-710.5 857,-710.5 857,-664.5 511,-664.5\" stroke=\"#000000\"/>\n<text fill=\"#000000\" font-family=\"Times,serif\" font-size=\"14.00\" text-anchor=\"middle\" x=\"600\" y=\"-683.8\">leaky_re_lu_4: LeakyReLU</text>\n<polyline fill=\"none\" points=\"689,-664.5 689,-710.5 \" stroke=\"#000000\"/>\n<text fill=\"#000000\" font-family=\"Times,serif\" font-size=\"14.00\" text-anchor=\"middle\" x=\"718\" y=\"-695.3\">input:</text>\n<polyline fill=\"none\" points=\"689,-687.5 747,-687.5 \" stroke=\"#000000\"/>\n<text fill=\"#000000\" font-family=\"Times,serif\" font-size=\"14.00\" text-anchor=\"middle\" x=\"718\" y=\"-672.3\">output:</text>\n<polyline fill=\"none\" points=\"747,-664.5 747,-710.5 \" stroke=\"#000000\"/>\n<text fill=\"#000000\" font-family=\"Times,serif\" font-size=\"14.00\" text-anchor=\"middle\" x=\"802\" y=\"-695.3\">(None, 8, 4, 64)</text>\n<polyline fill=\"none\" points=\"747,-687.5 857,-687.5 \" stroke=\"#000000\"/>\n<text fill=\"#000000\" font-family=\"Times,serif\" font-size=\"14.00\" text-anchor=\"middle\" x=\"802\" y=\"-672.3\">(None, 8, 4, 64)</text>\n</g>\n<!-- 140512693434520&#45;&gt;140512693067904 -->\n<g class=\"edge\" id=\"edge44\">\n<title>140512693434520-&gt;140512693067904</title>\n<path d=\"M684,-747.3799C684,-739.1745 684,-729.7679 684,-720.8786\" fill=\"none\" stroke=\"#000000\"/>\n<polygon fill=\"#000000\" points=\"687.5001,-720.784 684,-710.784 680.5001,-720.784 687.5001,-720.784\" stroke=\"#000000\"/>\n</g>\n<!-- 140512687901832 -->\n<g class=\"node\" id=\"node46\">\n<title>140512687901832</title>\n<polygon fill=\"none\" points=\"1003,-664.5 1003,-710.5 1349,-710.5 1349,-664.5 1003,-664.5\" stroke=\"#000000\"/>\n<text fill=\"#000000\" font-family=\"Times,serif\" font-size=\"14.00\" text-anchor=\"middle\" x=\"1092\" y=\"-683.8\">leaky_re_lu_8: LeakyReLU</text>\n<polyline fill=\"none\" points=\"1181,-664.5 1181,-710.5 \" stroke=\"#000000\"/>\n<text fill=\"#000000\" font-family=\"Times,serif\" font-size=\"14.00\" text-anchor=\"middle\" x=\"1210\" y=\"-695.3\">input:</text>\n<polyline fill=\"none\" points=\"1181,-687.5 1239,-687.5 \" stroke=\"#000000\"/>\n<text fill=\"#000000\" font-family=\"Times,serif\" font-size=\"14.00\" text-anchor=\"middle\" x=\"1210\" y=\"-672.3\">output:</text>\n<polyline fill=\"none\" points=\"1239,-664.5 1239,-710.5 \" stroke=\"#000000\"/>\n<text fill=\"#000000\" font-family=\"Times,serif\" font-size=\"14.00\" text-anchor=\"middle\" x=\"1294\" y=\"-695.3\">(None, 8, 4, 64)</text>\n<polyline fill=\"none\" points=\"1239,-687.5 1349,-687.5 \" stroke=\"#000000\"/>\n<text fill=\"#000000\" font-family=\"Times,serif\" font-size=\"14.00\" text-anchor=\"middle\" x=\"1294\" y=\"-672.3\">(None, 8, 4, 64)</text>\n</g>\n<!-- 140512687814528&#45;&gt;140512687901832 -->\n<g class=\"edge\" id=\"edge45\">\n<title>140512687814528-&gt;140512687901832</title>\n<path d=\"M1176.7214,-747.3799C1176.6226,-739.1745 1176.5093,-729.7679 1176.4022,-720.8786\" fill=\"none\" stroke=\"#000000\"/>\n<polygon fill=\"#000000\" points=\"1179.9008,-720.7411 1176.2805,-710.784 1172.9014,-720.8255 1179.9008,-720.7411\" stroke=\"#000000\"/>\n</g>\n<!-- 140512686664504 -->\n<g class=\"node\" id=\"node47\">\n<title>140512686664504</title>\n<polygon fill=\"none\" points=\"111.5,-415.5 111.5,-461.5 420.5,-461.5 420.5,-415.5 111.5,-415.5\" stroke=\"#000000\"/>\n<text fill=\"#000000\" font-family=\"Times,serif\" font-size=\"14.00\" text-anchor=\"middle\" x=\"182\" y=\"-434.8\">dropout_13: Dropout</text>\n<polyline fill=\"none\" points=\"252.5,-415.5 252.5,-461.5 \" stroke=\"#000000\"/>\n<text fill=\"#000000\" font-family=\"Times,serif\" font-size=\"14.00\" text-anchor=\"middle\" x=\"281.5\" y=\"-446.3\">input:</text>\n<polyline fill=\"none\" points=\"252.5,-438.5 310.5,-438.5 \" stroke=\"#000000\"/>\n<text fill=\"#000000\" font-family=\"Times,serif\" font-size=\"14.00\" text-anchor=\"middle\" x=\"281.5\" y=\"-423.3\">output:</text>\n<polyline fill=\"none\" points=\"310.5,-415.5 310.5,-461.5 \" stroke=\"#000000\"/>\n<text fill=\"#000000\" font-family=\"Times,serif\" font-size=\"14.00\" text-anchor=\"middle\" x=\"365.5\" y=\"-446.3\">(None, 4, 4, 64)</text>\n<polyline fill=\"none\" points=\"310.5,-438.5 420.5,-438.5 \" stroke=\"#000000\"/>\n<text fill=\"#000000\" font-family=\"Times,serif\" font-size=\"14.00\" text-anchor=\"middle\" x=\"365.5\" y=\"-423.3\">(None, 4, 4, 64)</text>\n</g>\n<!-- 140512686662376&#45;&gt;140512686664504 -->\n<g class=\"edge\" id=\"edge46\">\n<title>140512686662376-&gt;140512686664504</title>\n<path d=\"M258.7856,-498.3799C259.7742,-490.1745 260.9075,-480.7679 261.9785,-471.8786\" fill=\"none\" stroke=\"#000000\"/>\n<polygon fill=\"#000000\" points=\"265.4733,-472.1309 263.1947,-461.784 258.5236,-471.2935 265.4733,-472.1309\" stroke=\"#000000\"/>\n</g>\n<!-- 140512693069920 -->\n<g class=\"node\" id=\"node48\">\n<title>140512693069920</title>\n<polygon fill=\"none\" points=\"533,-581.5 533,-627.5 835,-627.5 835,-581.5 533,-581.5\" stroke=\"#000000\"/>\n<text fill=\"#000000\" font-family=\"Times,serif\" font-size=\"14.00\" text-anchor=\"middle\" x=\"600\" y=\"-600.8\">dropout_4: Dropout</text>\n<polyline fill=\"none\" points=\"667,-581.5 667,-627.5 \" stroke=\"#000000\"/>\n<text fill=\"#000000\" font-family=\"Times,serif\" font-size=\"14.00\" text-anchor=\"middle\" x=\"696\" y=\"-612.3\">input:</text>\n<polyline fill=\"none\" points=\"667,-604.5 725,-604.5 \" stroke=\"#000000\"/>\n<text fill=\"#000000\" font-family=\"Times,serif\" font-size=\"14.00\" text-anchor=\"middle\" x=\"696\" y=\"-589.3\">output:</text>\n<polyline fill=\"none\" points=\"725,-581.5 725,-627.5 \" stroke=\"#000000\"/>\n<text fill=\"#000000\" font-family=\"Times,serif\" font-size=\"14.00\" text-anchor=\"middle\" x=\"780\" y=\"-612.3\">(None, 8, 4, 64)</text>\n<polyline fill=\"none\" points=\"725,-604.5 835,-604.5 \" stroke=\"#000000\"/>\n<text fill=\"#000000\" font-family=\"Times,serif\" font-size=\"14.00\" text-anchor=\"middle\" x=\"780\" y=\"-589.3\">(None, 8, 4, 64)</text>\n</g>\n<!-- 140512693067904&#45;&gt;140512693069920 -->\n<g class=\"edge\" id=\"edge47\">\n<title>140512693067904-&gt;140512693069920</title>\n<path d=\"M684,-664.3799C684,-656.1745 684,-646.7679 684,-637.8786\" fill=\"none\" stroke=\"#000000\"/>\n<polygon fill=\"#000000\" points=\"687.5001,-637.784 684,-627.784 680.5001,-637.784 687.5001,-637.784\" stroke=\"#000000\"/>\n</g>\n<!-- 140512687901048 -->\n<g class=\"node\" id=\"node49\">\n<title>140512687901048</title>\n<polygon fill=\"none\" points=\"1021,-581.5 1021,-627.5 1323,-627.5 1323,-581.5 1021,-581.5\" stroke=\"#000000\"/>\n<text fill=\"#000000\" font-family=\"Times,serif\" font-size=\"14.00\" text-anchor=\"middle\" x=\"1088\" y=\"-600.8\">dropout_8: Dropout</text>\n<polyline fill=\"none\" points=\"1155,-581.5 1155,-627.5 \" stroke=\"#000000\"/>\n<text fill=\"#000000\" font-family=\"Times,serif\" font-size=\"14.00\" text-anchor=\"middle\" x=\"1184\" y=\"-612.3\">input:</text>\n<polyline fill=\"none\" points=\"1155,-604.5 1213,-604.5 \" stroke=\"#000000\"/>\n<text fill=\"#000000\" font-family=\"Times,serif\" font-size=\"14.00\" text-anchor=\"middle\" x=\"1184\" y=\"-589.3\">output:</text>\n<polyline fill=\"none\" points=\"1213,-581.5 1213,-627.5 \" stroke=\"#000000\"/>\n<text fill=\"#000000\" font-family=\"Times,serif\" font-size=\"14.00\" text-anchor=\"middle\" x=\"1268\" y=\"-612.3\">(None, 8, 4, 64)</text>\n<polyline fill=\"none\" points=\"1213,-604.5 1323,-604.5 \" stroke=\"#000000\"/>\n<text fill=\"#000000\" font-family=\"Times,serif\" font-size=\"14.00\" text-anchor=\"middle\" x=\"1268\" y=\"-589.3\">(None, 8, 4, 64)</text>\n</g>\n<!-- 140512687901832&#45;&gt;140512687901048 -->\n<g class=\"edge\" id=\"edge48\">\n<title>140512687901832-&gt;140512687901048</title>\n<path d=\"M1174.8858,-664.3799C1174.4903,-656.1745 1174.037,-646.7679 1173.6086,-637.8786\" fill=\"none\" stroke=\"#000000\"/>\n<polygon fill=\"#000000\" points=\"1177.0995,-637.6039 1173.1221,-627.784 1170.1076,-637.9409 1177.0995,-637.6039\" stroke=\"#000000\"/>\n</g>\n<!-- 140512686688856 -->\n<g class=\"node\" id=\"node50\">\n<title>140512686688856</title>\n<polygon fill=\"none\" points=\"49.5,-332.5 49.5,-378.5 524.5,-378.5 524.5,-332.5 49.5,-332.5\" stroke=\"#000000\"/>\n<text fill=\"#000000\" font-family=\"Times,serif\" font-size=\"14.00\" text-anchor=\"middle\" x=\"203\" y=\"-351.8\">instance_normalization_10: InstanceNormalization</text>\n<polyline fill=\"none\" points=\"356.5,-332.5 356.5,-378.5 \" stroke=\"#000000\"/>\n<text fill=\"#000000\" font-family=\"Times,serif\" font-size=\"14.00\" text-anchor=\"middle\" x=\"385.5\" y=\"-363.3\">input:</text>\n<polyline fill=\"none\" points=\"356.5,-355.5 414.5,-355.5 \" stroke=\"#000000\"/>\n<text fill=\"#000000\" font-family=\"Times,serif\" font-size=\"14.00\" text-anchor=\"middle\" x=\"385.5\" y=\"-340.3\">output:</text>\n<polyline fill=\"none\" points=\"414.5,-332.5 414.5,-378.5 \" stroke=\"#000000\"/>\n<text fill=\"#000000\" font-family=\"Times,serif\" font-size=\"14.00\" text-anchor=\"middle\" x=\"469.5\" y=\"-363.3\">(None, 4, 4, 64)</text>\n<polyline fill=\"none\" points=\"414.5,-355.5 524.5,-355.5 \" stroke=\"#000000\"/>\n<text fill=\"#000000\" font-family=\"Times,serif\" font-size=\"14.00\" text-anchor=\"middle\" x=\"469.5\" y=\"-340.3\">(None, 4, 4, 64)</text>\n</g>\n<!-- 140512686664504&#45;&gt;140512686688856 -->\n<g class=\"edge\" id=\"edge49\">\n<title>140512686664504-&gt;140512686688856</title>\n<path d=\"M271.8497,-415.3799C273.9483,-407.0854 276.3575,-397.5633 278.6281,-388.5889\" fill=\"none\" stroke=\"#000000\"/>\n<polygon fill=\"#000000\" points=\"282.049,-389.337 281.1089,-378.784 275.2629,-387.62 282.049,-389.337\" stroke=\"#000000\"/>\n</g>\n<!-- 140512693086584 -->\n<g class=\"node\" id=\"node51\">\n<title>140512693086584</title>\n<polygon fill=\"none\" points=\"450.5,-498.5 450.5,-544.5 917.5,-544.5 917.5,-498.5 450.5,-498.5\" stroke=\"#000000\"/>\n<text fill=\"#000000\" font-family=\"Times,serif\" font-size=\"14.00\" text-anchor=\"middle\" x=\"600\" y=\"-517.8\">instance_normalization_3: InstanceNormalization</text>\n<polyline fill=\"none\" points=\"749.5,-498.5 749.5,-544.5 \" stroke=\"#000000\"/>\n<text fill=\"#000000\" font-family=\"Times,serif\" font-size=\"14.00\" text-anchor=\"middle\" x=\"778.5\" y=\"-529.3\">input:</text>\n<polyline fill=\"none\" points=\"749.5,-521.5 807.5,-521.5 \" stroke=\"#000000\"/>\n<text fill=\"#000000\" font-family=\"Times,serif\" font-size=\"14.00\" text-anchor=\"middle\" x=\"778.5\" y=\"-506.3\">output:</text>\n<polyline fill=\"none\" points=\"807.5,-498.5 807.5,-544.5 \" stroke=\"#000000\"/>\n<text fill=\"#000000\" font-family=\"Times,serif\" font-size=\"14.00\" text-anchor=\"middle\" x=\"862.5\" y=\"-529.3\">(None, 8, 4, 64)</text>\n<polyline fill=\"none\" points=\"807.5,-521.5 917.5,-521.5 \" stroke=\"#000000\"/>\n<text fill=\"#000000\" font-family=\"Times,serif\" font-size=\"14.00\" text-anchor=\"middle\" x=\"862.5\" y=\"-506.3\">(None, 8, 4, 64)</text>\n</g>\n<!-- 140512693069920&#45;&gt;140512693086584 -->\n<g class=\"edge\" id=\"edge50\">\n<title>140512693069920-&gt;140512693086584</title>\n<path d=\"M684,-581.3799C684,-573.1745 684,-563.7679 684,-554.8786\" fill=\"none\" stroke=\"#000000\"/>\n<polygon fill=\"#000000\" points=\"687.5001,-554.784 684,-544.784 680.5001,-554.784 687.5001,-554.784\" stroke=\"#000000\"/>\n</g>\n<!-- 140512687949864 -->\n<g class=\"node\" id=\"node52\">\n<title>140512687949864</title>\n<polygon fill=\"none\" points=\"937.5,-498.5 937.5,-544.5 1404.5,-544.5 1404.5,-498.5 937.5,-498.5\" stroke=\"#000000\"/>\n<text fill=\"#000000\" font-family=\"Times,serif\" font-size=\"14.00\" text-anchor=\"middle\" x=\"1087\" y=\"-517.8\">instance_normalization_6: InstanceNormalization</text>\n<polyline fill=\"none\" points=\"1236.5,-498.5 1236.5,-544.5 \" stroke=\"#000000\"/>\n<text fill=\"#000000\" font-family=\"Times,serif\" font-size=\"14.00\" text-anchor=\"middle\" x=\"1265.5\" y=\"-529.3\">input:</text>\n<polyline fill=\"none\" points=\"1236.5,-521.5 1294.5,-521.5 \" stroke=\"#000000\"/>\n<text fill=\"#000000\" font-family=\"Times,serif\" font-size=\"14.00\" text-anchor=\"middle\" x=\"1265.5\" y=\"-506.3\">output:</text>\n<polyline fill=\"none\" points=\"1294.5,-498.5 1294.5,-544.5 \" stroke=\"#000000\"/>\n<text fill=\"#000000\" font-family=\"Times,serif\" font-size=\"14.00\" text-anchor=\"middle\" x=\"1349.5\" y=\"-529.3\">(None, 8, 4, 64)</text>\n<polyline fill=\"none\" points=\"1294.5,-521.5 1404.5,-521.5 \" stroke=\"#000000\"/>\n<text fill=\"#000000\" font-family=\"Times,serif\" font-size=\"14.00\" text-anchor=\"middle\" x=\"1349.5\" y=\"-506.3\">(None, 8, 4, 64)</text>\n</g>\n<!-- 140512687901048&#45;&gt;140512687949864 -->\n<g class=\"edge\" id=\"edge51\">\n<title>140512687901048-&gt;140512687949864</title>\n<path d=\"M1171.7214,-581.3799C1171.6226,-573.1745 1171.5093,-563.7679 1171.4022,-554.8786\" fill=\"none\" stroke=\"#000000\"/>\n<polygon fill=\"#000000\" points=\"1174.9008,-554.7411 1171.2805,-544.784 1167.9014,-554.8255 1174.9008,-554.7411\" stroke=\"#000000\"/>\n</g>\n<!-- 140512686721400 -->\n<g class=\"node\" id=\"node53\">\n<title>140512686721400</title>\n<polygon fill=\"none\" points=\"275.5,-249.5 275.5,-295.5 556.5,-295.5 556.5,-249.5 275.5,-249.5\" stroke=\"#000000\"/>\n<text fill=\"#000000\" font-family=\"Times,serif\" font-size=\"14.00\" text-anchor=\"middle\" x=\"332\" y=\"-268.8\">flatten_3: Flatten</text>\n<polyline fill=\"none\" points=\"388.5,-249.5 388.5,-295.5 \" stroke=\"#000000\"/>\n<text fill=\"#000000\" font-family=\"Times,serif\" font-size=\"14.00\" text-anchor=\"middle\" x=\"417.5\" y=\"-280.3\">input:</text>\n<polyline fill=\"none\" points=\"388.5,-272.5 446.5,-272.5 \" stroke=\"#000000\"/>\n<text fill=\"#000000\" font-family=\"Times,serif\" font-size=\"14.00\" text-anchor=\"middle\" x=\"417.5\" y=\"-257.3\">output:</text>\n<polyline fill=\"none\" points=\"446.5,-249.5 446.5,-295.5 \" stroke=\"#000000\"/>\n<text fill=\"#000000\" font-family=\"Times,serif\" font-size=\"14.00\" text-anchor=\"middle\" x=\"501.5\" y=\"-280.3\">(None, 4, 4, 64)</text>\n<polyline fill=\"none\" points=\"446.5,-272.5 556.5,-272.5 \" stroke=\"#000000\"/>\n<text fill=\"#000000\" font-family=\"Times,serif\" font-size=\"14.00\" text-anchor=\"middle\" x=\"501.5\" y=\"-257.3\">(None, 1024)</text>\n</g>\n<!-- 140512686688856&#45;&gt;140512686721400 -->\n<g class=\"edge\" id=\"edge52\">\n<title>140512686688856-&gt;140512686721400</title>\n<path d=\"M322.9337,-332.3799C337.9044,-322.7475 355.4482,-311.4597 371.2437,-301.2967\" fill=\"none\" stroke=\"#000000\"/>\n<polygon fill=\"#000000\" points=\"373.2957,-304.1383 379.8116,-295.784 369.5081,-298.2515 373.2957,-304.1383\" stroke=\"#000000\"/>\n</g>\n<!-- 140512693086808 -->\n<g class=\"node\" id=\"node54\">\n<title>140512693086808</title>\n<polygon fill=\"none\" points=\"543.5,-415.5 543.5,-461.5 824.5,-461.5 824.5,-415.5 543.5,-415.5\" stroke=\"#000000\"/>\n<text fill=\"#000000\" font-family=\"Times,serif\" font-size=\"14.00\" text-anchor=\"middle\" x=\"600\" y=\"-434.8\">flatten_1: Flatten</text>\n<polyline fill=\"none\" points=\"656.5,-415.5 656.5,-461.5 \" stroke=\"#000000\"/>\n<text fill=\"#000000\" font-family=\"Times,serif\" font-size=\"14.00\" text-anchor=\"middle\" x=\"685.5\" y=\"-446.3\">input:</text>\n<polyline fill=\"none\" points=\"656.5,-438.5 714.5,-438.5 \" stroke=\"#000000\"/>\n<text fill=\"#000000\" font-family=\"Times,serif\" font-size=\"14.00\" text-anchor=\"middle\" x=\"685.5\" y=\"-423.3\">output:</text>\n<polyline fill=\"none\" points=\"714.5,-415.5 714.5,-461.5 \" stroke=\"#000000\"/>\n<text fill=\"#000000\" font-family=\"Times,serif\" font-size=\"14.00\" text-anchor=\"middle\" x=\"769.5\" y=\"-446.3\">(None, 8, 4, 64)</text>\n<polyline fill=\"none\" points=\"714.5,-438.5 824.5,-438.5 \" stroke=\"#000000\"/>\n<text fill=\"#000000\" font-family=\"Times,serif\" font-size=\"14.00\" text-anchor=\"middle\" x=\"769.5\" y=\"-423.3\">(None, 2048)</text>\n</g>\n<!-- 140512693086584&#45;&gt;140512693086808 -->\n<g class=\"edge\" id=\"edge53\">\n<title>140512693086584-&gt;140512693086808</title>\n<path d=\"M684,-498.3799C684,-490.1745 684,-480.7679 684,-471.8786\" fill=\"none\" stroke=\"#000000\"/>\n<polygon fill=\"#000000\" points=\"687.5001,-471.784 684,-461.784 680.5001,-471.784 687.5001,-471.784\" stroke=\"#000000\"/>\n</g>\n<!-- 140512687457952 -->\n<g class=\"node\" id=\"node55\">\n<title>140512687457952</title>\n<polygon fill=\"none\" points=\"936.5,-415.5 936.5,-461.5 1217.5,-461.5 1217.5,-415.5 936.5,-415.5\" stroke=\"#000000\"/>\n<text fill=\"#000000\" font-family=\"Times,serif\" font-size=\"14.00\" text-anchor=\"middle\" x=\"993\" y=\"-434.8\">flatten_2: Flatten</text>\n<polyline fill=\"none\" points=\"1049.5,-415.5 1049.5,-461.5 \" stroke=\"#000000\"/>\n<text fill=\"#000000\" font-family=\"Times,serif\" font-size=\"14.00\" text-anchor=\"middle\" x=\"1078.5\" y=\"-446.3\">input:</text>\n<polyline fill=\"none\" points=\"1049.5,-438.5 1107.5,-438.5 \" stroke=\"#000000\"/>\n<text fill=\"#000000\" font-family=\"Times,serif\" font-size=\"14.00\" text-anchor=\"middle\" x=\"1078.5\" y=\"-423.3\">output:</text>\n<polyline fill=\"none\" points=\"1107.5,-415.5 1107.5,-461.5 \" stroke=\"#000000\"/>\n<text fill=\"#000000\" font-family=\"Times,serif\" font-size=\"14.00\" text-anchor=\"middle\" x=\"1162.5\" y=\"-446.3\">(None, 8, 4, 64)</text>\n<polyline fill=\"none\" points=\"1107.5,-438.5 1217.5,-438.5 \" stroke=\"#000000\"/>\n<text fill=\"#000000\" font-family=\"Times,serif\" font-size=\"14.00\" text-anchor=\"middle\" x=\"1162.5\" y=\"-423.3\">(None, 2048)</text>\n</g>\n<!-- 140512687949864&#45;&gt;140512687457952 -->\n<g class=\"edge\" id=\"edge54\">\n<title>140512687949864-&gt;140512687457952</title>\n<path d=\"M1144.8158,-498.3799C1134.3109,-489.1043 1122.0674,-478.2936 1110.8971,-468.4304\" fill=\"none\" stroke=\"#000000\"/>\n<polygon fill=\"#000000\" points=\"1113.1825,-465.7793 1103.3698,-461.784 1108.5493,-471.0265 1113.1825,-465.7793\" stroke=\"#000000\"/>\n</g>\n<!-- 140512686812072 -->\n<g class=\"node\" id=\"node56\">\n<title>140512686812072</title>\n<polygon fill=\"none\" points=\"341,-166.5 341,-212.5 601,-212.5 601,-166.5 341,-166.5\" stroke=\"#000000\"/>\n<text fill=\"#000000\" font-family=\"Times,serif\" font-size=\"14.00\" text-anchor=\"middle\" x=\"394.5\" y=\"-185.8\">dense_3: Dense</text>\n<polyline fill=\"none\" points=\"448,-166.5 448,-212.5 \" stroke=\"#000000\"/>\n<text fill=\"#000000\" font-family=\"Times,serif\" font-size=\"14.00\" text-anchor=\"middle\" x=\"477\" y=\"-197.3\">input:</text>\n<polyline fill=\"none\" points=\"448,-189.5 506,-189.5 \" stroke=\"#000000\"/>\n<text fill=\"#000000\" font-family=\"Times,serif\" font-size=\"14.00\" text-anchor=\"middle\" x=\"477\" y=\"-174.3\">output:</text>\n<polyline fill=\"none\" points=\"506,-166.5 506,-212.5 \" stroke=\"#000000\"/>\n<text fill=\"#000000\" font-family=\"Times,serif\" font-size=\"14.00\" text-anchor=\"middle\" x=\"553.5\" y=\"-197.3\">(None, 1024)</text>\n<polyline fill=\"none\" points=\"506,-189.5 601,-189.5 \" stroke=\"#000000\"/>\n<text fill=\"#000000\" font-family=\"Times,serif\" font-size=\"14.00\" text-anchor=\"middle\" x=\"553.5\" y=\"-174.3\">(None, 512)</text>\n</g>\n<!-- 140512686721400&#45;&gt;140512686812072 -->\n<g class=\"edge\" id=\"edge55\">\n<title>140512686721400-&gt;140512686812072</title>\n<path d=\"M431.3206,-249.3799C437.1124,-240.6394 443.8076,-230.5358 450.0294,-221.1465\" fill=\"none\" stroke=\"#000000\"/>\n<polygon fill=\"#000000\" points=\"452.9646,-223.0533 455.5708,-212.784 447.1294,-219.1866 452.9646,-223.0533\" stroke=\"#000000\"/>\n</g>\n<!-- 140512693202672 -->\n<g class=\"node\" id=\"node57\">\n<title>140512693202672</title>\n<polygon fill=\"none\" points=\"554,-332.5 554,-378.5 814,-378.5 814,-332.5 554,-332.5\" stroke=\"#000000\"/>\n<text fill=\"#000000\" font-family=\"Times,serif\" font-size=\"14.00\" text-anchor=\"middle\" x=\"607.5\" y=\"-351.8\">dense_1: Dense</text>\n<polyline fill=\"none\" points=\"661,-332.5 661,-378.5 \" stroke=\"#000000\"/>\n<text fill=\"#000000\" font-family=\"Times,serif\" font-size=\"14.00\" text-anchor=\"middle\" x=\"690\" y=\"-363.3\">input:</text>\n<polyline fill=\"none\" points=\"661,-355.5 719,-355.5 \" stroke=\"#000000\"/>\n<text fill=\"#000000\" font-family=\"Times,serif\" font-size=\"14.00\" text-anchor=\"middle\" x=\"690\" y=\"-340.3\">output:</text>\n<polyline fill=\"none\" points=\"719,-332.5 719,-378.5 \" stroke=\"#000000\"/>\n<text fill=\"#000000\" font-family=\"Times,serif\" font-size=\"14.00\" text-anchor=\"middle\" x=\"766.5\" y=\"-363.3\">(None, 2048)</text>\n<polyline fill=\"none\" points=\"719,-355.5 814,-355.5 \" stroke=\"#000000\"/>\n<text fill=\"#000000\" font-family=\"Times,serif\" font-size=\"14.00\" text-anchor=\"middle\" x=\"766.5\" y=\"-340.3\">(None, 512)</text>\n</g>\n<!-- 140512693086808&#45;&gt;140512693202672 -->\n<g class=\"edge\" id=\"edge56\">\n<title>140512693086808-&gt;140512693202672</title>\n<path d=\"M684,-415.3799C684,-407.1745 684,-397.7679 684,-388.8786\" fill=\"none\" stroke=\"#000000\"/>\n<polygon fill=\"#000000\" points=\"687.5001,-388.784 684,-378.784 680.5001,-388.784 687.5001,-388.784\" stroke=\"#000000\"/>\n</g>\n<!-- 140512687524664 -->\n<g class=\"node\" id=\"node58\">\n<title>140512687524664</title>\n<polygon fill=\"none\" points=\"712,-249.5 712,-295.5 972,-295.5 972,-249.5 712,-249.5\" stroke=\"#000000\"/>\n<text fill=\"#000000\" font-family=\"Times,serif\" font-size=\"14.00\" text-anchor=\"middle\" x=\"765.5\" y=\"-268.8\">dense_2: Dense</text>\n<polyline fill=\"none\" points=\"819,-249.5 819,-295.5 \" stroke=\"#000000\"/>\n<text fill=\"#000000\" font-family=\"Times,serif\" font-size=\"14.00\" text-anchor=\"middle\" x=\"848\" y=\"-280.3\">input:</text>\n<polyline fill=\"none\" points=\"819,-272.5 877,-272.5 \" stroke=\"#000000\"/>\n<text fill=\"#000000\" font-family=\"Times,serif\" font-size=\"14.00\" text-anchor=\"middle\" x=\"848\" y=\"-257.3\">output:</text>\n<polyline fill=\"none\" points=\"877,-249.5 877,-295.5 \" stroke=\"#000000\"/>\n<text fill=\"#000000\" font-family=\"Times,serif\" font-size=\"14.00\" text-anchor=\"middle\" x=\"924.5\" y=\"-280.3\">(None, 2048)</text>\n<polyline fill=\"none\" points=\"877,-272.5 972,-272.5 \" stroke=\"#000000\"/>\n<text fill=\"#000000\" font-family=\"Times,serif\" font-size=\"14.00\" text-anchor=\"middle\" x=\"924.5\" y=\"-257.3\">(None, 512)</text>\n</g>\n<!-- 140512687457952&#45;&gt;140512687524664 -->\n<g class=\"edge\" id=\"edge57\">\n<title>140512687457952-&gt;140512687524664</title>\n<path d=\"M1044.3243,-415.4184C1002.1763,-385.6458 928.8487,-333.8485 883.003,-301.4639\" fill=\"none\" stroke=\"#000000\"/>\n<polygon fill=\"#000000\" points=\"884.9633,-298.5634 874.7762,-295.6525 880.9246,-304.2809 884.9633,-298.5634\" stroke=\"#000000\"/>\n</g>\n<!-- 140512686863584 -->\n<g class=\"node\" id=\"node59\">\n<title>140512686863584</title>\n<polygon fill=\"none\" points=\"307.5,-83.5 307.5,-129.5 792.5,-129.5 792.5,-83.5 307.5,-83.5\" stroke=\"#000000\"/>\n<text fill=\"#000000\" font-family=\"Times,serif\" font-size=\"14.00\" text-anchor=\"middle\" x=\"395\" y=\"-102.8\">concatenate_1: Concatenate</text>\n<polyline fill=\"none\" points=\"482.5,-83.5 482.5,-129.5 \" stroke=\"#000000\"/>\n<text fill=\"#000000\" font-family=\"Times,serif\" font-size=\"14.00\" text-anchor=\"middle\" x=\"511.5\" y=\"-114.3\">input:</text>\n<polyline fill=\"none\" points=\"482.5,-106.5 540.5,-106.5 \" stroke=\"#000000\"/>\n<text fill=\"#000000\" font-family=\"Times,serif\" font-size=\"14.00\" text-anchor=\"middle\" x=\"511.5\" y=\"-91.3\">output:</text>\n<polyline fill=\"none\" points=\"540.5,-83.5 540.5,-129.5 \" stroke=\"#000000\"/>\n<text fill=\"#000000\" font-family=\"Times,serif\" font-size=\"14.00\" text-anchor=\"middle\" x=\"666.5\" y=\"-114.3\">[(None, 512), (None, 512), (None, 512)]</text>\n<polyline fill=\"none\" points=\"540.5,-106.5 792.5,-106.5 \" stroke=\"#000000\"/>\n<text fill=\"#000000\" font-family=\"Times,serif\" font-size=\"14.00\" text-anchor=\"middle\" x=\"666.5\" y=\"-91.3\">(None, 1536)</text>\n</g>\n<!-- 140512686812072&#45;&gt;140512686863584 -->\n<g class=\"edge\" id=\"edge58\">\n<title>140512686812072-&gt;140512686863584</title>\n<path d=\"M493.0059,-166.3799C501.5798,-157.3718 511.5318,-146.916 520.6974,-137.2863\" fill=\"none\" stroke=\"#000000\"/>\n<polygon fill=\"#000000\" points=\"523.4789,-139.4405 527.8381,-129.784 518.4085,-134.6144 523.4789,-139.4405\" stroke=\"#000000\"/>\n</g>\n<!-- 140512693202672&#45;&gt;140512686863584 -->\n<g class=\"edge\" id=\"edge59\">\n<title>140512693202672-&gt;140512686863584</title>\n<path d=\"M688.1312,-332.1859C694.8471,-290.7183 705.3605,-206.8557 684,-189.5\" fill=\"none\" stroke=\"#000000\"/>\n<path d=\"M684,-189.5C658.1979,-169.2464 627.1803,-149.7625 601.4882,-134.768\" fill=\"none\" stroke=\"#000000\"/>\n<polygon fill=\"#000000\" points=\"603.0499,-131.6282 592.6399,-129.6576 599.5489,-137.6899 603.0499,-131.6282\" stroke=\"#000000\"/>\n</g>\n<!-- 140512687524664&#45;&gt;140512686863584 -->\n<g class=\"edge\" id=\"edge60\">\n<title>140512687524664-&gt;140512686863584</title>\n<path d=\"M785.3391,-249.4167C753.6645,-234.9356 714.5407,-214.3147 684,-189.5\" fill=\"none\" stroke=\"#000000\"/>\n</g>\n<!-- 140512686865432 -->\n<g class=\"node\" id=\"node60\">\n<title>140512686865432</title>\n<polygon fill=\"none\" points=\"420,-.5 420,-46.5 680,-46.5 680,-.5 420,-.5\" stroke=\"#000000\"/>\n<text fill=\"#000000\" font-family=\"Times,serif\" font-size=\"14.00\" text-anchor=\"middle\" x=\"473.5\" y=\"-19.8\">dense_4: Dense</text>\n<polyline fill=\"none\" points=\"527,-.5 527,-46.5 \" stroke=\"#000000\"/>\n<text fill=\"#000000\" font-family=\"Times,serif\" font-size=\"14.00\" text-anchor=\"middle\" x=\"556\" y=\"-31.3\">input:</text>\n<polyline fill=\"none\" points=\"527,-23.5 585,-23.5 \" stroke=\"#000000\"/>\n<text fill=\"#000000\" font-family=\"Times,serif\" font-size=\"14.00\" text-anchor=\"middle\" x=\"556\" y=\"-8.3\">output:</text>\n<polyline fill=\"none\" points=\"585,-.5 585,-46.5 \" stroke=\"#000000\"/>\n<text fill=\"#000000\" font-family=\"Times,serif\" font-size=\"14.00\" text-anchor=\"middle\" x=\"632.5\" y=\"-31.3\">(None, 1536)</text>\n<polyline fill=\"none\" points=\"585,-23.5 680,-23.5 \" stroke=\"#000000\"/>\n<text fill=\"#000000\" font-family=\"Times,serif\" font-size=\"14.00\" text-anchor=\"middle\" x=\"632.5\" y=\"-8.3\">(None, 1)</text>\n</g>\n<!-- 140512686863584&#45;&gt;140512686865432 -->\n<g class=\"edge\" id=\"edge61\">\n<title>140512686863584-&gt;140512686865432</title>\n<path d=\"M550,-83.3799C550,-75.1745 550,-65.7679 550,-56.8786\" fill=\"none\" stroke=\"#000000\"/>\n<polygon fill=\"#000000\" points=\"553.5001,-56.784 550,-46.784 546.5001,-56.784 553.5001,-56.784\" stroke=\"#000000\"/>\n</g>\n</g>\n</svg>"
          },
          "metadata": {
            "tags": []
          },
          "execution_count": 9
        }
      ]
    },
    {
      "cell_type": "markdown",
      "metadata": {
        "id": "EJVpmfPP9Bl0",
        "colab_type": "text"
      },
      "source": [
        "## Generator"
      ]
    },
    {
      "cell_type": "code",
      "metadata": {
        "id": "6lz2TUbu-s6L",
        "colab_type": "code",
        "colab": {}
      },
      "source": [
        "def generator_conv_block(layer_input, filters, kernel_size, strides, padding='same', activation='relu', norm=True, dilation_rate=1):\n",
        "    conv = Conv2D(filters, kernel_size=kernel_size, strides=strides, dilation_rate=(dilation_rate, dilation_rate), padding=padding)(layer_input)\n",
        "    if activation=='relu':\n",
        "        conv = Activation('relu')(conv)\n",
        "    if norm:\n",
        "        conv = InstanceNormalization()(conv)\n",
        "    return conv\n",
        "\n",
        "def generator_Deconv_block(layer_input, filters, kernel_size, strides, padding='same', activation='relu'):\n",
        "    deconv = Conv2DTranspose(filters, kernel_size = kernel_size, strides = strides, padding = 'same')(layer_input)\n",
        "    if activation == 'relu':\n",
        "        deconv = Activation('relu')(deconv)\n",
        "    return deconv\n",
        "\n",
        "def build_generator():\n",
        "    generator_input = Input(shape=(IMAGE_SZ, IMAGE_SZ, 3))      ## These are masked or Padded Images of shape 128x128 but the 0 to 32 and 96 to 128 will be masked\n",
        "\n",
        "    ##### Encoder #####\n",
        "    g1 = generator_conv_block(generator_input, 64, 5, strides=1)\n",
        "    g2 = generator_conv_block(g1, 128, 3, strides=2)\n",
        "    g3 = generator_conv_block(g2, 256, 3, strides=1)\n",
        "    # Dilated Convolutions\n",
        "    g4 = generator_conv_block(g3, 256, 3, strides=1, dilation_rate=2)\n",
        "    g5 = generator_conv_block(g4, 256, 3, strides=1, dilation_rate=4)\n",
        "    g6 = generator_conv_block(g5, 256, 3, strides=1, dilation_rate=8)\n",
        "    g7 = generator_conv_block(g6, 256, 3, strides=1)\n",
        "\n",
        "    #### Decoder ####\n",
        "    g8 = generator_Deconv_block(g7, 128, 4, strides=2)\n",
        "    g9 = generator_conv_block(g8, 64, 3, strides=1)\n",
        "    \n",
        "    generator_output = Conv2D(3, kernel_size=3, strides=(1,1), activation='sigmoid', padding='same', dilation_rate=(1,1))(g9) ### Some people used 'tanh' instead of sigmoid check later\n",
        "    \n",
        "    return Model(generator_input, generator_output)"
      ],
      "execution_count": 0,
      "outputs": []
    },
    {
      "cell_type": "code",
      "metadata": {
        "id": "DyzBgd8oIjnF",
        "colab_type": "code",
        "outputId": "ca0c4a60-bcd4-43a4-91ce-2d8f0671697c",
        "colab": {
          "base_uri": "https://localhost:8080/",
          "height": 1000
        }
      },
      "source": [
        "generator = build_generator()\n",
        "generator.compile(loss = 'mse', optimizer = optimizers.Adam(lr=0.0001, beta_1=0.5))\n",
        "generator.summary()\n",
        "\n",
        "# # Saving the Summary and Architecture\n",
        "# with open('./drive/My Drive/Colab Notebooks/aml_proj3/inception_resnetv2/model/generator_summary.txt', 'w') as f:\n",
        "#     with redirect_stdout(f):\n",
        "#         generator.summary()\n",
        "# plot_model(generator, to_file='./drive/My Drive/Colab Notebooks/aml_proj3/inception_resnetv2/model/generator_model.png')\n",
        "SVG(model_to_dot(generator, show_layer_names=True, show_shapes=True, dpi=60).create(prog='dot', format='svg'))"
      ],
      "execution_count": 11,
      "outputs": [
        {
          "output_type": "stream",
          "text": [
            "Model: \"model_2\"\n",
            "_________________________________________________________________\n",
            "Layer (type)                 Output Shape              Param #   \n",
            "=================================================================\n",
            "input_2 (InputLayer)         (None, 128, 128, 3)       0         \n",
            "_________________________________________________________________\n",
            "conv2d_14 (Conv2D)           (None, 128, 128, 64)      4864      \n",
            "_________________________________________________________________\n",
            "activation_1 (Activation)    (None, 128, 128, 64)      0         \n",
            "_________________________________________________________________\n",
            "instance_normalization_11 (I (None, 128, 128, 64)      2         \n",
            "_________________________________________________________________\n",
            "conv2d_15 (Conv2D)           (None, 64, 64, 128)       73856     \n",
            "_________________________________________________________________\n",
            "activation_2 (Activation)    (None, 64, 64, 128)       0         \n",
            "_________________________________________________________________\n",
            "instance_normalization_12 (I (None, 64, 64, 128)       2         \n",
            "_________________________________________________________________\n",
            "conv2d_16 (Conv2D)           (None, 64, 64, 256)       295168    \n",
            "_________________________________________________________________\n",
            "activation_3 (Activation)    (None, 64, 64, 256)       0         \n",
            "_________________________________________________________________\n",
            "instance_normalization_13 (I (None, 64, 64, 256)       2         \n",
            "_________________________________________________________________\n",
            "conv2d_17 (Conv2D)           (None, 64, 64, 256)       590080    \n",
            "_________________________________________________________________\n",
            "activation_4 (Activation)    (None, 64, 64, 256)       0         \n",
            "_________________________________________________________________\n",
            "instance_normalization_14 (I (None, 64, 64, 256)       2         \n",
            "_________________________________________________________________\n",
            "conv2d_18 (Conv2D)           (None, 64, 64, 256)       590080    \n",
            "_________________________________________________________________\n",
            "activation_5 (Activation)    (None, 64, 64, 256)       0         \n",
            "_________________________________________________________________\n",
            "instance_normalization_15 (I (None, 64, 64, 256)       2         \n",
            "_________________________________________________________________\n",
            "conv2d_19 (Conv2D)           (None, 64, 64, 256)       590080    \n",
            "_________________________________________________________________\n",
            "activation_6 (Activation)    (None, 64, 64, 256)       0         \n",
            "_________________________________________________________________\n",
            "instance_normalization_16 (I (None, 64, 64, 256)       2         \n",
            "_________________________________________________________________\n",
            "conv2d_20 (Conv2D)           (None, 64, 64, 256)       590080    \n",
            "_________________________________________________________________\n",
            "activation_7 (Activation)    (None, 64, 64, 256)       0         \n",
            "_________________________________________________________________\n",
            "instance_normalization_17 (I (None, 64, 64, 256)       2         \n",
            "_________________________________________________________________\n",
            "conv2d_transpose_1 (Conv2DTr (None, 128, 128, 128)     524416    \n",
            "_________________________________________________________________\n",
            "activation_8 (Activation)    (None, 128, 128, 128)     0         \n",
            "_________________________________________________________________\n",
            "conv2d_21 (Conv2D)           (None, 128, 128, 64)      73792     \n",
            "_________________________________________________________________\n",
            "activation_9 (Activation)    (None, 128, 128, 64)      0         \n",
            "_________________________________________________________________\n",
            "instance_normalization_18 (I (None, 128, 128, 64)      2         \n",
            "_________________________________________________________________\n",
            "conv2d_22 (Conv2D)           (None, 128, 128, 3)       1731      \n",
            "=================================================================\n",
            "Total params: 3,334,163\n",
            "Trainable params: 3,334,163\n",
            "Non-trainable params: 0\n",
            "_________________________________________________________________\n"
          ],
          "name": "stdout"
        },
        {
          "output_type": "execute_result",
          "data": {
            "text/plain": [
              "<IPython.core.display.SVG object>"
            ],
            "image/svg+xml": "<svg height=\"1913pt\" viewBox=\"0.00 0.00 513.00 2296.00\" width=\"427pt\" xmlns=\"http://www.w3.org/2000/svg\" xmlns:xlink=\"http://www.w3.org/1999/xlink\">\n<g class=\"graph\" id=\"graph0\" transform=\"scale(.8333 .8333) rotate(0) translate(4 2292)\">\n<title>G</title>\n<polygon fill=\"#ffffff\" points=\"-4,4 -4,-2292 509,-2292 509,4 -4,4\" stroke=\"transparent\"/>\n<!-- 140512681698360 -->\n<g class=\"node\" id=\"node1\">\n<title>140512681698360</title>\n<polygon fill=\"none\" points=\"91,-2241.5 91,-2287.5 414,-2287.5 414,-2241.5 91,-2241.5\" stroke=\"#000000\"/>\n<text fill=\"#000000\" font-family=\"Times,serif\" font-size=\"14.00\" text-anchor=\"middle\" x=\"157.5\" y=\"-2260.8\">input_2: InputLayer</text>\n<polyline fill=\"none\" points=\"224,-2241.5 224,-2287.5 \" stroke=\"#000000\"/>\n<text fill=\"#000000\" font-family=\"Times,serif\" font-size=\"14.00\" text-anchor=\"middle\" x=\"253\" y=\"-2272.3\">input:</text>\n<polyline fill=\"none\" points=\"224,-2264.5 282,-2264.5 \" stroke=\"#000000\"/>\n<text fill=\"#000000\" font-family=\"Times,serif\" font-size=\"14.00\" text-anchor=\"middle\" x=\"253\" y=\"-2249.3\">output:</text>\n<polyline fill=\"none\" points=\"282,-2241.5 282,-2287.5 \" stroke=\"#000000\"/>\n<text fill=\"#000000\" font-family=\"Times,serif\" font-size=\"14.00\" text-anchor=\"middle\" x=\"348\" y=\"-2272.3\">(None, 128, 128, 3)</text>\n<polyline fill=\"none\" points=\"282,-2264.5 414,-2264.5 \" stroke=\"#000000\"/>\n<text fill=\"#000000\" font-family=\"Times,serif\" font-size=\"14.00\" text-anchor=\"middle\" x=\"348\" y=\"-2249.3\">(None, 128, 128, 3)</text>\n</g>\n<!-- 140512713212536 -->\n<g class=\"node\" id=\"node2\">\n<title>140512713212536</title>\n<polygon fill=\"none\" points=\"83.5,-2158.5 83.5,-2204.5 421.5,-2204.5 421.5,-2158.5 83.5,-2158.5\" stroke=\"#000000\"/>\n<text fill=\"#000000\" font-family=\"Times,serif\" font-size=\"14.00\" text-anchor=\"middle\" x=\"153.5\" y=\"-2177.8\">conv2d_14: Conv2D</text>\n<polyline fill=\"none\" points=\"223.5,-2158.5 223.5,-2204.5 \" stroke=\"#000000\"/>\n<text fill=\"#000000\" font-family=\"Times,serif\" font-size=\"14.00\" text-anchor=\"middle\" x=\"252.5\" y=\"-2189.3\">input:</text>\n<polyline fill=\"none\" points=\"223.5,-2181.5 281.5,-2181.5 \" stroke=\"#000000\"/>\n<text fill=\"#000000\" font-family=\"Times,serif\" font-size=\"14.00\" text-anchor=\"middle\" x=\"252.5\" y=\"-2166.3\">output:</text>\n<polyline fill=\"none\" points=\"281.5,-2158.5 281.5,-2204.5 \" stroke=\"#000000\"/>\n<text fill=\"#000000\" font-family=\"Times,serif\" font-size=\"14.00\" text-anchor=\"middle\" x=\"351.5\" y=\"-2189.3\">(None, 128, 128, 3)</text>\n<polyline fill=\"none\" points=\"281.5,-2181.5 421.5,-2181.5 \" stroke=\"#000000\"/>\n<text fill=\"#000000\" font-family=\"Times,serif\" font-size=\"14.00\" text-anchor=\"middle\" x=\"351.5\" y=\"-2166.3\">(None, 128, 128, 64)</text>\n</g>\n<!-- 140512681698360&#45;&gt;140512713212536 -->\n<g class=\"edge\" id=\"edge1\">\n<title>140512681698360-&gt;140512713212536</title>\n<path d=\"M252.5,-2241.3799C252.5,-2233.1745 252.5,-2223.7679 252.5,-2214.8786\" fill=\"none\" stroke=\"#000000\"/>\n<polygon fill=\"#000000\" points=\"256.0001,-2214.784 252.5,-2204.784 249.0001,-2214.784 256.0001,-2214.784\" stroke=\"#000000\"/>\n</g>\n<!-- 140512682036192 -->\n<g class=\"node\" id=\"node3\">\n<title>140512682036192</title>\n<polygon fill=\"none\" points=\"76.5,-2075.5 76.5,-2121.5 428.5,-2121.5 428.5,-2075.5 76.5,-2075.5\" stroke=\"#000000\"/>\n<text fill=\"#000000\" font-family=\"Times,serif\" font-size=\"14.00\" text-anchor=\"middle\" x=\"153.5\" y=\"-2094.8\">activation_1: Activation</text>\n<polyline fill=\"none\" points=\"230.5,-2075.5 230.5,-2121.5 \" stroke=\"#000000\"/>\n<text fill=\"#000000\" font-family=\"Times,serif\" font-size=\"14.00\" text-anchor=\"middle\" x=\"259.5\" y=\"-2106.3\">input:</text>\n<polyline fill=\"none\" points=\"230.5,-2098.5 288.5,-2098.5 \" stroke=\"#000000\"/>\n<text fill=\"#000000\" font-family=\"Times,serif\" font-size=\"14.00\" text-anchor=\"middle\" x=\"259.5\" y=\"-2083.3\">output:</text>\n<polyline fill=\"none\" points=\"288.5,-2075.5 288.5,-2121.5 \" stroke=\"#000000\"/>\n<text fill=\"#000000\" font-family=\"Times,serif\" font-size=\"14.00\" text-anchor=\"middle\" x=\"358.5\" y=\"-2106.3\">(None, 128, 128, 64)</text>\n<polyline fill=\"none\" points=\"288.5,-2098.5 428.5,-2098.5 \" stroke=\"#000000\"/>\n<text fill=\"#000000\" font-family=\"Times,serif\" font-size=\"14.00\" text-anchor=\"middle\" x=\"358.5\" y=\"-2083.3\">(None, 128, 128, 64)</text>\n</g>\n<!-- 140512713212536&#45;&gt;140512682036192 -->\n<g class=\"edge\" id=\"edge2\">\n<title>140512713212536-&gt;140512682036192</title>\n<path d=\"M252.5,-2158.3799C252.5,-2150.1745 252.5,-2140.7679 252.5,-2131.8786\" fill=\"none\" stroke=\"#000000\"/>\n<polygon fill=\"#000000\" points=\"256.0001,-2131.784 252.5,-2121.784 249.0001,-2131.784 256.0001,-2131.784\" stroke=\"#000000\"/>\n</g>\n<!-- 140512682036360 -->\n<g class=\"node\" id=\"node4\">\n<title>140512682036360</title>\n<polygon fill=\"none\" points=\".5,-1992.5 .5,-2038.5 504.5,-2038.5 504.5,-1992.5 .5,-1992.5\" stroke=\"#000000\"/>\n<text fill=\"#000000\" font-family=\"Times,serif\" font-size=\"14.00\" text-anchor=\"middle\" x=\"153.5\" y=\"-2011.8\">instance_normalization_11: InstanceNormalization</text>\n<polyline fill=\"none\" points=\"306.5,-1992.5 306.5,-2038.5 \" stroke=\"#000000\"/>\n<text fill=\"#000000\" font-family=\"Times,serif\" font-size=\"14.00\" text-anchor=\"middle\" x=\"335.5\" y=\"-2023.3\">input:</text>\n<polyline fill=\"none\" points=\"306.5,-2015.5 364.5,-2015.5 \" stroke=\"#000000\"/>\n<text fill=\"#000000\" font-family=\"Times,serif\" font-size=\"14.00\" text-anchor=\"middle\" x=\"335.5\" y=\"-2000.3\">output:</text>\n<polyline fill=\"none\" points=\"364.5,-1992.5 364.5,-2038.5 \" stroke=\"#000000\"/>\n<text fill=\"#000000\" font-family=\"Times,serif\" font-size=\"14.00\" text-anchor=\"middle\" x=\"434.5\" y=\"-2023.3\">(None, 128, 128, 64)</text>\n<polyline fill=\"none\" points=\"364.5,-2015.5 504.5,-2015.5 \" stroke=\"#000000\"/>\n<text fill=\"#000000\" font-family=\"Times,serif\" font-size=\"14.00\" text-anchor=\"middle\" x=\"434.5\" y=\"-2000.3\">(None, 128, 128, 64)</text>\n</g>\n<!-- 140512682036192&#45;&gt;140512682036360 -->\n<g class=\"edge\" id=\"edge3\">\n<title>140512682036192-&gt;140512682036360</title>\n<path d=\"M252.5,-2075.3799C252.5,-2067.1745 252.5,-2057.7679 252.5,-2048.8786\" fill=\"none\" stroke=\"#000000\"/>\n<polygon fill=\"#000000\" points=\"256.0001,-2048.784 252.5,-2038.784 249.0001,-2048.784 256.0001,-2048.784\" stroke=\"#000000\"/>\n</g>\n<!-- 140512682181184 -->\n<g class=\"node\" id=\"node5\">\n<title>140512682181184</title>\n<polygon fill=\"none\" points=\"83.5,-1909.5 83.5,-1955.5 421.5,-1955.5 421.5,-1909.5 83.5,-1909.5\" stroke=\"#000000\"/>\n<text fill=\"#000000\" font-family=\"Times,serif\" font-size=\"14.00\" text-anchor=\"middle\" x=\"153.5\" y=\"-1928.8\">conv2d_15: Conv2D</text>\n<polyline fill=\"none\" points=\"223.5,-1909.5 223.5,-1955.5 \" stroke=\"#000000\"/>\n<text fill=\"#000000\" font-family=\"Times,serif\" font-size=\"14.00\" text-anchor=\"middle\" x=\"252.5\" y=\"-1940.3\">input:</text>\n<polyline fill=\"none\" points=\"223.5,-1932.5 281.5,-1932.5 \" stroke=\"#000000\"/>\n<text fill=\"#000000\" font-family=\"Times,serif\" font-size=\"14.00\" text-anchor=\"middle\" x=\"252.5\" y=\"-1917.3\">output:</text>\n<polyline fill=\"none\" points=\"281.5,-1909.5 281.5,-1955.5 \" stroke=\"#000000\"/>\n<text fill=\"#000000\" font-family=\"Times,serif\" font-size=\"14.00\" text-anchor=\"middle\" x=\"351.5\" y=\"-1940.3\">(None, 128, 128, 64)</text>\n<polyline fill=\"none\" points=\"281.5,-1932.5 421.5,-1932.5 \" stroke=\"#000000\"/>\n<text fill=\"#000000\" font-family=\"Times,serif\" font-size=\"14.00\" text-anchor=\"middle\" x=\"351.5\" y=\"-1917.3\">(None, 64, 64, 128)</text>\n</g>\n<!-- 140512682036360&#45;&gt;140512682181184 -->\n<g class=\"edge\" id=\"edge4\">\n<title>140512682036360-&gt;140512682181184</title>\n<path d=\"M252.5,-1992.3799C252.5,-1984.1745 252.5,-1974.7679 252.5,-1965.8786\" fill=\"none\" stroke=\"#000000\"/>\n<polygon fill=\"#000000\" points=\"256.0001,-1965.784 252.5,-1955.784 249.0001,-1965.784 256.0001,-1965.784\" stroke=\"#000000\"/>\n</g>\n<!-- 140512681765800 -->\n<g class=\"node\" id=\"node6\">\n<title>140512681765800</title>\n<polygon fill=\"none\" points=\"80.5,-1826.5 80.5,-1872.5 424.5,-1872.5 424.5,-1826.5 80.5,-1826.5\" stroke=\"#000000\"/>\n<text fill=\"#000000\" font-family=\"Times,serif\" font-size=\"14.00\" text-anchor=\"middle\" x=\"157.5\" y=\"-1845.8\">activation_2: Activation</text>\n<polyline fill=\"none\" points=\"234.5,-1826.5 234.5,-1872.5 \" stroke=\"#000000\"/>\n<text fill=\"#000000\" font-family=\"Times,serif\" font-size=\"14.00\" text-anchor=\"middle\" x=\"263.5\" y=\"-1857.3\">input:</text>\n<polyline fill=\"none\" points=\"234.5,-1849.5 292.5,-1849.5 \" stroke=\"#000000\"/>\n<text fill=\"#000000\" font-family=\"Times,serif\" font-size=\"14.00\" text-anchor=\"middle\" x=\"263.5\" y=\"-1834.3\">output:</text>\n<polyline fill=\"none\" points=\"292.5,-1826.5 292.5,-1872.5 \" stroke=\"#000000\"/>\n<text fill=\"#000000\" font-family=\"Times,serif\" font-size=\"14.00\" text-anchor=\"middle\" x=\"358.5\" y=\"-1857.3\">(None, 64, 64, 128)</text>\n<polyline fill=\"none\" points=\"292.5,-1849.5 424.5,-1849.5 \" stroke=\"#000000\"/>\n<text fill=\"#000000\" font-family=\"Times,serif\" font-size=\"14.00\" text-anchor=\"middle\" x=\"358.5\" y=\"-1834.3\">(None, 64, 64, 128)</text>\n</g>\n<!-- 140512682181184&#45;&gt;140512681765800 -->\n<g class=\"edge\" id=\"edge5\">\n<title>140512682181184-&gt;140512681765800</title>\n<path d=\"M252.5,-1909.3799C252.5,-1901.1745 252.5,-1891.7679 252.5,-1882.8786\" fill=\"none\" stroke=\"#000000\"/>\n<polygon fill=\"#000000\" points=\"256.0001,-1882.784 252.5,-1872.784 249.0001,-1882.784 256.0001,-1882.784\" stroke=\"#000000\"/>\n</g>\n<!-- 140512681764792 -->\n<g class=\"node\" id=\"node7\">\n<title>140512681764792</title>\n<polygon fill=\"none\" points=\"4,-1743.5 4,-1789.5 501,-1789.5 501,-1743.5 4,-1743.5\" stroke=\"#000000\"/>\n<text fill=\"#000000\" font-family=\"Times,serif\" font-size=\"14.00\" text-anchor=\"middle\" x=\"157.5\" y=\"-1762.8\">instance_normalization_12: InstanceNormalization</text>\n<polyline fill=\"none\" points=\"311,-1743.5 311,-1789.5 \" stroke=\"#000000\"/>\n<text fill=\"#000000\" font-family=\"Times,serif\" font-size=\"14.00\" text-anchor=\"middle\" x=\"340\" y=\"-1774.3\">input:</text>\n<polyline fill=\"none\" points=\"311,-1766.5 369,-1766.5 \" stroke=\"#000000\"/>\n<text fill=\"#000000\" font-family=\"Times,serif\" font-size=\"14.00\" text-anchor=\"middle\" x=\"340\" y=\"-1751.3\">output:</text>\n<polyline fill=\"none\" points=\"369,-1743.5 369,-1789.5 \" stroke=\"#000000\"/>\n<text fill=\"#000000\" font-family=\"Times,serif\" font-size=\"14.00\" text-anchor=\"middle\" x=\"435\" y=\"-1774.3\">(None, 64, 64, 128)</text>\n<polyline fill=\"none\" points=\"369,-1766.5 501,-1766.5 \" stroke=\"#000000\"/>\n<text fill=\"#000000\" font-family=\"Times,serif\" font-size=\"14.00\" text-anchor=\"middle\" x=\"435\" y=\"-1751.3\">(None, 64, 64, 128)</text>\n</g>\n<!-- 140512681765800&#45;&gt;140512681764792 -->\n<g class=\"edge\" id=\"edge6\">\n<title>140512681765800-&gt;140512681764792</title>\n<path d=\"M252.5,-1826.3799C252.5,-1818.1745 252.5,-1808.7679 252.5,-1799.8786\" fill=\"none\" stroke=\"#000000\"/>\n<polygon fill=\"#000000\" points=\"256.0001,-1799.784 252.5,-1789.784 249.0001,-1799.784 256.0001,-1799.784\" stroke=\"#000000\"/>\n</g>\n<!-- 140512681713560 -->\n<g class=\"node\" id=\"node8\">\n<title>140512681713560</title>\n<polygon fill=\"none\" points=\"87.5,-1660.5 87.5,-1706.5 417.5,-1706.5 417.5,-1660.5 87.5,-1660.5\" stroke=\"#000000\"/>\n<text fill=\"#000000\" font-family=\"Times,serif\" font-size=\"14.00\" text-anchor=\"middle\" x=\"157.5\" y=\"-1679.8\">conv2d_16: Conv2D</text>\n<polyline fill=\"none\" points=\"227.5,-1660.5 227.5,-1706.5 \" stroke=\"#000000\"/>\n<text fill=\"#000000\" font-family=\"Times,serif\" font-size=\"14.00\" text-anchor=\"middle\" x=\"256.5\" y=\"-1691.3\">input:</text>\n<polyline fill=\"none\" points=\"227.5,-1683.5 285.5,-1683.5 \" stroke=\"#000000\"/>\n<text fill=\"#000000\" font-family=\"Times,serif\" font-size=\"14.00\" text-anchor=\"middle\" x=\"256.5\" y=\"-1668.3\">output:</text>\n<polyline fill=\"none\" points=\"285.5,-1660.5 285.5,-1706.5 \" stroke=\"#000000\"/>\n<text fill=\"#000000\" font-family=\"Times,serif\" font-size=\"14.00\" text-anchor=\"middle\" x=\"351.5\" y=\"-1691.3\">(None, 64, 64, 128)</text>\n<polyline fill=\"none\" points=\"285.5,-1683.5 417.5,-1683.5 \" stroke=\"#000000\"/>\n<text fill=\"#000000\" font-family=\"Times,serif\" font-size=\"14.00\" text-anchor=\"middle\" x=\"351.5\" y=\"-1668.3\">(None, 64, 64, 256)</text>\n</g>\n<!-- 140512681764792&#45;&gt;140512681713560 -->\n<g class=\"edge\" id=\"edge7\">\n<title>140512681764792-&gt;140512681713560</title>\n<path d=\"M252.5,-1743.3799C252.5,-1735.1745 252.5,-1725.7679 252.5,-1716.8786\" fill=\"none\" stroke=\"#000000\"/>\n<polygon fill=\"#000000\" points=\"256.0001,-1716.784 252.5,-1706.784 249.0001,-1716.784 256.0001,-1716.784\" stroke=\"#000000\"/>\n</g>\n<!-- 140512681837176 -->\n<g class=\"node\" id=\"node9\">\n<title>140512681837176</title>\n<polygon fill=\"none\" points=\"80.5,-1577.5 80.5,-1623.5 424.5,-1623.5 424.5,-1577.5 80.5,-1577.5\" stroke=\"#000000\"/>\n<text fill=\"#000000\" font-family=\"Times,serif\" font-size=\"14.00\" text-anchor=\"middle\" x=\"157.5\" y=\"-1596.8\">activation_3: Activation</text>\n<polyline fill=\"none\" points=\"234.5,-1577.5 234.5,-1623.5 \" stroke=\"#000000\"/>\n<text fill=\"#000000\" font-family=\"Times,serif\" font-size=\"14.00\" text-anchor=\"middle\" x=\"263.5\" y=\"-1608.3\">input:</text>\n<polyline fill=\"none\" points=\"234.5,-1600.5 292.5,-1600.5 \" stroke=\"#000000\"/>\n<text fill=\"#000000\" font-family=\"Times,serif\" font-size=\"14.00\" text-anchor=\"middle\" x=\"263.5\" y=\"-1585.3\">output:</text>\n<polyline fill=\"none\" points=\"292.5,-1577.5 292.5,-1623.5 \" stroke=\"#000000\"/>\n<text fill=\"#000000\" font-family=\"Times,serif\" font-size=\"14.00\" text-anchor=\"middle\" x=\"358.5\" y=\"-1608.3\">(None, 64, 64, 256)</text>\n<polyline fill=\"none\" points=\"292.5,-1600.5 424.5,-1600.5 \" stroke=\"#000000\"/>\n<text fill=\"#000000\" font-family=\"Times,serif\" font-size=\"14.00\" text-anchor=\"middle\" x=\"358.5\" y=\"-1585.3\">(None, 64, 64, 256)</text>\n</g>\n<!-- 140512681713560&#45;&gt;140512681837176 -->\n<g class=\"edge\" id=\"edge8\">\n<title>140512681713560-&gt;140512681837176</title>\n<path d=\"M252.5,-1660.3799C252.5,-1652.1745 252.5,-1642.7679 252.5,-1633.8786\" fill=\"none\" stroke=\"#000000\"/>\n<polygon fill=\"#000000\" points=\"256.0001,-1633.784 252.5,-1623.784 249.0001,-1633.784 256.0001,-1633.784\" stroke=\"#000000\"/>\n</g>\n<!-- 140512681839304 -->\n<g class=\"node\" id=\"node10\">\n<title>140512681839304</title>\n<polygon fill=\"none\" points=\"4,-1494.5 4,-1540.5 501,-1540.5 501,-1494.5 4,-1494.5\" stroke=\"#000000\"/>\n<text fill=\"#000000\" font-family=\"Times,serif\" font-size=\"14.00\" text-anchor=\"middle\" x=\"157.5\" y=\"-1513.8\">instance_normalization_13: InstanceNormalization</text>\n<polyline fill=\"none\" points=\"311,-1494.5 311,-1540.5 \" stroke=\"#000000\"/>\n<text fill=\"#000000\" font-family=\"Times,serif\" font-size=\"14.00\" text-anchor=\"middle\" x=\"340\" y=\"-1525.3\">input:</text>\n<polyline fill=\"none\" points=\"311,-1517.5 369,-1517.5 \" stroke=\"#000000\"/>\n<text fill=\"#000000\" font-family=\"Times,serif\" font-size=\"14.00\" text-anchor=\"middle\" x=\"340\" y=\"-1502.3\">output:</text>\n<polyline fill=\"none\" points=\"369,-1494.5 369,-1540.5 \" stroke=\"#000000\"/>\n<text fill=\"#000000\" font-family=\"Times,serif\" font-size=\"14.00\" text-anchor=\"middle\" x=\"435\" y=\"-1525.3\">(None, 64, 64, 256)</text>\n<polyline fill=\"none\" points=\"369,-1517.5 501,-1517.5 \" stroke=\"#000000\"/>\n<text fill=\"#000000\" font-family=\"Times,serif\" font-size=\"14.00\" text-anchor=\"middle\" x=\"435\" y=\"-1502.3\">(None, 64, 64, 256)</text>\n</g>\n<!-- 140512681837176&#45;&gt;140512681839304 -->\n<g class=\"edge\" id=\"edge9\">\n<title>140512681837176-&gt;140512681839304</title>\n<path d=\"M252.5,-1577.3799C252.5,-1569.1745 252.5,-1559.7679 252.5,-1550.8786\" fill=\"none\" stroke=\"#000000\"/>\n<polygon fill=\"#000000\" points=\"256.0001,-1550.784 252.5,-1540.784 249.0001,-1550.784 256.0001,-1550.784\" stroke=\"#000000\"/>\n</g>\n<!-- 140512681868536 -->\n<g class=\"node\" id=\"node11\">\n<title>140512681868536</title>\n<polygon fill=\"none\" points=\"87.5,-1411.5 87.5,-1457.5 417.5,-1457.5 417.5,-1411.5 87.5,-1411.5\" stroke=\"#000000\"/>\n<text fill=\"#000000\" font-family=\"Times,serif\" font-size=\"14.00\" text-anchor=\"middle\" x=\"157.5\" y=\"-1430.8\">conv2d_17: Conv2D</text>\n<polyline fill=\"none\" points=\"227.5,-1411.5 227.5,-1457.5 \" stroke=\"#000000\"/>\n<text fill=\"#000000\" font-family=\"Times,serif\" font-size=\"14.00\" text-anchor=\"middle\" x=\"256.5\" y=\"-1442.3\">input:</text>\n<polyline fill=\"none\" points=\"227.5,-1434.5 285.5,-1434.5 \" stroke=\"#000000\"/>\n<text fill=\"#000000\" font-family=\"Times,serif\" font-size=\"14.00\" text-anchor=\"middle\" x=\"256.5\" y=\"-1419.3\">output:</text>\n<polyline fill=\"none\" points=\"285.5,-1411.5 285.5,-1457.5 \" stroke=\"#000000\"/>\n<text fill=\"#000000\" font-family=\"Times,serif\" font-size=\"14.00\" text-anchor=\"middle\" x=\"351.5\" y=\"-1442.3\">(None, 64, 64, 256)</text>\n<polyline fill=\"none\" points=\"285.5,-1434.5 417.5,-1434.5 \" stroke=\"#000000\"/>\n<text fill=\"#000000\" font-family=\"Times,serif\" font-size=\"14.00\" text-anchor=\"middle\" x=\"351.5\" y=\"-1419.3\">(None, 64, 64, 256)</text>\n</g>\n<!-- 140512681839304&#45;&gt;140512681868536 -->\n<g class=\"edge\" id=\"edge10\">\n<title>140512681839304-&gt;140512681868536</title>\n<path d=\"M252.5,-1494.3799C252.5,-1486.1745 252.5,-1476.7679 252.5,-1467.8786\" fill=\"none\" stroke=\"#000000\"/>\n<polygon fill=\"#000000\" points=\"256.0001,-1467.784 252.5,-1457.784 249.0001,-1467.784 256.0001,-1467.784\" stroke=\"#000000\"/>\n</g>\n<!-- 140512681446536 -->\n<g class=\"node\" id=\"node12\">\n<title>140512681446536</title>\n<polygon fill=\"none\" points=\"80.5,-1328.5 80.5,-1374.5 424.5,-1374.5 424.5,-1328.5 80.5,-1328.5\" stroke=\"#000000\"/>\n<text fill=\"#000000\" font-family=\"Times,serif\" font-size=\"14.00\" text-anchor=\"middle\" x=\"157.5\" y=\"-1347.8\">activation_4: Activation</text>\n<polyline fill=\"none\" points=\"234.5,-1328.5 234.5,-1374.5 \" stroke=\"#000000\"/>\n<text fill=\"#000000\" font-family=\"Times,serif\" font-size=\"14.00\" text-anchor=\"middle\" x=\"263.5\" y=\"-1359.3\">input:</text>\n<polyline fill=\"none\" points=\"234.5,-1351.5 292.5,-1351.5 \" stroke=\"#000000\"/>\n<text fill=\"#000000\" font-family=\"Times,serif\" font-size=\"14.00\" text-anchor=\"middle\" x=\"263.5\" y=\"-1336.3\">output:</text>\n<polyline fill=\"none\" points=\"292.5,-1328.5 292.5,-1374.5 \" stroke=\"#000000\"/>\n<text fill=\"#000000\" font-family=\"Times,serif\" font-size=\"14.00\" text-anchor=\"middle\" x=\"358.5\" y=\"-1359.3\">(None, 64, 64, 256)</text>\n<polyline fill=\"none\" points=\"292.5,-1351.5 424.5,-1351.5 \" stroke=\"#000000\"/>\n<text fill=\"#000000\" font-family=\"Times,serif\" font-size=\"14.00\" text-anchor=\"middle\" x=\"358.5\" y=\"-1336.3\">(None, 64, 64, 256)</text>\n</g>\n<!-- 140512681868536&#45;&gt;140512681446536 -->\n<g class=\"edge\" id=\"edge11\">\n<title>140512681868536-&gt;140512681446536</title>\n<path d=\"M252.5,-1411.3799C252.5,-1403.1745 252.5,-1393.7679 252.5,-1384.8786\" fill=\"none\" stroke=\"#000000\"/>\n<polygon fill=\"#000000\" points=\"256.0001,-1384.784 252.5,-1374.784 249.0001,-1384.784 256.0001,-1384.784\" stroke=\"#000000\"/>\n</g>\n<!-- 140512681443400 -->\n<g class=\"node\" id=\"node13\">\n<title>140512681443400</title>\n<polygon fill=\"none\" points=\"4,-1245.5 4,-1291.5 501,-1291.5 501,-1245.5 4,-1245.5\" stroke=\"#000000\"/>\n<text fill=\"#000000\" font-family=\"Times,serif\" font-size=\"14.00\" text-anchor=\"middle\" x=\"157.5\" y=\"-1264.8\">instance_normalization_14: InstanceNormalization</text>\n<polyline fill=\"none\" points=\"311,-1245.5 311,-1291.5 \" stroke=\"#000000\"/>\n<text fill=\"#000000\" font-family=\"Times,serif\" font-size=\"14.00\" text-anchor=\"middle\" x=\"340\" y=\"-1276.3\">input:</text>\n<polyline fill=\"none\" points=\"311,-1268.5 369,-1268.5 \" stroke=\"#000000\"/>\n<text fill=\"#000000\" font-family=\"Times,serif\" font-size=\"14.00\" text-anchor=\"middle\" x=\"340\" y=\"-1253.3\">output:</text>\n<polyline fill=\"none\" points=\"369,-1245.5 369,-1291.5 \" stroke=\"#000000\"/>\n<text fill=\"#000000\" font-family=\"Times,serif\" font-size=\"14.00\" text-anchor=\"middle\" x=\"435\" y=\"-1276.3\">(None, 64, 64, 256)</text>\n<polyline fill=\"none\" points=\"369,-1268.5 501,-1268.5 \" stroke=\"#000000\"/>\n<text fill=\"#000000\" font-family=\"Times,serif\" font-size=\"14.00\" text-anchor=\"middle\" x=\"435\" y=\"-1253.3\">(None, 64, 64, 256)</text>\n</g>\n<!-- 140512681446536&#45;&gt;140512681443400 -->\n<g class=\"edge\" id=\"edge12\">\n<title>140512681446536-&gt;140512681443400</title>\n<path d=\"M252.5,-1328.3799C252.5,-1320.1745 252.5,-1310.7679 252.5,-1301.8786\" fill=\"none\" stroke=\"#000000\"/>\n<polygon fill=\"#000000\" points=\"256.0001,-1301.784 252.5,-1291.784 249.0001,-1301.784 256.0001,-1301.784\" stroke=\"#000000\"/>\n</g>\n<!-- 140512681504608 -->\n<g class=\"node\" id=\"node14\">\n<title>140512681504608</title>\n<polygon fill=\"none\" points=\"87.5,-1162.5 87.5,-1208.5 417.5,-1208.5 417.5,-1162.5 87.5,-1162.5\" stroke=\"#000000\"/>\n<text fill=\"#000000\" font-family=\"Times,serif\" font-size=\"14.00\" text-anchor=\"middle\" x=\"157.5\" y=\"-1181.8\">conv2d_18: Conv2D</text>\n<polyline fill=\"none\" points=\"227.5,-1162.5 227.5,-1208.5 \" stroke=\"#000000\"/>\n<text fill=\"#000000\" font-family=\"Times,serif\" font-size=\"14.00\" text-anchor=\"middle\" x=\"256.5\" y=\"-1193.3\">input:</text>\n<polyline fill=\"none\" points=\"227.5,-1185.5 285.5,-1185.5 \" stroke=\"#000000\"/>\n<text fill=\"#000000\" font-family=\"Times,serif\" font-size=\"14.00\" text-anchor=\"middle\" x=\"256.5\" y=\"-1170.3\">output:</text>\n<polyline fill=\"none\" points=\"285.5,-1162.5 285.5,-1208.5 \" stroke=\"#000000\"/>\n<text fill=\"#000000\" font-family=\"Times,serif\" font-size=\"14.00\" text-anchor=\"middle\" x=\"351.5\" y=\"-1193.3\">(None, 64, 64, 256)</text>\n<polyline fill=\"none\" points=\"285.5,-1185.5 417.5,-1185.5 \" stroke=\"#000000\"/>\n<text fill=\"#000000\" font-family=\"Times,serif\" font-size=\"14.00\" text-anchor=\"middle\" x=\"351.5\" y=\"-1170.3\">(None, 64, 64, 256)</text>\n</g>\n<!-- 140512681443400&#45;&gt;140512681504608 -->\n<g class=\"edge\" id=\"edge13\">\n<title>140512681443400-&gt;140512681504608</title>\n<path d=\"M252.5,-1245.3799C252.5,-1237.1745 252.5,-1227.7679 252.5,-1218.8786\" fill=\"none\" stroke=\"#000000\"/>\n<polygon fill=\"#000000\" points=\"256.0001,-1218.784 252.5,-1208.784 249.0001,-1218.784 256.0001,-1218.784\" stroke=\"#000000\"/>\n</g>\n<!-- 140512681591864 -->\n<g class=\"node\" id=\"node15\">\n<title>140512681591864</title>\n<polygon fill=\"none\" points=\"80.5,-1079.5 80.5,-1125.5 424.5,-1125.5 424.5,-1079.5 80.5,-1079.5\" stroke=\"#000000\"/>\n<text fill=\"#000000\" font-family=\"Times,serif\" font-size=\"14.00\" text-anchor=\"middle\" x=\"157.5\" y=\"-1098.8\">activation_5: Activation</text>\n<polyline fill=\"none\" points=\"234.5,-1079.5 234.5,-1125.5 \" stroke=\"#000000\"/>\n<text fill=\"#000000\" font-family=\"Times,serif\" font-size=\"14.00\" text-anchor=\"middle\" x=\"263.5\" y=\"-1110.3\">input:</text>\n<polyline fill=\"none\" points=\"234.5,-1102.5 292.5,-1102.5 \" stroke=\"#000000\"/>\n<text fill=\"#000000\" font-family=\"Times,serif\" font-size=\"14.00\" text-anchor=\"middle\" x=\"263.5\" y=\"-1087.3\">output:</text>\n<polyline fill=\"none\" points=\"292.5,-1079.5 292.5,-1125.5 \" stroke=\"#000000\"/>\n<text fill=\"#000000\" font-family=\"Times,serif\" font-size=\"14.00\" text-anchor=\"middle\" x=\"358.5\" y=\"-1110.3\">(None, 64, 64, 256)</text>\n<polyline fill=\"none\" points=\"292.5,-1102.5 424.5,-1102.5 \" stroke=\"#000000\"/>\n<text fill=\"#000000\" font-family=\"Times,serif\" font-size=\"14.00\" text-anchor=\"middle\" x=\"358.5\" y=\"-1087.3\">(None, 64, 64, 256)</text>\n</g>\n<!-- 140512681504608&#45;&gt;140512681591864 -->\n<g class=\"edge\" id=\"edge14\">\n<title>140512681504608-&gt;140512681591864</title>\n<path d=\"M252.5,-1162.3799C252.5,-1154.1745 252.5,-1144.7679 252.5,-1135.8786\" fill=\"none\" stroke=\"#000000\"/>\n<polygon fill=\"#000000\" points=\"256.0001,-1135.784 252.5,-1125.784 249.0001,-1135.784 256.0001,-1135.784\" stroke=\"#000000\"/>\n</g>\n<!-- 140512681593880 -->\n<g class=\"node\" id=\"node16\">\n<title>140512681593880</title>\n<polygon fill=\"none\" points=\"4,-996.5 4,-1042.5 501,-1042.5 501,-996.5 4,-996.5\" stroke=\"#000000\"/>\n<text fill=\"#000000\" font-family=\"Times,serif\" font-size=\"14.00\" text-anchor=\"middle\" x=\"157.5\" y=\"-1015.8\">instance_normalization_15: InstanceNormalization</text>\n<polyline fill=\"none\" points=\"311,-996.5 311,-1042.5 \" stroke=\"#000000\"/>\n<text fill=\"#000000\" font-family=\"Times,serif\" font-size=\"14.00\" text-anchor=\"middle\" x=\"340\" y=\"-1027.3\">input:</text>\n<polyline fill=\"none\" points=\"311,-1019.5 369,-1019.5 \" stroke=\"#000000\"/>\n<text fill=\"#000000\" font-family=\"Times,serif\" font-size=\"14.00\" text-anchor=\"middle\" x=\"340\" y=\"-1004.3\">output:</text>\n<polyline fill=\"none\" points=\"369,-996.5 369,-1042.5 \" stroke=\"#000000\"/>\n<text fill=\"#000000\" font-family=\"Times,serif\" font-size=\"14.00\" text-anchor=\"middle\" x=\"435\" y=\"-1027.3\">(None, 64, 64, 256)</text>\n<polyline fill=\"none\" points=\"369,-1019.5 501,-1019.5 \" stroke=\"#000000\"/>\n<text fill=\"#000000\" font-family=\"Times,serif\" font-size=\"14.00\" text-anchor=\"middle\" x=\"435\" y=\"-1004.3\">(None, 64, 64, 256)</text>\n</g>\n<!-- 140512681591864&#45;&gt;140512681593880 -->\n<g class=\"edge\" id=\"edge15\">\n<title>140512681591864-&gt;140512681593880</title>\n<path d=\"M252.5,-1079.3799C252.5,-1071.1745 252.5,-1061.7679 252.5,-1052.8786\" fill=\"none\" stroke=\"#000000\"/>\n<polygon fill=\"#000000\" points=\"256.0001,-1052.784 252.5,-1042.784 249.0001,-1052.784 256.0001,-1052.784\" stroke=\"#000000\"/>\n</g>\n<!-- 140512681652176 -->\n<g class=\"node\" id=\"node17\">\n<title>140512681652176</title>\n<polygon fill=\"none\" points=\"87.5,-913.5 87.5,-959.5 417.5,-959.5 417.5,-913.5 87.5,-913.5\" stroke=\"#000000\"/>\n<text fill=\"#000000\" font-family=\"Times,serif\" font-size=\"14.00\" text-anchor=\"middle\" x=\"157.5\" y=\"-932.8\">conv2d_19: Conv2D</text>\n<polyline fill=\"none\" points=\"227.5,-913.5 227.5,-959.5 \" stroke=\"#000000\"/>\n<text fill=\"#000000\" font-family=\"Times,serif\" font-size=\"14.00\" text-anchor=\"middle\" x=\"256.5\" y=\"-944.3\">input:</text>\n<polyline fill=\"none\" points=\"227.5,-936.5 285.5,-936.5 \" stroke=\"#000000\"/>\n<text fill=\"#000000\" font-family=\"Times,serif\" font-size=\"14.00\" text-anchor=\"middle\" x=\"256.5\" y=\"-921.3\">output:</text>\n<polyline fill=\"none\" points=\"285.5,-913.5 285.5,-959.5 \" stroke=\"#000000\"/>\n<text fill=\"#000000\" font-family=\"Times,serif\" font-size=\"14.00\" text-anchor=\"middle\" x=\"351.5\" y=\"-944.3\">(None, 64, 64, 256)</text>\n<polyline fill=\"none\" points=\"285.5,-936.5 417.5,-936.5 \" stroke=\"#000000\"/>\n<text fill=\"#000000\" font-family=\"Times,serif\" font-size=\"14.00\" text-anchor=\"middle\" x=\"351.5\" y=\"-921.3\">(None, 64, 64, 256)</text>\n</g>\n<!-- 140512681593880&#45;&gt;140512681652176 -->\n<g class=\"edge\" id=\"edge16\">\n<title>140512681593880-&gt;140512681652176</title>\n<path d=\"M252.5,-996.3799C252.5,-988.1745 252.5,-978.7679 252.5,-969.8786\" fill=\"none\" stroke=\"#000000\"/>\n<polygon fill=\"#000000\" points=\"256.0001,-969.784 252.5,-959.784 249.0001,-969.784 256.0001,-969.784\" stroke=\"#000000\"/>\n</g>\n<!-- 140512672801344 -->\n<g class=\"node\" id=\"node18\">\n<title>140512672801344</title>\n<polygon fill=\"none\" points=\"80.5,-830.5 80.5,-876.5 424.5,-876.5 424.5,-830.5 80.5,-830.5\" stroke=\"#000000\"/>\n<text fill=\"#000000\" font-family=\"Times,serif\" font-size=\"14.00\" text-anchor=\"middle\" x=\"157.5\" y=\"-849.8\">activation_6: Activation</text>\n<polyline fill=\"none\" points=\"234.5,-830.5 234.5,-876.5 \" stroke=\"#000000\"/>\n<text fill=\"#000000\" font-family=\"Times,serif\" font-size=\"14.00\" text-anchor=\"middle\" x=\"263.5\" y=\"-861.3\">input:</text>\n<polyline fill=\"none\" points=\"234.5,-853.5 292.5,-853.5 \" stroke=\"#000000\"/>\n<text fill=\"#000000\" font-family=\"Times,serif\" font-size=\"14.00\" text-anchor=\"middle\" x=\"263.5\" y=\"-838.3\">output:</text>\n<polyline fill=\"none\" points=\"292.5,-830.5 292.5,-876.5 \" stroke=\"#000000\"/>\n<text fill=\"#000000\" font-family=\"Times,serif\" font-size=\"14.00\" text-anchor=\"middle\" x=\"358.5\" y=\"-861.3\">(None, 64, 64, 256)</text>\n<polyline fill=\"none\" points=\"292.5,-853.5 424.5,-853.5 \" stroke=\"#000000\"/>\n<text fill=\"#000000\" font-family=\"Times,serif\" font-size=\"14.00\" text-anchor=\"middle\" x=\"358.5\" y=\"-838.3\">(None, 64, 64, 256)</text>\n</g>\n<!-- 140512681652176&#45;&gt;140512672801344 -->\n<g class=\"edge\" id=\"edge17\">\n<title>140512681652176-&gt;140512672801344</title>\n<path d=\"M252.5,-913.3799C252.5,-905.1745 252.5,-895.7679 252.5,-886.8786\" fill=\"none\" stroke=\"#000000\"/>\n<polygon fill=\"#000000\" points=\"256.0001,-886.784 252.5,-876.784 249.0001,-886.784 256.0001,-886.784\" stroke=\"#000000\"/>\n</g>\n<!-- 140512672803584 -->\n<g class=\"node\" id=\"node19\">\n<title>140512672803584</title>\n<polygon fill=\"none\" points=\"4,-747.5 4,-793.5 501,-793.5 501,-747.5 4,-747.5\" stroke=\"#000000\"/>\n<text fill=\"#000000\" font-family=\"Times,serif\" font-size=\"14.00\" text-anchor=\"middle\" x=\"157.5\" y=\"-766.8\">instance_normalization_16: InstanceNormalization</text>\n<polyline fill=\"none\" points=\"311,-747.5 311,-793.5 \" stroke=\"#000000\"/>\n<text fill=\"#000000\" font-family=\"Times,serif\" font-size=\"14.00\" text-anchor=\"middle\" x=\"340\" y=\"-778.3\">input:</text>\n<polyline fill=\"none\" points=\"311,-770.5 369,-770.5 \" stroke=\"#000000\"/>\n<text fill=\"#000000\" font-family=\"Times,serif\" font-size=\"14.00\" text-anchor=\"middle\" x=\"340\" y=\"-755.3\">output:</text>\n<polyline fill=\"none\" points=\"369,-747.5 369,-793.5 \" stroke=\"#000000\"/>\n<text fill=\"#000000\" font-family=\"Times,serif\" font-size=\"14.00\" text-anchor=\"middle\" x=\"435\" y=\"-778.3\">(None, 64, 64, 256)</text>\n<polyline fill=\"none\" points=\"369,-770.5 501,-770.5 \" stroke=\"#000000\"/>\n<text fill=\"#000000\" font-family=\"Times,serif\" font-size=\"14.00\" text-anchor=\"middle\" x=\"435\" y=\"-755.3\">(None, 64, 64, 256)</text>\n</g>\n<!-- 140512672801344&#45;&gt;140512672803584 -->\n<g class=\"edge\" id=\"edge18\">\n<title>140512672801344-&gt;140512672803584</title>\n<path d=\"M252.5,-830.3799C252.5,-822.1745 252.5,-812.7679 252.5,-803.8786\" fill=\"none\" stroke=\"#000000\"/>\n<polygon fill=\"#000000\" points=\"256.0001,-803.784 252.5,-793.784 249.0001,-803.784 256.0001,-803.784\" stroke=\"#000000\"/>\n</g>\n<!-- 140512672887192 -->\n<g class=\"node\" id=\"node20\">\n<title>140512672887192</title>\n<polygon fill=\"none\" points=\"87.5,-664.5 87.5,-710.5 417.5,-710.5 417.5,-664.5 87.5,-664.5\" stroke=\"#000000\"/>\n<text fill=\"#000000\" font-family=\"Times,serif\" font-size=\"14.00\" text-anchor=\"middle\" x=\"157.5\" y=\"-683.8\">conv2d_20: Conv2D</text>\n<polyline fill=\"none\" points=\"227.5,-664.5 227.5,-710.5 \" stroke=\"#000000\"/>\n<text fill=\"#000000\" font-family=\"Times,serif\" font-size=\"14.00\" text-anchor=\"middle\" x=\"256.5\" y=\"-695.3\">input:</text>\n<polyline fill=\"none\" points=\"227.5,-687.5 285.5,-687.5 \" stroke=\"#000000\"/>\n<text fill=\"#000000\" font-family=\"Times,serif\" font-size=\"14.00\" text-anchor=\"middle\" x=\"256.5\" y=\"-672.3\">output:</text>\n<polyline fill=\"none\" points=\"285.5,-664.5 285.5,-710.5 \" stroke=\"#000000\"/>\n<text fill=\"#000000\" font-family=\"Times,serif\" font-size=\"14.00\" text-anchor=\"middle\" x=\"351.5\" y=\"-695.3\">(None, 64, 64, 256)</text>\n<polyline fill=\"none\" points=\"285.5,-687.5 417.5,-687.5 \" stroke=\"#000000\"/>\n<text fill=\"#000000\" font-family=\"Times,serif\" font-size=\"14.00\" text-anchor=\"middle\" x=\"351.5\" y=\"-672.3\">(None, 64, 64, 256)</text>\n</g>\n<!-- 140512672803584&#45;&gt;140512672887192 -->\n<g class=\"edge\" id=\"edge19\">\n<title>140512672803584-&gt;140512672887192</title>\n<path d=\"M252.5,-747.3799C252.5,-739.1745 252.5,-729.7679 252.5,-720.8786\" fill=\"none\" stroke=\"#000000\"/>\n<polygon fill=\"#000000\" points=\"256.0001,-720.784 252.5,-710.784 249.0001,-720.784 256.0001,-720.784\" stroke=\"#000000\"/>\n</g>\n<!-- 140512672940272 -->\n<g class=\"node\" id=\"node21\">\n<title>140512672940272</title>\n<polygon fill=\"none\" points=\"80.5,-581.5 80.5,-627.5 424.5,-627.5 424.5,-581.5 80.5,-581.5\" stroke=\"#000000\"/>\n<text fill=\"#000000\" font-family=\"Times,serif\" font-size=\"14.00\" text-anchor=\"middle\" x=\"157.5\" y=\"-600.8\">activation_7: Activation</text>\n<polyline fill=\"none\" points=\"234.5,-581.5 234.5,-627.5 \" stroke=\"#000000\"/>\n<text fill=\"#000000\" font-family=\"Times,serif\" font-size=\"14.00\" text-anchor=\"middle\" x=\"263.5\" y=\"-612.3\">input:</text>\n<polyline fill=\"none\" points=\"234.5,-604.5 292.5,-604.5 \" stroke=\"#000000\"/>\n<text fill=\"#000000\" font-family=\"Times,serif\" font-size=\"14.00\" text-anchor=\"middle\" x=\"263.5\" y=\"-589.3\">output:</text>\n<polyline fill=\"none\" points=\"292.5,-581.5 292.5,-627.5 \" stroke=\"#000000\"/>\n<text fill=\"#000000\" font-family=\"Times,serif\" font-size=\"14.00\" text-anchor=\"middle\" x=\"358.5\" y=\"-612.3\">(None, 64, 64, 256)</text>\n<polyline fill=\"none\" points=\"292.5,-604.5 424.5,-604.5 \" stroke=\"#000000\"/>\n<text fill=\"#000000\" font-family=\"Times,serif\" font-size=\"14.00\" text-anchor=\"middle\" x=\"358.5\" y=\"-589.3\">(None, 64, 64, 256)</text>\n</g>\n<!-- 140512672887192&#45;&gt;140512672940272 -->\n<g class=\"edge\" id=\"edge20\">\n<title>140512672887192-&gt;140512672940272</title>\n<path d=\"M252.5,-664.3799C252.5,-656.1745 252.5,-646.7679 252.5,-637.8786\" fill=\"none\" stroke=\"#000000\"/>\n<polygon fill=\"#000000\" points=\"256.0001,-637.784 252.5,-627.784 249.0001,-637.784 256.0001,-637.784\" stroke=\"#000000\"/>\n</g>\n<!-- 140512672943072 -->\n<g class=\"node\" id=\"node22\">\n<title>140512672943072</title>\n<polygon fill=\"none\" points=\"4,-498.5 4,-544.5 501,-544.5 501,-498.5 4,-498.5\" stroke=\"#000000\"/>\n<text fill=\"#000000\" font-family=\"Times,serif\" font-size=\"14.00\" text-anchor=\"middle\" x=\"157.5\" y=\"-517.8\">instance_normalization_17: InstanceNormalization</text>\n<polyline fill=\"none\" points=\"311,-498.5 311,-544.5 \" stroke=\"#000000\"/>\n<text fill=\"#000000\" font-family=\"Times,serif\" font-size=\"14.00\" text-anchor=\"middle\" x=\"340\" y=\"-529.3\">input:</text>\n<polyline fill=\"none\" points=\"311,-521.5 369,-521.5 \" stroke=\"#000000\"/>\n<text fill=\"#000000\" font-family=\"Times,serif\" font-size=\"14.00\" text-anchor=\"middle\" x=\"340\" y=\"-506.3\">output:</text>\n<polyline fill=\"none\" points=\"369,-498.5 369,-544.5 \" stroke=\"#000000\"/>\n<text fill=\"#000000\" font-family=\"Times,serif\" font-size=\"14.00\" text-anchor=\"middle\" x=\"435\" y=\"-529.3\">(None, 64, 64, 256)</text>\n<polyline fill=\"none\" points=\"369,-521.5 501,-521.5 \" stroke=\"#000000\"/>\n<text fill=\"#000000\" font-family=\"Times,serif\" font-size=\"14.00\" text-anchor=\"middle\" x=\"435\" y=\"-506.3\">(None, 64, 64, 256)</text>\n</g>\n<!-- 140512672940272&#45;&gt;140512672943072 -->\n<g class=\"edge\" id=\"edge21\">\n<title>140512672940272-&gt;140512672943072</title>\n<path d=\"M252.5,-581.3799C252.5,-573.1745 252.5,-563.7679 252.5,-554.8786\" fill=\"none\" stroke=\"#000000\"/>\n<polygon fill=\"#000000\" points=\"256.0001,-554.784 252.5,-544.784 249.0001,-554.784 256.0001,-554.784\" stroke=\"#000000\"/>\n</g>\n<!-- 140512672968152 -->\n<g class=\"node\" id=\"node23\">\n<title>140512672968152</title>\n<polygon fill=\"none\" points=\"24.5,-415.5 24.5,-461.5 480.5,-461.5 480.5,-415.5 24.5,-415.5\" stroke=\"#000000\"/>\n<text fill=\"#000000\" font-family=\"Times,serif\" font-size=\"14.00\" text-anchor=\"middle\" x=\"150\" y=\"-434.8\">conv2d_transpose_1: Conv2DTranspose</text>\n<polyline fill=\"none\" points=\"275.5,-415.5 275.5,-461.5 \" stroke=\"#000000\"/>\n<text fill=\"#000000\" font-family=\"Times,serif\" font-size=\"14.00\" text-anchor=\"middle\" x=\"304.5\" y=\"-446.3\">input:</text>\n<polyline fill=\"none\" points=\"275.5,-438.5 333.5,-438.5 \" stroke=\"#000000\"/>\n<text fill=\"#000000\" font-family=\"Times,serif\" font-size=\"14.00\" text-anchor=\"middle\" x=\"304.5\" y=\"-423.3\">output:</text>\n<polyline fill=\"none\" points=\"333.5,-415.5 333.5,-461.5 \" stroke=\"#000000\"/>\n<text fill=\"#000000\" font-family=\"Times,serif\" font-size=\"14.00\" text-anchor=\"middle\" x=\"407\" y=\"-446.3\">(None, 64, 64, 256)</text>\n<polyline fill=\"none\" points=\"333.5,-438.5 480.5,-438.5 \" stroke=\"#000000\"/>\n<text fill=\"#000000\" font-family=\"Times,serif\" font-size=\"14.00\" text-anchor=\"middle\" x=\"407\" y=\"-423.3\">(None, 128, 128, 128)</text>\n</g>\n<!-- 140512672943072&#45;&gt;140512672968152 -->\n<g class=\"edge\" id=\"edge22\">\n<title>140512672943072-&gt;140512672968152</title>\n<path d=\"M252.5,-498.3799C252.5,-490.1745 252.5,-480.7679 252.5,-471.8786\" fill=\"none\" stroke=\"#000000\"/>\n<polygon fill=\"#000000\" points=\"256.0001,-471.784 252.5,-461.784 249.0001,-471.784 256.0001,-471.784\" stroke=\"#000000\"/>\n</g>\n<!-- 140512672527024 -->\n<g class=\"node\" id=\"node24\">\n<title>140512672527024</title>\n<polygon fill=\"none\" points=\"73,-332.5 73,-378.5 432,-378.5 432,-332.5 73,-332.5\" stroke=\"#000000\"/>\n<text fill=\"#000000\" font-family=\"Times,serif\" font-size=\"14.00\" text-anchor=\"middle\" x=\"150\" y=\"-351.8\">activation_8: Activation</text>\n<polyline fill=\"none\" points=\"227,-332.5 227,-378.5 \" stroke=\"#000000\"/>\n<text fill=\"#000000\" font-family=\"Times,serif\" font-size=\"14.00\" text-anchor=\"middle\" x=\"256\" y=\"-363.3\">input:</text>\n<polyline fill=\"none\" points=\"227,-355.5 285,-355.5 \" stroke=\"#000000\"/>\n<text fill=\"#000000\" font-family=\"Times,serif\" font-size=\"14.00\" text-anchor=\"middle\" x=\"256\" y=\"-340.3\">output:</text>\n<polyline fill=\"none\" points=\"285,-332.5 285,-378.5 \" stroke=\"#000000\"/>\n<text fill=\"#000000\" font-family=\"Times,serif\" font-size=\"14.00\" text-anchor=\"middle\" x=\"358.5\" y=\"-363.3\">(None, 128, 128, 128)</text>\n<polyline fill=\"none\" points=\"285,-355.5 432,-355.5 \" stroke=\"#000000\"/>\n<text fill=\"#000000\" font-family=\"Times,serif\" font-size=\"14.00\" text-anchor=\"middle\" x=\"358.5\" y=\"-340.3\">(None, 128, 128, 128)</text>\n</g>\n<!-- 140512672968152&#45;&gt;140512672527024 -->\n<g class=\"edge\" id=\"edge23\">\n<title>140512672968152-&gt;140512672527024</title>\n<path d=\"M252.5,-415.3799C252.5,-407.1745 252.5,-397.7679 252.5,-388.8786\" fill=\"none\" stroke=\"#000000\"/>\n<polygon fill=\"#000000\" points=\"256.0001,-388.784 252.5,-378.784 249.0001,-388.784 256.0001,-388.784\" stroke=\"#000000\"/>\n</g>\n<!-- 140512672529152 -->\n<g class=\"node\" id=\"node25\">\n<title>140512672529152</title>\n<polygon fill=\"none\" points=\"80,-249.5 80,-295.5 425,-295.5 425,-249.5 80,-249.5\" stroke=\"#000000\"/>\n<text fill=\"#000000\" font-family=\"Times,serif\" font-size=\"14.00\" text-anchor=\"middle\" x=\"150\" y=\"-268.8\">conv2d_21: Conv2D</text>\n<polyline fill=\"none\" points=\"220,-249.5 220,-295.5 \" stroke=\"#000000\"/>\n<text fill=\"#000000\" font-family=\"Times,serif\" font-size=\"14.00\" text-anchor=\"middle\" x=\"249\" y=\"-280.3\">input:</text>\n<polyline fill=\"none\" points=\"220,-272.5 278,-272.5 \" stroke=\"#000000\"/>\n<text fill=\"#000000\" font-family=\"Times,serif\" font-size=\"14.00\" text-anchor=\"middle\" x=\"249\" y=\"-257.3\">output:</text>\n<polyline fill=\"none\" points=\"278,-249.5 278,-295.5 \" stroke=\"#000000\"/>\n<text fill=\"#000000\" font-family=\"Times,serif\" font-size=\"14.00\" text-anchor=\"middle\" x=\"351.5\" y=\"-280.3\">(None, 128, 128, 128)</text>\n<polyline fill=\"none\" points=\"278,-272.5 425,-272.5 \" stroke=\"#000000\"/>\n<text fill=\"#000000\" font-family=\"Times,serif\" font-size=\"14.00\" text-anchor=\"middle\" x=\"351.5\" y=\"-257.3\">(None, 128, 128, 64)</text>\n</g>\n<!-- 140512672527024&#45;&gt;140512672529152 -->\n<g class=\"edge\" id=\"edge24\">\n<title>140512672527024-&gt;140512672529152</title>\n<path d=\"M252.5,-332.3799C252.5,-324.1745 252.5,-314.7679 252.5,-305.8786\" fill=\"none\" stroke=\"#000000\"/>\n<polygon fill=\"#000000\" points=\"256.0001,-305.784 252.5,-295.784 249.0001,-305.784 256.0001,-305.784\" stroke=\"#000000\"/>\n</g>\n<!-- 140512672645192 -->\n<g class=\"node\" id=\"node26\">\n<title>140512672645192</title>\n<polygon fill=\"none\" points=\"76.5,-166.5 76.5,-212.5 428.5,-212.5 428.5,-166.5 76.5,-166.5\" stroke=\"#000000\"/>\n<text fill=\"#000000\" font-family=\"Times,serif\" font-size=\"14.00\" text-anchor=\"middle\" x=\"153.5\" y=\"-185.8\">activation_9: Activation</text>\n<polyline fill=\"none\" points=\"230.5,-166.5 230.5,-212.5 \" stroke=\"#000000\"/>\n<text fill=\"#000000\" font-family=\"Times,serif\" font-size=\"14.00\" text-anchor=\"middle\" x=\"259.5\" y=\"-197.3\">input:</text>\n<polyline fill=\"none\" points=\"230.5,-189.5 288.5,-189.5 \" stroke=\"#000000\"/>\n<text fill=\"#000000\" font-family=\"Times,serif\" font-size=\"14.00\" text-anchor=\"middle\" x=\"259.5\" y=\"-174.3\">output:</text>\n<polyline fill=\"none\" points=\"288.5,-166.5 288.5,-212.5 \" stroke=\"#000000\"/>\n<text fill=\"#000000\" font-family=\"Times,serif\" font-size=\"14.00\" text-anchor=\"middle\" x=\"358.5\" y=\"-197.3\">(None, 128, 128, 64)</text>\n<polyline fill=\"none\" points=\"288.5,-189.5 428.5,-189.5 \" stroke=\"#000000\"/>\n<text fill=\"#000000\" font-family=\"Times,serif\" font-size=\"14.00\" text-anchor=\"middle\" x=\"358.5\" y=\"-174.3\">(None, 128, 128, 64)</text>\n</g>\n<!-- 140512672529152&#45;&gt;140512672645192 -->\n<g class=\"edge\" id=\"edge25\">\n<title>140512672529152-&gt;140512672645192</title>\n<path d=\"M252.5,-249.3799C252.5,-241.1745 252.5,-231.7679 252.5,-222.8786\" fill=\"none\" stroke=\"#000000\"/>\n<polygon fill=\"#000000\" points=\"256.0001,-222.784 252.5,-212.784 249.0001,-222.784 256.0001,-222.784\" stroke=\"#000000\"/>\n</g>\n<!-- 140512672645696 -->\n<g class=\"node\" id=\"node27\">\n<title>140512672645696</title>\n<polygon fill=\"none\" points=\"0,-83.5 0,-129.5 505,-129.5 505,-83.5 0,-83.5\" stroke=\"#000000\"/>\n<text fill=\"#000000\" font-family=\"Times,serif\" font-size=\"14.00\" text-anchor=\"middle\" x=\"153.5\" y=\"-102.8\">instance_normalization_18: InstanceNormalization</text>\n<polyline fill=\"none\" points=\"307,-83.5 307,-129.5 \" stroke=\"#000000\"/>\n<text fill=\"#000000\" font-family=\"Times,serif\" font-size=\"14.00\" text-anchor=\"middle\" x=\"336\" y=\"-114.3\">input:</text>\n<polyline fill=\"none\" points=\"307,-106.5 365,-106.5 \" stroke=\"#000000\"/>\n<text fill=\"#000000\" font-family=\"Times,serif\" font-size=\"14.00\" text-anchor=\"middle\" x=\"336\" y=\"-91.3\">output:</text>\n<polyline fill=\"none\" points=\"365,-83.5 365,-129.5 \" stroke=\"#000000\"/>\n<text fill=\"#000000\" font-family=\"Times,serif\" font-size=\"14.00\" text-anchor=\"middle\" x=\"435\" y=\"-114.3\">(None, 128, 128, 64)</text>\n<polyline fill=\"none\" points=\"365,-106.5 505,-106.5 \" stroke=\"#000000\"/>\n<text fill=\"#000000\" font-family=\"Times,serif\" font-size=\"14.00\" text-anchor=\"middle\" x=\"435\" y=\"-91.3\">(None, 128, 128, 64)</text>\n</g>\n<!-- 140512672645192&#45;&gt;140512672645696 -->\n<g class=\"edge\" id=\"edge26\">\n<title>140512672645192-&gt;140512672645696</title>\n<path d=\"M252.5,-166.3799C252.5,-158.1745 252.5,-148.7679 252.5,-139.8786\" fill=\"none\" stroke=\"#000000\"/>\n<polygon fill=\"#000000\" points=\"256.0001,-139.784 252.5,-129.784 249.0001,-139.784 256.0001,-139.784\" stroke=\"#000000\"/>\n</g>\n<!-- 140512672648944 -->\n<g class=\"node\" id=\"node28\">\n<title>140512672648944</title>\n<polygon fill=\"none\" points=\"83.5,-.5 83.5,-46.5 421.5,-46.5 421.5,-.5 83.5,-.5\" stroke=\"#000000\"/>\n<text fill=\"#000000\" font-family=\"Times,serif\" font-size=\"14.00\" text-anchor=\"middle\" x=\"153.5\" y=\"-19.8\">conv2d_22: Conv2D</text>\n<polyline fill=\"none\" points=\"223.5,-.5 223.5,-46.5 \" stroke=\"#000000\"/>\n<text fill=\"#000000\" font-family=\"Times,serif\" font-size=\"14.00\" text-anchor=\"middle\" x=\"252.5\" y=\"-31.3\">input:</text>\n<polyline fill=\"none\" points=\"223.5,-23.5 281.5,-23.5 \" stroke=\"#000000\"/>\n<text fill=\"#000000\" font-family=\"Times,serif\" font-size=\"14.00\" text-anchor=\"middle\" x=\"252.5\" y=\"-8.3\">output:</text>\n<polyline fill=\"none\" points=\"281.5,-.5 281.5,-46.5 \" stroke=\"#000000\"/>\n<text fill=\"#000000\" font-family=\"Times,serif\" font-size=\"14.00\" text-anchor=\"middle\" x=\"351.5\" y=\"-31.3\">(None, 128, 128, 64)</text>\n<polyline fill=\"none\" points=\"281.5,-23.5 421.5,-23.5 \" stroke=\"#000000\"/>\n<text fill=\"#000000\" font-family=\"Times,serif\" font-size=\"14.00\" text-anchor=\"middle\" x=\"351.5\" y=\"-8.3\">(None, 128, 128, 3)</text>\n</g>\n<!-- 140512672645696&#45;&gt;140512672648944 -->\n<g class=\"edge\" id=\"edge27\">\n<title>140512672645696-&gt;140512672648944</title>\n<path d=\"M252.5,-83.3799C252.5,-75.1745 252.5,-65.7679 252.5,-56.8786\" fill=\"none\" stroke=\"#000000\"/>\n<polygon fill=\"#000000\" points=\"256.0001,-56.784 252.5,-46.784 249.0001,-56.784 256.0001,-56.784\" stroke=\"#000000\"/>\n</g>\n</g>\n</svg>"
          },
          "metadata": {
            "tags": []
          },
          "execution_count": 11
        }
      ]
    },
    {
      "cell_type": "markdown",
      "metadata": {
        "id": "E2dBxN2AI692",
        "colab_type": "text"
      },
      "source": [
        "## GAN"
      ]
    },
    {
      "cell_type": "code",
      "metadata": {
        "id": "gFZcvhAaJews",
        "colab_type": "code",
        "colab": {}
      },
      "source": [
        "def build_gan():\n",
        "    discriminator.trainable = False\n",
        "\n",
        "    gan_input = Input(shape=(IMAGE_SZ, IMAGE_SZ, 3))      ## These are masked or Padded Images of shape 128x128 but the 0 to 32 and 96 to 128 will be masked\n",
        "    generated_image = generator(gan_input)\n",
        "    gan_output = discriminator(generated_image)\n",
        "    \n",
        "    gan = Model(gan_input,[generated_image, gan_output])\n",
        "    return gan"
      ],
      "execution_count": 0,
      "outputs": []
    },
    {
      "cell_type": "code",
      "metadata": {
        "id": "vsz2QBOKNbGW",
        "colab_type": "code",
        "outputId": "bd8021e3-18ab-4878-bc9c-923645698519",
        "colab": {
          "base_uri": "https://localhost:8080/",
          "height": 502
        }
      },
      "source": [
        "gan = build_gan()\n",
        "alpha=0.0004\n",
        "gan.compile(loss = [losses.MSE, losses.MSE], optimizer = optimizers.Adam(lr=0.0001, beta_1=0.5), loss_weights = [1, alpha])\n",
        "gan.summary()\n",
        "\n",
        "SVG(model_to_dot(gan, show_layer_names=True, show_shapes=True, dpi=60).create(prog='dot', format='svg'))"
      ],
      "execution_count": 13,
      "outputs": [
        {
          "output_type": "stream",
          "text": [
            "Model: \"model_3\"\n",
            "_________________________________________________________________\n",
            "Layer (type)                 Output Shape              Param #   \n",
            "=================================================================\n",
            "input_3 (InputLayer)         (None, 128, 128, 3)       0         \n",
            "_________________________________________________________________\n",
            "model_2 (Model)              (None, 128, 128, 3)       3334163   \n",
            "_________________________________________________________________\n",
            "model_1 (Model)              (None, 1)                 3502869   \n",
            "=================================================================\n",
            "Total params: 6,837,032\n",
            "Trainable params: 3,334,163\n",
            "Non-trainable params: 3,502,869\n",
            "_________________________________________________________________\n"
          ],
          "name": "stdout"
        },
        {
          "output_type": "execute_result",
          "data": {
            "text/plain": [
              "<IPython.core.display.SVG object>"
            ],
            "image/svg+xml": "<svg height=\"184pt\" viewBox=\"0.00 0.00 331.00 221.00\" width=\"276pt\" xmlns=\"http://www.w3.org/2000/svg\" xmlns:xlink=\"http://www.w3.org/1999/xlink\">\n<g class=\"graph\" id=\"graph0\" transform=\"scale(.8333 .8333) rotate(0) translate(4 217)\">\n<title>G</title>\n<polygon fill=\"#ffffff\" points=\"-4,4 -4,-217 327,-217 327,4 -4,4\" stroke=\"transparent\"/>\n<!-- 140512670314904 -->\n<g class=\"node\" id=\"node1\">\n<title>140512670314904</title>\n<polygon fill=\"none\" points=\"0,-166.5 0,-212.5 323,-212.5 323,-166.5 0,-166.5\" stroke=\"#000000\"/>\n<text fill=\"#000000\" font-family=\"Times,serif\" font-size=\"14.00\" text-anchor=\"middle\" x=\"66.5\" y=\"-185.8\">input_3: InputLayer</text>\n<polyline fill=\"none\" points=\"133,-166.5 133,-212.5 \" stroke=\"#000000\"/>\n<text fill=\"#000000\" font-family=\"Times,serif\" font-size=\"14.00\" text-anchor=\"middle\" x=\"162\" y=\"-197.3\">input:</text>\n<polyline fill=\"none\" points=\"133,-189.5 191,-189.5 \" stroke=\"#000000\"/>\n<text fill=\"#000000\" font-family=\"Times,serif\" font-size=\"14.00\" text-anchor=\"middle\" x=\"162\" y=\"-174.3\">output:</text>\n<polyline fill=\"none\" points=\"191,-166.5 191,-212.5 \" stroke=\"#000000\"/>\n<text fill=\"#000000\" font-family=\"Times,serif\" font-size=\"14.00\" text-anchor=\"middle\" x=\"257\" y=\"-197.3\">(None, 128, 128, 3)</text>\n<polyline fill=\"none\" points=\"191,-189.5 323,-189.5 \" stroke=\"#000000\"/>\n<text fill=\"#000000\" font-family=\"Times,serif\" font-size=\"14.00\" text-anchor=\"middle\" x=\"257\" y=\"-174.3\">(None, 128, 128, 3)</text>\n</g>\n<!-- 140512672725256 -->\n<g class=\"node\" id=\"node2\">\n<title>140512672725256</title>\n<polygon fill=\"none\" points=\"10,-83.5 10,-129.5 313,-129.5 313,-83.5 10,-83.5\" stroke=\"#000000\"/>\n<text fill=\"#000000\" font-family=\"Times,serif\" font-size=\"14.00\" text-anchor=\"middle\" x=\"66.5\" y=\"-102.8\">model_2: Model</text>\n<polyline fill=\"none\" points=\"123,-83.5 123,-129.5 \" stroke=\"#000000\"/>\n<text fill=\"#000000\" font-family=\"Times,serif\" font-size=\"14.00\" text-anchor=\"middle\" x=\"152\" y=\"-114.3\">input:</text>\n<polyline fill=\"none\" points=\"123,-106.5 181,-106.5 \" stroke=\"#000000\"/>\n<text fill=\"#000000\" font-family=\"Times,serif\" font-size=\"14.00\" text-anchor=\"middle\" x=\"152\" y=\"-91.3\">output:</text>\n<polyline fill=\"none\" points=\"181,-83.5 181,-129.5 \" stroke=\"#000000\"/>\n<text fill=\"#000000\" font-family=\"Times,serif\" font-size=\"14.00\" text-anchor=\"middle\" x=\"247\" y=\"-114.3\">(None, 128, 128, 3)</text>\n<polyline fill=\"none\" points=\"181,-106.5 313,-106.5 \" stroke=\"#000000\"/>\n<text fill=\"#000000\" font-family=\"Times,serif\" font-size=\"14.00\" text-anchor=\"middle\" x=\"247\" y=\"-91.3\">(None, 128, 128, 3)</text>\n</g>\n<!-- 140512670314904&#45;&gt;140512672725256 -->\n<g class=\"edge\" id=\"edge1\">\n<title>140512670314904-&gt;140512672725256</title>\n<path d=\"M161.5,-166.3799C161.5,-158.1745 161.5,-148.7679 161.5,-139.8786\" fill=\"none\" stroke=\"#000000\"/>\n<polygon fill=\"#000000\" points=\"165.0001,-139.784 161.5,-129.784 158.0001,-139.784 165.0001,-139.784\" stroke=\"#000000\"/>\n</g>\n<!-- 140512686401352 -->\n<g class=\"node\" id=\"node3\">\n<title>140512686401352</title>\n<polygon fill=\"none\" points=\"10,-.5 10,-46.5 313,-46.5 313,-.5 10,-.5\" stroke=\"#000000\"/>\n<text fill=\"#000000\" font-family=\"Times,serif\" font-size=\"14.00\" text-anchor=\"middle\" x=\"66.5\" y=\"-19.8\">model_1: Model</text>\n<polyline fill=\"none\" points=\"123,-.5 123,-46.5 \" stroke=\"#000000\"/>\n<text fill=\"#000000\" font-family=\"Times,serif\" font-size=\"14.00\" text-anchor=\"middle\" x=\"152\" y=\"-31.3\">input:</text>\n<polyline fill=\"none\" points=\"123,-23.5 181,-23.5 \" stroke=\"#000000\"/>\n<text fill=\"#000000\" font-family=\"Times,serif\" font-size=\"14.00\" text-anchor=\"middle\" x=\"152\" y=\"-8.3\">output:</text>\n<polyline fill=\"none\" points=\"181,-.5 181,-46.5 \" stroke=\"#000000\"/>\n<text fill=\"#000000\" font-family=\"Times,serif\" font-size=\"14.00\" text-anchor=\"middle\" x=\"247\" y=\"-31.3\">(None, 128, 128, 3)</text>\n<polyline fill=\"none\" points=\"181,-23.5 313,-23.5 \" stroke=\"#000000\"/>\n<text fill=\"#000000\" font-family=\"Times,serif\" font-size=\"14.00\" text-anchor=\"middle\" x=\"247\" y=\"-8.3\">(None, 1)</text>\n</g>\n<!-- 140512672725256&#45;&gt;140512686401352 -->\n<g class=\"edge\" id=\"edge2\">\n<title>140512672725256-&gt;140512686401352</title>\n<path d=\"M161.5,-83.3799C161.5,-75.1745 161.5,-65.7679 161.5,-56.8786\" fill=\"none\" stroke=\"#000000\"/>\n<polygon fill=\"#000000\" points=\"165.0001,-56.784 161.5,-46.784 158.0001,-56.784 165.0001,-56.784\" stroke=\"#000000\"/>\n</g>\n</g>\n</svg>"
          },
          "metadata": {
            "tags": []
          },
          "execution_count": 13
        }
      ]
    },
    {
      "cell_type": "markdown",
      "metadata": {
        "id": "l4d8F0nZNlgf",
        "colab_type": "text"
      },
      "source": [
        "# Masking and Unmasking"
      ]
    },
    {
      "cell_type": "code",
      "metadata": {
        "id": "ZjhzOJNaVUY3",
        "colab_type": "code",
        "colab": {}
      },
      "source": [
        "padding_width = int(IMAGE_SZ / 4)\n",
        "\n",
        "def get_masked_images(imgs, padding_width):\n",
        "    padded_imgs = np.copy(imgs)\n",
        "    pix_avg = np.mean(padded_imgs, axis=(1, 2, 3))\n",
        "    padded_imgs[:, :, :padding_width, :] = padded_imgs[:, :, -padding_width:, :] = pix_avg.reshape(-1, 1, 1, 1) #calculating mean pixel intensity and place it masked pixels\n",
        "    return padded_imgs\n",
        "\n",
        "def crop_and_resize_image(img, img_size):\n",
        "    source_size = img.size\n",
        "    if source_size == img_size:\n",
        "        return img\n",
        "    img = img.resize(img_size)\n",
        "    return img\n",
        "    \n",
        "def renorm_image(img_norm):\n",
        "    img_renorm = (img_norm * 255).astype(np.uint8)\n",
        "    return img_renorm"
      ],
      "execution_count": 0,
      "outputs": []
    },
    {
      "cell_type": "code",
      "metadata": {
        "id": "EK9Mhl-VsJrt",
        "colab_type": "code",
        "colab": {}
      },
      "source": [
        "class DataGenerator(object):\n",
        "    def __init__(self, root_dir, img_size= (128, 128), batch_size=32, padding_width= 32, validation_rate=0.1):\n",
        "        self.batch_size = batch_size\n",
        "        self.img_size = img_size\n",
        "        self.padding_width = padding_width\n",
        "\n",
        "        self.reset()\n",
        "        self.img_file_list = [] # all the images\n",
        "\n",
        "        for root, dirs, files in os.walk(root_dir):\n",
        "            for f in files:\n",
        "                full_path = os.path.join(root, f)\n",
        "                if imghdr.what(full_path) is None:\n",
        "                    continue\n",
        "                self.img_file_list.append(full_path)\n",
        "        \n",
        "        validation_size = math.floor(validation_rate*len(self.img_file_list)) #validation dataset size\n",
        "        self.validation_file_list = self.img_file_list[:validation_size] #### shouldn't this be reverse???\n",
        "        self.img_file_list = self.img_file_list[validation_size: ]\n",
        "\n",
        "    def __len__(self):\n",
        "        return len(self.img_file_list)\n",
        "\n",
        "    def reset(self):\n",
        "        self.images = []\n",
        "        self.points = []\n",
        "        self.masks = []\n",
        "\n",
        "    def get_file_generator(self, file_list, shuffle=True):\n",
        "        while True:\n",
        "            if shuffle:\n",
        "                np.random.shuffle(file_list)\n",
        "            for f in file_list:\n",
        "                img = crop_and_resize_image(load_img(f), self.img_size) # loading an image and resize\n",
        "                self.images.append(img_to_array(img))\n",
        "\n",
        "                if len(self.images) == self.batch_size: # creating a batch\n",
        "                    imgs = (np.asarray(self.images, dtype=np.float32) / 255.0) * 2 - 1 # Normalizing the Images for an entire batch\n",
        "                    self.reset()\n",
        "                    yield get_masked_images(imgs, self.padding_width), imgs # returns both masked and actual images\n",
        "\n",
        "    def flow(self):\n",
        "        return self.get_file_generator(self.img_file_list) \n",
        "\n",
        "    def validation_flow(self, validation_steps=1):\n",
        "        return self.get_file_generator(self.validation_file_list, shuffle=False)"
      ],
      "execution_count": 0,
      "outputs": []
    },
    {
      "cell_type": "code",
      "metadata": {
        "id": "uLNbH3aO7SJZ",
        "colab_type": "code",
        "colab": {}
      },
      "source": [
        "def plot_history(loss_history, model_name):\n",
        "    plt.plot(loss_history['loss'])\n",
        "    plt.plot(loss_history['val_loss'])\n",
        "    plt.title('model accuracy')\n",
        "    plt.ylabel('accuracy')\n",
        "    plt.xlabel('epoch')\n",
        "    plt.legend(['train', 'test'], loc='upper left')\n",
        "    # summarize history for loss plt.plot(history.history['loss']) plt.plot(history.history['val_loss']) plt.title('model loss')\n",
        "    plt.ylabel('loss')\n",
        "    plt.xlabel('epoch')\n",
        "    plt.savefig('/content/drive/My Drive/Colab Notebooks/CSE676: Deep Learning/Project 2/log/{}'.format(model_name)) #, transparent=True\n",
        "    plt.close()"
      ],
      "execution_count": 0,
      "outputs": []
    },
    {
      "cell_type": "code",
      "metadata": {
        "id": "pwROmym57kHj",
        "colab_type": "code",
        "colab": {}
      },
      "source": [
        "def plot_generated_image(generator, data_generator):\n",
        "    masked_images, images = next(data_generator.validation_flow()) # change this later to Train and Val.. validation flow must be train\n",
        "    generated_images = generator.predict(masked_images)\n",
        "    plt.figure(figsize=(3, 6))\n",
        "    plt.axis('off')\n",
        "    plt.xticks([])\n",
        "    plt.yticks([])\n",
        "    for i in range(5):\n",
        "        plt.subplot(5, 2, 2* i+1)\n",
        "        plt.xticks([])\n",
        "        plt.yticks([])\n",
        "        plt.imshow((generated_images[i] + 1) / 2)\n",
        "        plt.subplot(5, 2, 2* i + 2)\n",
        "        plt.xticks([])\n",
        "        plt.yticks([])\n",
        "        plt.imshow((images[i] + 1) / 2)\n",
        "    plt.savefig('/content/drive/My Drive/Colab Notebooks/CSE676: Deep Learning/Project 2/log/{}'.format('test')) #, transparent=True\n",
        "    plt.close()"
      ],
      "execution_count": 0,
      "outputs": []
    },
    {
      "cell_type": "code",
      "metadata": {
        "id": "oC5958GS9lXA",
        "colab_type": "code",
        "colab": {}
      },
      "source": [
        "def get_counter():\n",
        "    counter = 0\n",
        "\n",
        "    def inner_func():\n",
        "        nonlocal counter\n",
        "        counter += 1\n",
        "        if counter == 20:\n",
        "            counter = 0\n",
        "            return True\n",
        "        return False\n",
        "    return inner_func\n",
        "\n",
        "def printmd(string):\n",
        "    display(Markdown(string))"
      ],
      "execution_count": 0,
      "outputs": []
    },
    {
      "cell_type": "code",
      "metadata": {
        "id": "9saiZRUt-G42",
        "colab_type": "code",
        "colab": {}
      },
      "source": [
        "def image_and_label(generator, masked_images, real_images, batch_size):\n",
        "    generated_images = generator.predict(masked_images)\n",
        "    combined_images = np.concatenate([generated_images, real_images])\n",
        "    labels = np.concatenate([np.zeros((batch_size, 1), dtype='float32'), np.ones((batch_size, 1), dtype='float32')])\n",
        "    return combined_images, labels\n",
        "\n",
        "def train(path, batch_size = 32, epochs = 1000, steps_per_epoch=None):\n",
        "    input_shape = (128, 128, 3)\n",
        "    padding_width = 32\n",
        "    is_log = get_counter()\n",
        "\n",
        "    data_generator = DataGenerator(path, img_size=(128, 128), batch_size=32, padding_width=padding_width)\n",
        "    data_size = len(data_generator)\n",
        "    print('data size: {}'.format(data_size))\n",
        "\n",
        "    if steps_per_epoch is None:\n",
        "        steps_per_epoch = data_size // batch_size\n",
        "\n",
        "    t1_epochs = epochs * 18 // 100\n",
        "    t2_epcohs = epochs * 2 // 100\n",
        "    t3_epochs = epochs * 80 // 100\n",
        "\n",
        "\n",
        "    generator_history = {'loss': [], 'val_loss': []}\n",
        "    discriminator_history = {'loss': [], 'val_loss': []}\n",
        "    gan_history = {'loss': [], 'val_loss': []}\n",
        "\n",
        "    class LogCallback(keras.callbacks.Callback):\n",
        "        def on_batch_end(self, batch, logs=None):\n",
        "            if is_log():\n",
        "                generator_history['loss'].append(logs['loss'])\n",
        "                masked_images, real_images = next(data_generator.validation_flow())\n",
        "                val_loss = generator.evaluate(masked_images, real_images, batch_size)\n",
        "                generator_history['val_loss'].append(val_loss)\n",
        "                plot_history(generator_history, 'Generator')\n",
        "                plot_generated_image(generator, data_generator)\n",
        "    \n",
        "    printmd('Phase 1 - Updating the Generator')\n",
        "    if os.path.exists('/content/drive/My Drive/Colab Notebooks/CSE676: Deep Learning/Project 2/checkpoint/generator.h5'):\n",
        "        generator.load_weights('/content/drive/My Drive/Colab Notebooks/CSE676: Deep Learning/Project 2/checkpoint/generator.h5')\n",
        "        generator_history = json.load(open('/content/drive/My Drive/Colab Notebooks/CSE676: Deep Learning/Project 2/checkpoint/generator_history.json', 'r', encoding='utf-8'))\n",
        "        print('Get Trained Generator Weight')\n",
        "    else:\n",
        "        logcallback_object = LogCallback()\n",
        "        generator_loss = generator.fit_generator(data_generator.flow(), epochs=t1_epochs, steps_per_epoch=steps_per_epoch, validation_data=data_generator.validation_flow(), validation_steps=2, callbacks=[logcallback_object])\n",
        "        generator.save_weights('/content/drive/My Drive/Colab Notebooks/CSE676: Deep Learning/Project 2/checkpoint/generator.h5') \n",
        "        generator_history = generator_loss.history   \n",
        "        json.dump(generator_history, open('/content/drive/My Drive/Colab Notebooks/CSE676: Deep Learning/Project 2/checkpoint/generator_history.json', 'w', encoding='utf-8'))\n",
        "    \n",
        "    json.dump(gan_history, open('/content/drive/My Drive/Colab Notebooks/CSE676: Deep Learning/Project 2/checkpoint/gan_history.json', 'w', encoding='utf-8'))\n",
        "    json.dump(discriminator_history, open('/content/drive/My Drive/Colab Notebooks/CSE676: Deep Learning/Project 2/checkpoint/discriminator_history.json', 'w', encoding='utf-8'))\n",
        "    json.dump(generator_history, open('/content/drive/My Drive/Colab Notebooks/CSE676: Deep Learning/Project 2/checkpoint/generator_end_history.json', 'w', encoding='utf-8'))\n",
        "\n",
        "    gan.save_weights('/content/drive/My Drive/Colab Notebooks/CSE676: Deep Learning/Project 2/checkpoint/gan.h5')\n",
        "    discriminator.save_weights('/content/drive/My Drive/Colab Notebooks/CSE676: Deep Learning/Project 2/checkpoint/discriminator.h5')\n",
        "    generator.save_weights('/content/drive/My Drive/Colab Notebooks/CSE676: Deep Learning/Project 2/checkpoint/generator_end.h5')\n",
        "\n",
        "    print('Phase 2 - Updating the Discriminator')\n",
        "    counter = 0\n",
        "    for current_epoch in range(t2_epcohs):\n",
        "        print('Epoch {}/{}'.format(current_epoch, t2_epcohs))\n",
        "        progressbar = generic_utils.Progbar(steps_per_epoch)\n",
        "        for data in itertools.islice(data_generator.flow(), None, steps_per_epoch):\n",
        "            masked_images, real_images = data\n",
        "            fake_images = generator.predict(masked_images)\n",
        "            disc_loss_real = discriminator.train_on_batch(real_images, np.ones(batch_size, dtype='float32'))\n",
        "            disc_loss_fake = discriminator.train_on_batch(fake_images, np.zeros(batch_size, dtype='float32'))\n",
        "\n",
        "            disc_loss = (disc_loss_real + disc_loss_fake)/2\n",
        "\n",
        "            progressbar.add(1, values = [('Discriminator Loss', disc_loss)])\n",
        "            if is_log():\n",
        "                discriminator_history['loss'].append(float(disc_loss))\n",
        "                masked_images, real_images = next(data_generator.validation_flow())\n",
        "                combined_images, labels = image_and_label(generator, masked_images, real_images, batch_size)\n",
        "                disc_val_loss = discriminator.evaluate(combined_images, labels)\n",
        "                discriminator_history['val_loss'].append(float(disc_val_loss))\n",
        "                plot_history(discriminator_history, 'Discriminator')\n",
        "\n",
        "    print('Phase 3 - Training the Generator and Discriminator Adversarially')\n",
        "    for current_epoch in range(t3_epochs):\n",
        "        print('Epoch {}/{}'.format(current_epoch, t3_epochs))\n",
        "        progressbar = generic_utils.Progbar(steps_per_epoch)\n",
        "        for data in itertools.islice(data_generator.flow(), None, steps_per_epoch):\n",
        "            masked_images, real_images = data\n",
        "            fake_images = generator.predict(masked_images)\n",
        "            disc_loss_real = discriminator.train_on_batch(real_images, np.ones(batch_size, dtype='float32'))\n",
        "            disc_loss_fake = discriminator.train_on_batch(fake_images, np.zeros(batch_size, dtype='float32'))\n",
        "\n",
        "            disc_loss = (disc_loss_real + disc_loss_fake)/2\n",
        "\n",
        "            gan_loss = gan.train_on_batch(masked_images, [real_images, np.ones((batch_size, 1), dtype='float32')])\n",
        "\n",
        "            progressbar.add(1, values = [('Discriminator Loss', disc_loss), ('GAN Loss', gan_loss[0]), ('Generator Loss', gan_loss[1])])\n",
        "\n",
        "            if is_log():\n",
        "                discriminator_history['loss'].append(float(disc_loss))\n",
        "                gan_history['loss'].append(float(gan_loss[0]))\n",
        "                generator_history['loss'].append(float(gan_loss[1]))\n",
        "                masked_iamges, real_images = next(data_generator.validation_flow())\n",
        "                gan_loss = gan.evaluate(masked_iamges, [real_images, np.ones((batch_size, 1), dtype='float32')])\n",
        "                combined_images, labels = image_and_label(generator, masked_iamges, real_images, batch_size)\n",
        "                disc_loss = discriminator.evaluate(combined_images, labels)\n",
        "                discriminator_history['val_loss'].append(float(disc_loss))\n",
        "                gan_history['val_loss'].append(float(gan_loss[0]))\n",
        "                generator_history['val_loss'].append(float(gan_loss[1]))\n",
        "                plot_history(discriminator_history, 'Discriminator')\n",
        "                plot_history(gan_history, 'GAN')\n",
        "                plot_history(generator_history, 'Generator')\n",
        "                plot_generated_image(generator, data_generator)\n",
        "    \n",
        "    generator.save_weights('/content/drive/My Drive/Colab Notebooks/CSE676: Deep Learning/Project 2/checkpoint/generator_end.h5')\n",
        "    json.dump(generator_history, open('/content/drive/My Drive/Colab Notebooks/CSE676: Deep Learning/Project 2/checkpoint/generator_end_history.json', 'w', encoding='utf-8'))\n",
        "    discriminator.save_weights('/content/drive/My Drive/Colab Notebooks/CSE676: Deep Learning/Project 2/checkpoint/discriminator.h5')\n",
        "    json.dump(discriminator_history, open('/content/drive/My Drive/Colab Notebooks/CSE676: Deep Learning/Project 2/checkpoint/discriminator_history.json', 'w', encoding='utf-8'))"
      ],
      "execution_count": 0,
      "outputs": []
    },
    {
      "cell_type": "code",
      "metadata": {
        "id": "Y3N3-PDTjGX1",
        "colab_type": "code",
        "colab": {}
      },
      "source": [
        "train('/content/drive/My Drive/Colab Notebooks/CSE676: Deep Learning/Project 2/data/train_data/')"
      ],
      "execution_count": 0,
      "outputs": []
    },
    {
      "cell_type": "code",
      "metadata": {
        "id": "I6yhqOytkv5g",
        "colab_type": "code",
        "colab": {}
      },
      "source": [
        "def overfit_a_img(path):\n",
        "    img = PIL.Image.open('/content/drive/My Drive/Colab Notebooks/CSE676: Deep Learning/Project 2/test/bea4.jpg')\n",
        "\n",
        "    img = (np.array([img_to_array(crop_and_resize_image(img, (128, 128)))])/255.0) * 2-1\n",
        "    padded_img = get_masked_images(img, 32)\n",
        "\n",
        "    array_to_img(img[0]).save('/content/drive/My Drive/Colab Notebooks/CSE676: Deep Learning/Project 2/test/aa1.jpg')\n",
        "    array_to_img(padded_img[0]).save('/content/drive/My Drive/Colab Notebooks/CSE676: Deep Learning/Project 2/test/pad1.jpg')\n",
        "\n",
        "    generator.load_weights('/content/drive/My Drive/Colab Notebooks/CSE676: Deep Learning/Project 2/checkpoint/generator_end.h5')\n",
        "    generator.fit(padded_img, img, epochs=10, steps_per_epoch=100)\n",
        "    a = generator.predict(padded_img)\n",
        "    array_to_img((a[0] + 1) / 2).save('/content/drive/My Drive/Colab Notebooks/CSE676: Deep Learning/Project 2/test/444.jpg')"
      ],
      "execution_count": 0,
      "outputs": []
    },
    {
      "cell_type": "code",
      "metadata": {
        "id": "mm7-GHbNCPAV",
        "colab_type": "code",
        "outputId": "903ce49e-b2c1-4e7f-e85e-edb1bf0aee7b",
        "colab": {
          "base_uri": "https://localhost:8080/",
          "height": 642
        }
      },
      "source": [
        "overfit_a_img('/content/drive/My Drive/Colab Notebooks/CSE676: Deep Learning/Project 2/test/bea4.jpg')"
      ],
      "execution_count": 22,
      "outputs": [
        {
          "output_type": "stream",
          "text": [
            "WARNING:tensorflow:From /usr/local/lib/python3.6/dist-packages/keras/backend/tensorflow_backend.py:190: The name tf.get_default_session is deprecated. Please use tf.compat.v1.get_default_session instead.\n",
            "\n",
            "WARNING:tensorflow:From /usr/local/lib/python3.6/dist-packages/keras/backend/tensorflow_backend.py:197: The name tf.ConfigProto is deprecated. Please use tf.compat.v1.ConfigProto instead.\n",
            "\n",
            "WARNING:tensorflow:From /usr/local/lib/python3.6/dist-packages/keras/backend/tensorflow_backend.py:203: The name tf.Session is deprecated. Please use tf.compat.v1.Session instead.\n",
            "\n",
            "WARNING:tensorflow:From /usr/local/lib/python3.6/dist-packages/keras/backend/tensorflow_backend.py:207: The name tf.global_variables is deprecated. Please use tf.compat.v1.global_variables instead.\n",
            "\n",
            "WARNING:tensorflow:From /usr/local/lib/python3.6/dist-packages/keras/backend/tensorflow_backend.py:216: The name tf.is_variable_initialized is deprecated. Please use tf.compat.v1.is_variable_initialized instead.\n",
            "\n",
            "WARNING:tensorflow:From /usr/local/lib/python3.6/dist-packages/keras/backend/tensorflow_backend.py:223: The name tf.variables_initializer is deprecated. Please use tf.compat.v1.variables_initializer instead.\n",
            "\n",
            "WARNING:tensorflow:From /usr/local/lib/python3.6/dist-packages/keras/backend/tensorflow_backend.py:1033: The name tf.assign_add is deprecated. Please use tf.compat.v1.assign_add instead.\n",
            "\n",
            "WARNING:tensorflow:From /usr/local/lib/python3.6/dist-packages/keras/backend/tensorflow_backend.py:1020: The name tf.assign is deprecated. Please use tf.compat.v1.assign instead.\n",
            "\n",
            "Epoch 1/10\n",
            "100/100 [==============================] - 110s 1s/step - loss: 0.1679\n",
            "Epoch 2/10\n",
            "100/100 [==============================] - 108s 1s/step - loss: 0.1543\n",
            "Epoch 3/10\n",
            "100/100 [==============================] - 108s 1s/step - loss: 0.1525\n",
            "Epoch 4/10\n",
            "100/100 [==============================] - 108s 1s/step - loss: 0.1515\n",
            "Epoch 5/10\n",
            "100/100 [==============================] - 108s 1s/step - loss: 0.1509\n",
            "Epoch 6/10\n",
            "100/100 [==============================] - 108s 1s/step - loss: 0.1505\n",
            "Epoch 7/10\n",
            "100/100 [==============================] - 108s 1s/step - loss: 0.1502\n",
            "Epoch 8/10\n",
            "100/100 [==============================] - 106s 1s/step - loss: 0.1500\n",
            "Epoch 9/10\n",
            "100/100 [==============================] - 106s 1s/step - loss: 0.1498\n",
            "Epoch 10/10\n",
            "100/100 [==============================] - 107s 1s/step - loss: 0.1497\n"
          ],
          "name": "stdout"
        }
      ]
    },
    {
      "cell_type": "code",
      "metadata": {
        "id": "dLGykXbSCSku",
        "colab_type": "code",
        "colab": {}
      },
      "source": [
        "# Computing the RMSE between a ground truth and outpainted image\n",
        "def compute_RMSE(image_gt_PATH, image_op_PATH):\n",
        "    image_gt = PIL.Image.open(image_gt_PATH).convert('RGB')\n",
        "    image_gt = np.array(crop_and_resize_image(image_gt, (128, 128)))\n",
        "    image_op = np.array(PIL.Image.open(image_op_PATH).convert('RGB')).astype(np.float64)\n",
        "    assert image_gt.shape == (128, 128, 3)\n",
        "    assert image_op.shape == (128, 128, 3)\n",
        "    M = np.ones((128, 128, 3))\n",
        "    M[:, 32:96:, :] = 0\n",
        "    num_pixels = 128 * 64 * 3\n",
        "    return np.sqrt(np.sum(((image_gt - image_op) * M) ** 2) / num_pixels)"
      ],
      "execution_count": 0,
      "outputs": []
    },
    {
      "cell_type": "code",
      "metadata": {
        "id": "OrXilQlwca9n",
        "colab_type": "code",
        "outputId": "ebcac585-0cf3-4399-ea07-84de9993919e",
        "colab": {
          "base_uri": "https://localhost:8080/",
          "height": 34
        }
      },
      "source": [
        "compute_RMSE('/content/drive/My Drive/Colab Notebooks/CSE676: Deep Learning/Project 2/test/bea4.jpg', '/content/drive/My Drive/Colab Notebooks/CSE676: Deep Learning/Project 2/test/444.jpg')"
      ],
      "execution_count": 24,
      "outputs": [
        {
          "output_type": "execute_result",
          "data": {
            "text/plain": [
              "51.88916567379858"
            ]
          },
          "metadata": {
            "tags": []
          },
          "execution_count": 24
        }
      ]
    },
    {
      "cell_type": "code",
      "metadata": {
        "id": "HIB3Pds1BC6Q",
        "colab_type": "code",
        "colab": {}
      },
      "source": [
        "def generate_all_val():\n",
        "    data_generator = DataGenerator('/content/drive/My Drive/Colab Notebooks/CSE676: Deep Learning/Project 2/data/val_data', (128, 128), 10, 32)\n",
        "    data_size = len(data_generator)\n",
        "\n",
        "    print(len(data_generator.validation_file_list),\n",
        "          len(data_generator.img_file_list))\n",
        "\n",
        "    generator.load_weights('/content/drive/My Drive/Colab Notebooks/CSE676: Deep Learning/Project 2/checkpoint/generator_end.h5')\n",
        "\n",
        "    for ii, val in enumerate(data_generator.validation_flow()):\n",
        "        a = generator.predict(val[0])\n",
        "\n",
        "        for i, img in enumerate(zip(val[1], a)):\n",
        "            array_to_img((img[0] + 1) /\n",
        "                         2).save('/content/drive/My Drive/Colab Notebooks/CSE676: Deep Learning/Project 2/output\\{}-{}.jpg'.format(ii, i))\n",
        "            array_to_img(\n",
        "                img[1] + 1 / 2).save('/content/drive/My Drive/Colab Notebooks/CSE676: Deep Learning/Project 2/output\\{}-{}_gen.jpg'.format(ii, i))\n"
      ],
      "execution_count": 0,
      "outputs": []
    },
    {
      "cell_type": "code",
      "metadata": {
        "id": "IPZeSzn_RP9O",
        "colab_type": "code",
        "colab": {}
      },
      "source": [
        "generate_all_val()"
      ],
      "execution_count": 0,
      "outputs": []
    },
    {
      "cell_type": "code",
      "metadata": {
        "id": "HOeiPYMlRg89",
        "colab_type": "code",
        "colab": {}
      },
      "source": [
        ""
      ],
      "execution_count": 0,
      "outputs": []
    }
  ]
}